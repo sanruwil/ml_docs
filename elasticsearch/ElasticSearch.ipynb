{
 "cells": [
  {
   "cell_type": "code",
   "execution_count": 1,
   "id": "2dbe8851",
   "metadata": {},
   "outputs": [],
   "source": [
    "from elasticsearch import Elasticsearch"
   ]
  },
  {
   "cell_type": "code",
   "execution_count": 5,
   "id": "efa7c151",
   "metadata": {},
   "outputs": [],
   "source": [
    "# Configurar la conexión con Elasticsearch\n",
    "es = Elasticsearch(['http://localhost:9200'])"
   ]
  },
  {
   "cell_type": "code",
   "execution_count": 6,
   "id": "4b8344bf",
   "metadata": {},
   "outputs": [],
   "source": [
    "# Índice y tipo de documento donde se almacenará la información\n",
    "index = 'mi_indice'"
   ]
  },
  {
   "cell_type": "code",
   "execution_count": 7,
   "id": "9a2f3bfa",
   "metadata": {},
   "outputs": [],
   "source": [
    "# Documento a almacenar\n",
    "documento = {\n",
    "    'titulo': 'Ejemplo de documento',\n",
    "    'descripcion': 'Esto es un ejemplo de cómo almacenar información en Elasticsearch',\n",
    "    'fecha': '2023-06-07',\n",
    "    'etiquetas': ['Elasticsearch', 'Búsqueda', 'Análisis']\n",
    "}"
   ]
  },
  {
   "cell_type": "code",
   "execution_count": 9,
   "id": "2a303209",
   "metadata": {},
   "outputs": [
    {
     "data": {
      "text/plain": [
       "{'titulo': 'Ejemplo de documento',\n",
       " 'descripcion': 'Esto es un ejemplo de cómo almacenar información en Elasticsearch',\n",
       " 'fecha': '2023-06-07',\n",
       " 'etiquetas': ['Elasticsearch', 'Búsqueda', 'Análisis']}"
      ]
     },
     "execution_count": 9,
     "metadata": {},
     "output_type": "execute_result"
    }
   ],
   "source": [
    "documento"
   ]
  },
  {
   "cell_type": "code",
   "execution_count": 10,
   "id": "031d0de2",
   "metadata": {},
   "outputs": [
    {
     "data": {
      "text/plain": [
       "'mi_tipo'"
      ]
     },
     "execution_count": 10,
     "metadata": {},
     "output_type": "execute_result"
    }
   ],
   "source": [
    "doc_type"
   ]
  },
  {
   "cell_type": "markdown",
   "id": "3397bb8a",
   "metadata": {},
   "source": [
    "Almacenar el documento en Elasticsearch"
   ]
  },
  {
   "cell_type": "code",
   "execution_count": 13,
   "id": "cb0bb636",
   "metadata": {},
   "outputs": [],
   "source": [
    "# Almacenar el documento en Elasticsearch\n",
    "result = es.index(index=index,document=documento)"
   ]
  },
  {
   "cell_type": "code",
   "execution_count": 14,
   "id": "7caecbb7",
   "metadata": {},
   "outputs": [
    {
     "name": "stdout",
     "output_type": "stream",
     "text": [
      "Documento almacenado con ID: VrHol4gBu3NIOaXl7lMA\n"
     ]
    }
   ],
   "source": [
    "# Obtener el ID asignado al documento\n",
    "id_documento = result['_id']\n",
    "print(\"Documento almacenado con ID:\", id_documento)"
   ]
  },
  {
   "cell_type": "markdown",
   "id": "73ce5a25",
   "metadata": {},
   "source": [
    "Hacer la Busqueda del documento"
   ]
  },
  {
   "cell_type": "code",
   "execution_count": 22,
   "id": "d55ea167",
   "metadata": {},
   "outputs": [],
   "source": [
    "# Realizar una búsqueda\n",
    "query = {\n",
    "    \"query\": {\n",
    "        \"match\": {\n",
    "            \"descripcion\": \"wil\"\n",
    "        }\n",
    "    }\n",
    "}"
   ]
  },
  {
   "cell_type": "code",
   "execution_count": 26,
   "id": "1db6c6af",
   "metadata": {},
   "outputs": [
    {
     "name": "stderr",
     "output_type": "stream",
     "text": [
      "/var/folders/1s/1_8_phvj3kz4rttwkzmslvmm0000gn/T/ipykernel_3165/1510148009.py:1: DeprecationWarning: The 'body' parameter is deprecated and will be removed in a future version. Instead use individual parameters.\n",
      "  result = es.search(index=index, body=query)\n"
     ]
    }
   ],
   "source": [
    "result = es.search(index=index, body=query)\n",
    "# Obtener los resultados de la búsqueda\n",
    "hits = result['hits']['hits']\n",
    "\n",
    "for hit in hits:\n",
    "    print(hit['_source'])\n",
    "\n"
   ]
  },
  {
   "cell_type": "code",
   "execution_count": 29,
   "id": "86732e99",
   "metadata": {},
   "outputs": [
    {
     "data": {
      "text/plain": [
       "ObjectApiResponse({'took': 2, 'timed_out': False, '_shards': {'total': 1, 'successful': 1, 'skipped': 0, 'failed': 0}, 'hits': {'total': {'value': 0, 'relation': 'eq'}, 'max_score': None, 'hits': []}})"
      ]
     },
     "execution_count": 29,
     "metadata": {},
     "output_type": "execute_result"
    }
   ],
   "source": [
    "result"
   ]
  },
  {
   "cell_type": "code",
   "execution_count": 31,
   "id": "66150071",
   "metadata": {},
   "outputs": [
    {
     "name": "stdout",
     "output_type": "stream",
     "text": [
      "El registro no fue encontrado.\n"
     ]
    }
   ],
   "source": [
    "if result['hits']['total']['value'] == 0:\n",
    "    print('El registro no fue encontrado.')"
   ]
  },
  {
   "cell_type": "code",
   "execution_count": 35,
   "id": "1f68eec6",
   "metadata": {},
   "outputs": [
    {
     "name": "stdout",
     "output_type": "stream",
     "text": [
      "Got 1 Hits:\n",
      "{'titulo': 'Ejemplo de documento', 'descripcion': 'Esto es un ejemplo de cómo almacenar información en Elasticsearch', 'fecha': '2023-06-07', 'etiquetas': ['Elasticsearch', 'Búsqueda', 'Análisis']}\n"
     ]
    }
   ],
   "source": [
    "# Obtener los resultados de la búsqueda sin ningun filtro...\n",
    "resp = es.search(index=index, query={\"match_all\": {}})\n",
    "print(\"Got %d Hits:\" % resp['hits']['total']['value'])\n",
    "for hit in resp['hits']['hits']:\n",
    "    print(hit[\"_source\"])"
   ]
  },
  {
   "cell_type": "code",
   "execution_count": 41,
   "id": "7f709cae",
   "metadata": {},
   "outputs": [],
   "source": [
    "# Construir la consulta de búsqueda para buscar en cualquier etiqueta\n",
    "valor_busqueda=\"Búsqueda\"\n",
    "query = {\n",
    "    \"query\": {\n",
    "        \"multi_match\": {\n",
    "            \"query\": valor_busqueda,\n",
    "            \"fields\": [\"*\"]  # Utiliza '*' para buscar en cualquier etiqueta\n",
    "        }\n",
    "    }\n",
    "}"
   ]
  },
  {
   "cell_type": "code",
   "execution_count": 42,
   "id": "9117748d",
   "metadata": {},
   "outputs": [
    {
     "name": "stderr",
     "output_type": "stream",
     "text": [
      "/var/folders/1s/1_8_phvj3kz4rttwkzmslvmm0000gn/T/ipykernel_3165/1527280561.py:1: DeprecationWarning: The 'body' parameter is deprecated and will be removed in a future version. Instead use individual parameters.\n",
      "  response = es.search(index=index, body=query)\n"
     ]
    }
   ],
   "source": [
    "response = es.search(index=index, body=query)\n",
    "\n",
    "# Procesar los resultados\n",
    "for hit in response['hits']['hits']:\n",
    "    source = hit['_source']\n",
    "    # Hacer algo con los resultados\n",
    "    print(source)"
   ]
  },
  {
   "cell_type": "code",
   "execution_count": 73,
   "id": "cd48655e",
   "metadata": {},
   "outputs": [],
   "source": [
    "# Busquedas parciale al inicio de la cadena del docuemnto\n",
    "query_string=\"eje\"\n",
    "search_body = {\n",
    "    \"query\": {\n",
    "        \"match_phrase_prefix\": {\n",
    "            \"titulo\": query_string,\n",
    "            \n",
    "        }\n",
    "    }\n",
    "}"
   ]
  },
  {
   "cell_type": "code",
   "execution_count": 74,
   "id": "01c6f70c",
   "metadata": {},
   "outputs": [
    {
     "name": "stdout",
     "output_type": "stream",
     "text": [
      "{'titulo': 'Ejemplo de documento', 'descripcion': 'Esto es un ejemplo de cómo almacenar información en Elasticsearch', 'fecha': '2023-06-07', 'etiquetas': ['Elasticsearch', 'Búsqueda', 'Análisis']}\n"
     ]
    },
    {
     "name": "stderr",
     "output_type": "stream",
     "text": [
      "/var/folders/1s/1_8_phvj3kz4rttwkzmslvmm0000gn/T/ipykernel_3165/3852252597.py:1: DeprecationWarning: The 'body' parameter is deprecated and will be removed in a future version. Instead use individual parameters.\n",
      "  res = es.search(index=index, body=search_body)\n"
     ]
    }
   ],
   "source": [
    "res = es.search(index=index, body=search_body)\n",
    "    \n",
    "# Procesar los resultados\n",
    "for hit in res['hits']['hits']:\n",
    "        print(hit['_source'])  # Imprimir los documentos encontrados"
   ]
  },
  {
   "cell_type": "code",
   "execution_count": 67,
   "id": "9516c6d6",
   "metadata": {},
   "outputs": [],
   "source": [
    "# Consulta de búsqueda con cadena parcial al final\n",
    "query = {\n",
    "    'query': {\n",
    "        'wildcard': {\n",
    "            'campo': {\n",
    "                'value': 'Búsqu*'\n",
    "            }\n",
    "        }\n",
    "    }\n",
    "}\n"
   ]
  },
  {
   "cell_type": "code",
   "execution_count": 68,
   "id": "66e57576",
   "metadata": {},
   "outputs": [
    {
     "name": "stderr",
     "output_type": "stream",
     "text": [
      "/var/folders/1s/1_8_phvj3kz4rttwkzmslvmm0000gn/T/ipykernel_3165/1586416219.py:2: DeprecationWarning: The 'body' parameter is deprecated and will be removed in a future version. Instead use individual parameters.\n",
      "  response = es.search(index=index, body=query)\n"
     ]
    }
   ],
   "source": [
    "\n",
    "# Realiza la búsqueda\n",
    "response = es.search(index=index, body=query)\n",
    "\n",
    "# Procesa los resultados\n",
    "for hit in response['hits']['hits']:\n",
    "    print(hit['_source'])\n"
   ]
  },
  {
   "cell_type": "code",
   "execution_count": null,
   "id": "81d52378",
   "metadata": {},
   "outputs": [],
   "source": []
  },
  {
   "cell_type": "code",
   "execution_count": null,
   "id": "6b46264d",
   "metadata": {},
   "outputs": [],
   "source": []
  }
 ],
 "metadata": {
  "kernelspec": {
   "display_name": "Python 3 (ipykernel)",
   "language": "python",
   "name": "python3"
  },
  "language_info": {
   "codemirror_mode": {
    "name": "ipython",
    "version": 3
   },
   "file_extension": ".py",
   "mimetype": "text/x-python",
   "name": "python",
   "nbconvert_exporter": "python",
   "pygments_lexer": "ipython3",
   "version": "3.10.4"
  }
 },
 "nbformat": 4,
 "nbformat_minor": 5
}
