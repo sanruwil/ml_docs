{
 "cells": [
  {
   "cell_type": "markdown",
   "id": "94f0d09b",
   "metadata": {},
   "source": [
    "# Binary classification model- Neural Network\n"
   ]
  },
  {
   "cell_type": "markdown",
   "id": "e831b678",
   "metadata": {},
   "source": [
    "### Example 1 - Hotel Booking Cancellation Prediction\n",
    "you'll build a model to predict hotel cancellations with a binary classifier\n",
    "\n",
    "### Cross-Entropy \n",
    "\n",
    "It measures the difference between the predicted class probabilities and the true class labels(one hot)\n",
    "\n",
    "The true label for a given example can be represented as a one-hot encoded vector, where the index corresponding to the true class is 1, and all other indices are 0.\n",
    "\n",
    "The predicted probability distribution is obtained by passing the input through the neural network and applying a softmax activation function to the output layer. The softmax function ensures that the predicted probabilities sum up to 1.\n",
    "\n",
    "The cross-entropy loss is then calculated by taking the negative logarithm of the predicted probability assigned to the true class. Mathematically, the cross-entropy loss for a single example can be expressed as:\n",
    "\n",
    "L = -log(p_i),\n",
    "\n",
    "where L is the loss, p_i is the predicted probability for the true class, and i is the index corresponding to the true class.\n",
    "\n",
    "The overall cross-entropy loss for a batch of examples is computed by taking the average of the individual losses:\n",
    "\n",
    "L_avg = (1/N) * sum(L), where N is the number of examples in the batch.\n",
    "\n",
    "\n",
    "\n",
    "__Read Data__\n",
    "\n",
    "Data types:\n",
    "\n",
    "* __Categorical__ - hotel, is_canceled, customer_type, is_repeated_guest, meal, country, market_segment, distribution_channel, reserved_room_type, assigned_room_type, deposit_type, agent, company, reservation_status,\n",
    "* __Numerical__ - lead_time, stays_in_weekend_nights, stays_in_week_nights, adults, children, babies, previous_cancellations, booking_changes, previous_bookings_not_canceled, days_in_waiting_list, adr, required_car_parking_spaces, total_of_special_requests\n",
    "* __Ordinal__ - arrival_date_year, arrival_date_month, arrival_date_week_number, arrival_date_day_of_month, reservation_status_date\n",
    "\n",
    "__Assumptions about cancellation__:\n",
    "\n",
    "* The type of hotel decides the cancelation rate with higher cancellations in city hotels as compared to resort hotels due to variety of facilities available in resort hotels.\n",
    "* The earlier the booking made, higher the chances of cancellation.\n",
    "* Customers who have bookings for longer durations have lesser chance of cancelling their booking.\n",
    "* As more children or babies are involved in the booking, higher chances of cancellation.\n",
    "* Old guest (is_repeated_guest=1) is less likely to cancel current booking.\n",
    "* If there are high previous cancellations, possibility of cancellation of current booking is also high.\n",
    "* If room assigned is not the same as reserved room type, customer might positively cancel the booking.\n",
    "* Higher the number of changes made to the booking, lesser is the chance of cancellation due to the investment of time in curating the booking as per one's requirement.\n",
    "* Bookings that are refundable or for which deposits were not made at the time of booking stand a high chance of cancelation.\n",
    "* If the number of days in waiting list is significant, customer might make some other booking due to uncertainty of confirmation of current booking.\n",
    "\n",
    "__Target variable__: is_canceled\n"
   ]
  },
  {
   "cell_type": "code",
   "execution_count": 1,
   "id": "9f85bd08",
   "metadata": {},
   "outputs": [],
   "source": [
    "import pandas as pd\n",
    "from sklearn.model_selection import train_test_split\n",
    "from sklearn.preprocessing import StandardScaler, OneHotEncoder\n",
    "from sklearn.impute import SimpleImputer\n",
    "from sklearn.pipeline import make_pipeline\n",
    "from sklearn.compose import make_column_transformer\n",
    "\n",
    "hotel = pd.read_csv('./data/hotel.csv')\n",
    "\n",
    "X = hotel.copy()\n",
    "y = X.pop('is_canceled')\n",
    "\n",
    "X['arrival_date_month'] = \\\n",
    "    X['arrival_date_month'].map(\n",
    "        {'January':1, 'February': 2, 'March':3,\n",
    "         'April':4, 'May':5, 'June':6, 'July':7,\n",
    "         'August':8, 'September':9, 'October':10,\n",
    "         'November':11, 'December':12}\n",
    "    )\n",
    "\n",
    "features_num = [\n",
    "    \"lead_time\", \"arrival_date_week_number\",\n",
    "    \"arrival_date_day_of_month\", \"stays_in_weekend_nights\",\n",
    "    \"stays_in_week_nights\", \"adults\", \"children\", \"babies\",\n",
    "    \"is_repeated_guest\", \"previous_cancellations\",\n",
    "    \"previous_bookings_not_canceled\", \"required_car_parking_spaces\",\n",
    "    \"total_of_special_requests\", \"adr\",\n",
    "]\n",
    "features_cat = [\n",
    "    \"hotel\", \"arrival_date_month\", \"meal\",\n",
    "    \"market_segment\", \"distribution_channel\",\n",
    "    \"reserved_room_type\", \"deposit_type\", \"customer_type\",\n",
    "]\n",
    "\n",
    "transformer_num = make_pipeline(\n",
    "    SimpleImputer(strategy=\"constant\"), # there are a few missing values\n",
    "    StandardScaler(),\n",
    ")\n",
    "transformer_cat = make_pipeline(\n",
    "    SimpleImputer(strategy=\"constant\", fill_value=\"NA\"),\n",
    "    OneHotEncoder(handle_unknown='ignore'),\n",
    ")\n",
    "\n",
    "preprocessor = make_column_transformer(\n",
    "    (transformer_num, features_num),\n",
    "    (transformer_cat, features_cat),\n",
    ")\n",
    "\n",
    "# stratify - make sure classes are evenlly represented across splits\n",
    "X_train, X_valid, y_train, y_valid = \\\n",
    "train_test_split(X, y, stratify=y, train_size=0.75)\n",
    "\n",
    "X_train = preprocessor.fit_transform(X_train)\n",
    "X_valid = preprocessor.transform(X_valid)\n",
    "\n",
    "input_shape = [X_train.shape[1]]"
   ]
  },
  {
   "cell_type": "code",
   "execution_count": 2,
   "id": "43e909e0",
   "metadata": {},
   "outputs": [
    {
     "name": "stdout",
     "output_type": "stream",
     "text": [
      "<class 'pandas.core.frame.DataFrame'>\n",
      "RangeIndex: 119390 entries, 0 to 119389\n",
      "Data columns (total 32 columns):\n",
      " #   Column                          Non-Null Count   Dtype  \n",
      "---  ------                          --------------   -----  \n",
      " 0   hotel                           119390 non-null  object \n",
      " 1   is_canceled                     119390 non-null  int64  \n",
      " 2   lead_time                       119390 non-null  int64  \n",
      " 3   arrival_date_year               119390 non-null  int64  \n",
      " 4   arrival_date_month              119390 non-null  object \n",
      " 5   arrival_date_week_number        119390 non-null  int64  \n",
      " 6   arrival_date_day_of_month       119390 non-null  int64  \n",
      " 7   stays_in_weekend_nights         119390 non-null  int64  \n",
      " 8   stays_in_week_nights            119390 non-null  int64  \n",
      " 9   adults                          119390 non-null  int64  \n",
      " 10  children                        119386 non-null  float64\n",
      " 11  babies                          119390 non-null  int64  \n",
      " 12  meal                            119390 non-null  object \n",
      " 13  country                         118902 non-null  object \n",
      " 14  market_segment                  119390 non-null  object \n",
      " 15  distribution_channel            119390 non-null  object \n",
      " 16  is_repeated_guest               119390 non-null  int64  \n",
      " 17  previous_cancellations          119390 non-null  int64  \n",
      " 18  previous_bookings_not_canceled  119390 non-null  int64  \n",
      " 19  reserved_room_type              119390 non-null  object \n",
      " 20  assigned_room_type              119390 non-null  object \n",
      " 21  booking_changes                 119390 non-null  int64  \n",
      " 22  deposit_type                    119390 non-null  object \n",
      " 23  agent                           103050 non-null  float64\n",
      " 24  company                         6797 non-null    float64\n",
      " 25  days_in_waiting_list            119390 non-null  int64  \n",
      " 26  customer_type                   119390 non-null  object \n",
      " 27  adr                             119390 non-null  float64\n",
      " 28  required_car_parking_spaces     119390 non-null  int64  \n",
      " 29  total_of_special_requests       119390 non-null  int64  \n",
      " 30  reservation_status              119390 non-null  object \n",
      " 31  reservation_status_date         119390 non-null  object \n",
      "dtypes: float64(4), int64(16), object(12)\n",
      "memory usage: 29.1+ MB\n"
     ]
    }
   ],
   "source": [
    "hotel.info()"
   ]
  },
  {
   "cell_type": "markdown",
   "id": "6965fb7a",
   "metadata": {},
   "source": [
    "### 1) Define Model\n",
    "The model we'll use this time will have both batch normalization and dropout layers. To ease reading we've broken the diagram into blocks, but you can define it layer by layer as usual.\n",
    "\n",
    "Define a model with an architecture given by this diagram:\n",
    "\n",
    "<figure style=\"padding: 1em;\">\n",
    "<img src=\"https://storage.googleapis.com/kaggle-media/learn/images/V04o59Z.png\" width=\"400\" alt=\"Diagram of network architecture: BatchNorm, Dense, BatchNorm, Dropout, Dense, BatchNorm, Dropout, Dense.\">\n",
    "<figcaption style=\"textalign: center; font-style: italic\"><center>Diagram of a binary classifier.</center></figcaption>\n",
    "</figure>"
   ]
  },
  {
   "cell_type": "code",
   "execution_count": 5,
   "id": "eb83c4fc",
   "metadata": {},
   "outputs": [
    {
     "data": {
      "text/plain": [
       "<Axes: title={'center': 'Accuracy'}>"
      ]
     },
     "execution_count": 5,
     "metadata": {},
     "output_type": "execute_result"
    },
    {
     "data": {
      "image/png": "[encoded data removed]",
      "text/plain": [
       "<Figure size 640x480 with 1 Axes>"
      ]
     },
     "metadata": {},
     "output_type": "display_data"
    },
    {
     "data": {
      "image/png": "[encoded data removed]",
      "text/plain": [
       "<Figure size 640x480 with 1 Axes>"
      ]
     },
     "metadata": {},
     "output_type": "display_data"
    }
   ],
   "source": [
    "from tensorflow import keras\n",
    "from tensorflow.keras import layers\n",
    "import random\n",
    "import numpy as np\n",
    "import tensorflow as tf\n",
    "from tensorflow.keras import regularizers\n",
    "\n",
    "# Configurar semillas aleatorias para reproducibilidad\n",
    "seed_value = 1234\n",
    "# 1. Configurar la semilla aleatoria de Python\n",
    "random.seed(seed_value)\n",
    "# 2. Configurar la semilla aleatoria de numpy\n",
    "np.random.seed(seed_value)\n",
    "# 3. Configurar la semilla aleatoria de TensorFlow\n",
    "tf.random.set_seed(seed_value)\n",
    "\n",
    "model = keras.Sequential([\n",
    "    layers.BatchNormalization(),\n",
    "    layers.Dense(256, activation='relu',input_shape=input_shape,kernel_regularizer=regularizers.l2(0.001)),\n",
    "    layers.BatchNormalization(),\n",
    "    layers.Dropout(0.20),\n",
    "    layers.Dense(128, activation='relu',kernel_regularizer=regularizers.l2(0.001)),\n",
    "    layers.BatchNormalization(),\n",
    "    layers.Dropout(0.20),\n",
    "    layers.Dense(128, activation='relu',kernel_regularizer=regularizers.l2(0.001)),\n",
    "    layers.BatchNormalization(),\n",
    "    layers.Dropout(0.20),\n",
    "    layers.Dense(1,activation='sigmoid')\n",
    "])\n",
    "\n",
    "# Add Optimizer, Loss, and Metric\n",
    "model.compile(\n",
    "    optimizer='adam',\n",
    "    loss='binary_crossentropy',\n",
    "    metrics=['binary_accuracy'],\n",
    ")\n",
    "\n",
    "early_stopping = keras.callbacks.EarlyStopping(\n",
    "    patience=10,\n",
    "    min_delta=0.001,\n",
    "    restore_best_weights=True,\n",
    ")\n",
    "history = model.fit(\n",
    "    X_train, y_train,\n",
    "    validation_data=(X_valid, y_valid),\n",
    "    batch_size=512,\n",
    "    epochs=200,\n",
    "    verbose =0,\n",
    "    callbacks=[early_stopping],\n",
    ")\n",
    "\n",
    "history_df = pd.DataFrame(history.history)\n",
    "history_df.loc[:, ['loss', 'val_loss']].plot(title=\"Cross-entropy\")\n",
    "history_df.loc[:, ['binary_accuracy', 'val_binary_accuracy']].plot(title=\"Accuracy\")"
   ]
  },
  {
   "cell_type": "code",
   "execution_count": 6,
   "id": "5ec1b3bc",
   "metadata": {},
   "outputs": [],
   "source": [
    "from sklearn.metrics import accuracy_score, classification_report,confusion_matrix\n",
    "import numpy as np\n",
    "import seaborn as sns\n",
    "import matplotlib.pyplot as plt\n",
    "def plot_metrics(y_test,test_pred, model):\n",
    "    # Show report clasification test \n",
    "    print(\"Report clasification  TEST --->\"+model)\n",
    "    conf_matrix = confusion_matrix(y_test, test_pred)\n",
    "    # Create the heatmap diagraman using  seaborn\n",
    "    sns.heatmap(conf_matrix, annot=True, cmap=\"Blues\", fmt=\"d\", cbar=False)\n",
    "    # setup labels of the axis  x e y\n",
    "    plt.xlabel('Label Forecast')\n",
    "    plt.ylabel('Label Real')\n",
    "    myreport=classification_report(y_test, test_pred)\n",
    "    print(myreport)\n",
    "    plt.show()\n",
    "    return myreport"
   ]
  },
  {
   "cell_type": "markdown",
   "id": "4f603ff5",
   "metadata": {},
   "source": [
    "Though we can see the training loss continuing to fall, the early stopping callback prevented any overfitting. Moreover, the accuracy rose at the same rate as the cross-entropy fell, so it appears that minimizing cross-entropy was a good stand-in. All in all, it looks like this training was a success!"
   ]
  },
  {
   "cell_type": "code",
   "execution_count": 7,
   "id": "830e6fbf",
   "metadata": {},
   "outputs": [
    {
     "name": "stdout",
     "output_type": "stream",
     "text": [
      "Test set loss -  Accuracy:  0.3815041184425354 0.8383811116218567\n",
      "933/933 [==============================] - 1s 977us/step\n",
      "Report clasification  TEST --->NN\n",
      "              precision    recall  f1-score   support\n",
      "\n",
      "           0       0.84      0.92      0.88     18792\n",
      "           1       0.83      0.71      0.76     11056\n",
      "\n",
      "    accuracy                           0.84     29848\n",
      "   macro avg       0.84      0.81      0.82     29848\n",
      "weighted avg       0.84      0.84      0.84     29848\n",
      "\n"
     ]
    },
    {
     "data": {
      "image/png": "[encoded data removed]",
      "text/plain": [
       "<Figure size 640x480 with 1 Axes>"
      ]
     },
     "metadata": {},
     "output_type": "display_data"
    }
   ],
   "source": [
    "# Evaluate the model on the test set\n",
    "loss, accuracy = model.evaluate(X_valid, y_valid, verbose=0)\n",
    "print(\"Test set loss -  Accuracy: \", loss, accuracy)\n",
    "# forescating test\n",
    "nn_test_pred = model.predict(X_valid).flatten()\n",
    "# Convert the predictions into a binary scale.\n",
    "#In this case, any value above 0.5 is rounded to 1, and any value below 0.5 is rounded to 0.\n",
    "nn_test_pred_binary = np.round(nn_test_pred)\n",
    "nn_base_report = plot_metrics(y_valid, nn_test_pred_binary,\"NN\")"
   ]
  },
  {
   "cell_type": "code",
   "execution_count": 8,
   "id": "f2e3668b",
   "metadata": {},
   "outputs": [],
   "source": [
    "# pip install pyarrow. Manejar fromato de archivo Parquet\n",
    "import pandas as pd\n",
    "import pyarrow as pa\n",
    "import pyarrow.parquet as pq\n",
    "# Crear un DataFrame de Pandas con datos de ejemplo\n",
    "df = pd.DataFrame({\n",
    "    'UserID': [1, 2, 3],\n",
    "    'Name': ['Alice', 'Bob', 'Charlie'],\n",
    "    'Age': [30, 25, 35],\n",
    "    'RegistrationDate': ['2023-01-15', '2023-01-20', '2023-01-25']\n",
    "})\n",
    "\n",
    "# Convertir el DataFrame a una tabla de Arrow\n",
    "table = pa.Table.from_pandas(df)\n",
    "\n",
    "# Escribir la tabla a un archivo Parquet\n",
    "pq.write_table(table, '/Users/wilfredysantamariaruiz/Downloads/example.parquet')"
   ]
  },
  {
   "cell_type": "code",
   "execution_count": 9,
   "id": "299de09f",
   "metadata": {},
   "outputs": [
    {
     "data": {
      "text/html": [
       "<div>\n",
       "<style scoped>\n",
       "    .dataframe tbody tr th:only-of-type {\n",
       "        vertical-align: middle;\n",
       "    }\n",
       "\n",
       "    .dataframe tbody tr th {\n",
       "        vertical-align: top;\n",
       "    }\n",
       "\n",
       "    .dataframe thead th {\n",
       "        text-align: right;\n",
       "    }\n",
       "</style>\n",
       "<table border=\"1\" class=\"dataframe\">\n",
       "  <thead>\n",
       "    <tr style=\"text-align: right;\">\n",
       "      <th></th>\n",
       "      <th>UserID</th>\n",
       "      <th>Name</th>\n",
       "      <th>Age</th>\n",
       "      <th>RegistrationDate</th>\n",
       "    </tr>\n",
       "  </thead>\n",
       "  <tbody>\n",
       "    <tr>\n",
       "      <th>0</th>\n",
       "      <td>1</td>\n",
       "      <td>Alice</td>\n",
       "      <td>30</td>\n",
       "      <td>2023-01-15</td>\n",
       "    </tr>\n",
       "    <tr>\n",
       "      <th>1</th>\n",
       "      <td>2</td>\n",
       "      <td>Bob</td>\n",
       "      <td>25</td>\n",
       "      <td>2023-01-20</td>\n",
       "    </tr>\n",
       "    <tr>\n",
       "      <th>2</th>\n",
       "      <td>3</td>\n",
       "      <td>Charlie</td>\n",
       "      <td>35</td>\n",
       "      <td>2023-01-25</td>\n",
       "    </tr>\n",
       "  </tbody>\n",
       "</table>\n",
       "</div>"
      ],
      "text/plain": [
       "   UserID     Name  Age RegistrationDate\n",
       "0       1    Alice   30       2023-01-15\n",
       "1       2      Bob   25       2023-01-20\n",
       "2       3  Charlie   35       2023-01-25"
      ]
     },
     "execution_count": 9,
     "metadata": {},
     "output_type": "execute_result"
    }
   ],
   "source": [
    "df"
   ]
  },
  {
   "cell_type": "code",
   "execution_count": 10,
   "id": "05cf40cf",
   "metadata": {},
   "outputs": [
    {
     "data": {
      "text/plain": [
       "pyarrow.Table\n",
       "UserID: int64\n",
       "Name: string\n",
       "Age: int64\n",
       "RegistrationDate: string\n",
       "----\n",
       "UserID: [[1,2,3]]\n",
       "Name: [[\"Alice\",\"Bob\",\"Charlie\"]]\n",
       "Age: [[30,25,35]]\n",
       "RegistrationDate: [[\"2023-01-15\",\"2023-01-20\",\"2023-01-25\"]]"
      ]
     },
     "execution_count": 10,
     "metadata": {},
     "output_type": "execute_result"
    }
   ],
   "source": [
    "table"
   ]
  },
  {
   "cell_type": "code",
   "execution_count": 11,
   "id": "3afbdc28",
   "metadata": {},
   "outputs": [
    {
     "name": "stdout",
     "output_type": "stream",
     "text": [
      "   UserID     Name  Age RegistrationDate\n",
      "0       1    Alice   30       2023-01-15\n",
      "1       2      Bob   25       2023-01-20\n",
      "2       3  Charlie   35       2023-01-25\n"
     ]
    }
   ],
   "source": [
    "import pyarrow.parquet as pq\n",
    "\n",
    "# Leer el archivo Parquet\n",
    "table = pq.read_table('/Users/wilfredysantamariaruiz/Downloads/example.parquet')\n",
    "\n",
    "# Convertir la tabla a un DataFrame de Pandas\n",
    "df = table.to_pandas()\n",
    "\n",
    "# Mostrar el DataFrame\n",
    "print(df)"
   ]
  },
  {
   "cell_type": "code",
   "execution_count": null,
   "id": "62f36856",
   "metadata": {},
   "outputs": [],
   "source": []
  }
 ],
 "metadata": {
  "kernelspec": {
   "display_name": "Python 3 (ipykernel)",
   "language": "python",
   "name": "python3"
  },
  "language_info": {
   "codemirror_mode": {
    "name": "ipython",
    "version": 3
   },
   "file_extension": ".py",
   "mimetype": "text/x-python",
   "name": "python",
   "nbconvert_exporter": "python",
   "pygments_lexer": "ipython3",
   "version": "3.10.14"
  }
 },
 "nbformat": 4,
 "nbformat_minor": 5
}
