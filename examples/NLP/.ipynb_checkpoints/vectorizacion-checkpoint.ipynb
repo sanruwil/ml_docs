{
 "cells": [
  {
   "cell_type": "markdown",
   "id": "94f0d09b",
   "metadata": {},
   "source": [
    "# Tokenización\n",
    "\n",
    "La tokenización es el proceso de dividir un texto en unidades más pequeñas llamadas tokens. Estos tokens pueden ser palabras, frases, o incluso caracteres, dependiendo del nivel de granularidad deseado.\n",
    "\n",
    "Métodos Comunes:\n",
    "\n",
    "1. Tokenización de Palabras: \n",
    "Divide el texto en palabras. Ejemplo: \"Hola, ¿cómo estás?\" se convierte en [\"Hola\", \"¿\", \"cómo\", \"estás\", \"?\"].\n",
    "\n",
    "2. Tokenización de Frases: Divide el texto en frases. Ejemplo: \"Hoy es un buen día.\" se convierte en [\"Hoy es un buen día.\"].\n",
    "\n",
    "3. Tokenización de Caracteres: Divide el texto en caracteres. Ejemplo: \"Hola\" se convierte en [\"H\", \"o\", \"l\", \"a\"].\n",
    "\n",
    "conda install anaconda::nltk\n"
   ]
  },
  {
   "cell_type": "markdown",
   "id": "dc6e77e9",
   "metadata": {},
   "source": [
    "Tokenizacion\n",
    "NLP: https://www.nltk.org/"
   ]
  },
  {
   "cell_type": "code",
   "execution_count": 4,
   "id": "597fea11",
   "metadata": {},
   "outputs": [
    {
     "name": "stdout",
     "output_type": "stream",
     "text": [
      "['Hola', '¿cómo', 'estás', '?']\n"
     ]
    },
    {
     "name": "stderr",
     "output_type": "stream",
     "text": [
      "[nltk_data] Downloading package punkt to\n",
      "[nltk_data]     /Users/wilfredysantamariaruiz/nltk_data...\n",
      "[nltk_data]   Package punkt is already up-to-date!\n"
     ]
    }
   ],
   "source": [
    "import nltk\n",
    "from nltk.tokenize import word_tokenize\n",
    "\n",
    "nltk.download('punkt')\n",
    "texto = \"Hola ¿cómo estás?\"\n",
    "tokens = word_tokenize(texto)\n",
    "print(tokens)\n",
    "# Salida: ['Hola', ',', '¿', 'cómo', 'estás', '?']"
   ]
  },
  {
   "cell_type": "markdown",
   "id": "a0d6d86f",
   "metadata": {},
   "source": [
    "Paso 1: Tokenización\n",
    "Primero, tokenizamos el documento:\n",
    "\n",
    "Documento: \"Hola ¿cómo estás?\"\n",
    "Tokens: [\"Hola\", \"¿\", \"cómo\", \"estás\", \"?\"]\n",
    "Vamos a considerar solo las palabras significativas para el cálculo de TF-IDF, omitiendo los signos de puntuación y stop words. Para simplificar, usaremos [\"Hola\", \"cómo\", \"estás\"].\n",
    "\n",
    "Paso 2: Calcular TF (Term Frequency)\n",
    "La frecuencia de términos (TF) se calcula como el número de veces que una palabra aparece en el documento dividido por el número total de palabras en el documento.\n",
    "\n",
    "Para cada palabra en \n",
    "D1:\n",
    "\n",
    "TF(\"Hola\"): 1/3\n",
    "TF(\"cómo\"): 1/3\n",
    "TF(\"estás\"): 1/3\n",
    "Paso 3: Calcular IDF (Inverse Document Frequency)\n",
    "La frecuencia inversa de documentos (IDF) se calcula como el logaritmo del número total de documentos en el corpus dividido por el número de documentos que contienen el término.\n",
    "\n",
    "Supongamos que \n",
    "\n",
    "D1 es el único documento en el corpus. Para cada palabra en \n",
    "\n",
    "Número total de documentos (N): 1\n",
    "Documentos que contienen \"Hola\" (df(\"Hola\")): 1\n",
    "Documentos que contienen \"cómo\" (df(\"cómo\")): 1\n",
    "Documentos que contienen \"estás\" (df(\"estás\")): 1\n",
    "IDF se calcula como:\n",
    "\n",
    "IDF(t)=log( N/df(t))+1\n",
    "\n",
    "Añadimos 1 al logaritmo para evitar divisiones por cero.\n",
    "\n",
    "IDF(\"Hola\"): log(1/1))+1=1\n",
    "IDF(\"cómo\"): log(1/1))+1=1\n",
    "IDF(\"estás\"): log(1/1))+1=1\n",
    "\n",
    "Paso 4: Calcular TF-IDF\n",
    "TF-IDF se calcula multiplicando TF y IDF para cada palabra.\n",
    "\n",
    "Para cada palabra en \n",
    "D1:\n",
    "TF-IDF(\"Hola\"): (1/3)×1=1/3≈0.333\n",
    "\n",
    "TF-IDF(\"cómo\"): (1/3)×1=1/3≈0.333\n",
    "\n",
    "TF-IDF(\"estás\"): (1/3)×1=1/3≈0.333\n",
    "\n",
    "Normalización (Vector de Características)\n",
    "Para vectorizar el documento y usarlo en algoritmos de aprendizaje automático, los valores TF-IDF se normalizan para que el vector tenga una longitud unitaria.\n",
    "\n",
    "El vector TF-IDF para D1:\n",
    "\n",
    "TF-IDF(D1)=[0.333,0.333,0.333]\n",
    "\n",
    "La normalización se realiza dividiendo cada componente del vector por la norma 𝐿2\n",
    "\n",
    "L2 (longitud) del vector:\n",
    "\n",
    "norma(D1)= sqtr((0.33)*2  +((0.33)*2)+ ((0.33)*2))= sqtr(3* 0.11)  ≈0.577\n",
    "\n",
    "Vector normalizado:\n",
    "\n",
    "TF-IDF normalizado\n",
    "𝐷1=(0.333/0.577, 0.333/0.577,0.333/0.577)\n",
    "D1=[0.577,0.577,0.577]\n",
    "\n"
   ]
  },
  {
   "cell_type": "markdown",
   "id": "91a9303e",
   "metadata": {},
   "source": [
    "**Vectorización con TF-IDF:**\n",
    "\n",
    "La vectorización es el proceso de convertir los tokens (o textos) en vectores numéricos que los algoritmos de machine learning pueden utilizar. Es esencial para transformar datos textuales en formatos adecuados para modelos matemáticos y computacionales.\n",
    "\n",
    "Métodos Comunes:\n",
    "\n",
    "\n",
    "1. Bag of Words (BoW): Representa el texto como una matriz de frecuencia de palabras. \n",
    "\n",
    "Texto: \"Hola, ¿cómo estás?\"\n",
    "\n",
    "BoW: {\"Hola\": 1, \"cómo\": 1, \"estás\": 1}\n",
    "\n",
    "2. TF-IDF (Term Frequency-Inverse Document Frequency): Ajusta la frecuencia de las palabras considerando su relevancia en el corpus completo. \n",
    "\n",
    "Texto: \"Hola, ¿cómo estás?\"\n",
    "\n",
    "TF-IDF: {\"Hola\": 0.5, \"cómo\": 0.7, \"estás\": 0.3}\n",
    "\n",
    "3. Word Embeddings: Representa palabras en un espacio continuo de alta dimensión. \n",
    "\n",
    "\"Hola\" -> [0.1, 0.2, 0.3], \"cómo\" -> [0.4, 0.5, 0.6]\n",
    "\n",
    "4. Modelos Preentrenados: Utiliza embeddings generados por modelos como BERT, GPT, etc. \n",
    "\n",
    "\"Hola\" -> [vector de 768 dimensiones], \"cómo\" -> [vector de 768 dimensiones]\n"
   ]
  },
  {
   "cell_type": "code",
   "execution_count": 5,
   "id": "4bdc2b48",
   "metadata": {},
   "outputs": [
    {
     "name": "stdout",
     "output_type": "stream",
     "text": [
      "[[0.57735027 0.57735027 0.57735027]]\n"
     ]
    }
   ],
   "source": [
    "from sklearn.feature_extraction.text import TfidfVectorizer\n",
    "\n",
    "corpus = [texto]\n",
    "vectorizer = TfidfVectorizer()\n",
    "X = vectorizer.fit_transform(corpus)\n",
    "print(X.toarray())\n",
    "# Salida: [array de valores TF-IDF]"
   ]
  },
  {
   "cell_type": "markdown",
   "id": "c29d20fa",
   "metadata": {},
   "source": [
    "sklearn"
   ]
  },
  {
   "cell_type": "code",
   "execution_count": 8,
   "id": "e5f4ae06",
   "metadata": {},
   "outputs": [
    {
     "name": "stdout",
     "output_type": "stream",
     "text": [
      "Características (Palabras): ['cómo' 'estás' 'hola']\n",
      "Arreglo TF-IDF:\n",
      "[[0.57735027 0.57735027 0.57735027]]\n"
     ]
    }
   ],
   "source": [
    "from sklearn.feature_extraction.text import TfidfVectorizer\n",
    "import numpy as np\n",
    "\n",
    "# Documentos de ejemplo\n",
    "D1 = \"Hola ¿cómo estás?\"\n",
    "#D2 = \"Estoy bien, gracias.\"\n",
    "#D3 = \"Hola, ¿cómo te sientes hoy?\"\n",
    "\n",
    "# Crear un corpus con los documentos\n",
    "#corpus = [D1, D2, D3]\n",
    "corpus = [D1]\n",
    "\n",
    "\n",
    "# Inicializar el vectorizador TF-IDF\n",
    "vectorizer = TfidfVectorizer()\n",
    "\n",
    "# Ajustar y transformar el corpus\n",
    "X = vectorizer.fit_transform(corpus)\n",
    "\n",
    "# Convertir la matriz TF-IDF a un arreglo denso\n",
    "tfidf_array = X.toarray()\n",
    "\n",
    "# Obtener los nombres de las características (palabras)\n",
    "feature_names = vectorizer.get_feature_names_out()\n",
    "\n",
    "# Mostrar los resultados\n",
    "print(\"Características (Palabras):\", feature_names)\n",
    "print(\"Arreglo TF-IDF:\")\n",
    "print(tfidf_array)\n",
    "\n",
    "\n"
   ]
  },
  {
   "cell_type": "code",
   "execution_count": 26,
   "id": "8940c97b",
   "metadata": {},
   "outputs": [],
   "source": [
    "def obtener_mejor_plato(n, rating):\n",
    "    mejor_id = -1  # Iniciamos con -1 para asegurar que cualquier ID lo reemplace\n",
    "    mejor_calificacion = -1  # Iniciamos con -1 para asegurar que cualquier calificación lo reemplace\n",
    "    \n",
    "    for plato_id, calificacion in rating:\n",
    "        # Si encontramos una mejor calificación o una calificación igual con un ID mayor\n",
    "        if calificacion > mejor_calificacion or (calificacion == mejor_calificacion and plato_id > mejor_id):\n",
    "            mejor_calificacion = calificacion\n",
    "            mejor_id = plato_id\n",
    "    \n",
    "    return mejor_id\n",
    "\n",
    "\n"
   ]
  },
  {
   "cell_type": "code",
   "execution_count": 27,
   "id": "49f2879c",
   "metadata": {},
   "outputs": [
    {
     "name": "stdout",
     "output_type": "stream",
     "text": [
      "123\n"
     ]
    }
   ],
   "source": [
    "n = 5\n",
    "rating = [(512, 2), (123, 3), (987, 4), (123, 5)]\n",
    "resultado = obtener_mejor_plato(n, rating)\n",
    "print(resultado)  # Esto imprimirá 123"
   ]
  },
  {
   "cell_type": "code",
   "execution_count": 28,
   "id": "2721153b",
   "metadata": {},
   "outputs": [
    {
     "name": "stdout",
     "output_type": "stream",
     "text": [
      "987654092\n"
     ]
    }
   ],
   "source": [
    "n = 5\n",
    "rating = [(987654171, 3), (987654478, 3), (987654092, 4), (987654421, 3), (986754001, 4)]\n",
    "resultado = obtener_mejor_plato(n, rating)\n",
    "print(resultado)  # Esto imprimirá 986754001"
   ]
  },
  {
   "cell_type": "code",
   "execution_count": 29,
   "id": "0a3e79ec",
   "metadata": {},
   "outputs": [
    {
     "name": "stdout",
     "output_type": "stream",
     "text": [
      "987654420\n"
     ]
    }
   ],
   "source": [
    "n = 5\n",
    "rating = [(987654423, 4), (987654420, 5), (987654202, 4), (987654250, 1), (987654419, 5)]\n",
    "resultado = obtener_mejor_plato(n, rating)\n",
    "print(resultado)  # Esto imprimirá 986754001"
   ]
  },
  {
   "cell_type": "code",
   "execution_count": 34,
   "id": "e4f7dea8",
   "metadata": {},
   "outputs": [],
   "source": [
    "def formatear_duracion(segundos):\n",
    "    \n",
    "    un_minuto = 60\n",
    "    una_hora = un_minuto * 60\n",
    "    un_dia = una_hora * 24\n",
    "    un_ano = un_dia * 365\n",
    "    \n",
    "    anos = segundos // un_ano\n",
    "    segundos %= un_ano\n",
    "    \n",
    "    dias = segundos // un_dia\n",
    "    segundos %= un_dia\n",
    "    \n",
    "    horas = segundos // una_hora\n",
    "    segundos %= una_hora\n",
    "    \n",
    "    minutos = segundos // un_minuto\n",
    "    segundos %= un_minuto\n",
    "    \n",
    "    \n",
    "    partes = []\n",
    "    if anos > 0:\n",
    "        partes.append(f\"{anos} year{'s' if anos > 1 else ''}\")\n",
    "    if dias > 0:\n",
    "        partes.append(f\"{dias} day{'s' if dias > 1 else ''}\")\n",
    "    if horas > 0:\n",
    "        partes.append(f\"{horas} hour{'s' if horas > 1 else ''}\")\n",
    "    if minutos > 0:\n",
    "        partes.append(f\"{minutos} minute{'s' if minutos > 1 else ''}\")\n",
    "    if segundos > 0:\n",
    "        partes.append(f\"{segundos} second{'s' if segundos > 1 else ''}\")\n",
    "    \n",
    "   \n",
    "    if not partes:\n",
    "        return \"now\"\n",
    "    \n",
    "\n",
    "    if len(partes) == 1:\n",
    "        return partes[0]\n",
    "    else:\n",
    "        return ', '.join(partes[:-1]) + ' and ' + partes[-1]\n",
    "\n"
   ]
  },
  {
   "cell_type": "code",
   "execution_count": 35,
   "id": "361e9583",
   "metadata": {},
   "outputs": [
    {
     "name": "stdout",
     "output_type": "stream",
     "text": [
      "1 minute and 2 seconds\n",
      "1 hour, 1 minute and 2 seconds\n",
      "1 year\n"
     ]
    }
   ],
   "source": [
    "# Ejemplos de uso\n",
    "print(formatear_duracion(62))      # 1 minuto y 2 segundos\n",
    "print(formatear_duracion(3662))    # 1 hora, 1 minuto y 2 segundos\n",
    "print(formatear_duracion(31536000)) # 1 año\n"
   ]
  },
  {
   "cell_type": "code",
   "execution_count": 50,
   "id": "287d6d86",
   "metadata": {},
   "outputs": [],
   "source": [
    "def formatear_duracion(seconds):\n",
    "    # Definimos las unidades de tiempo en segundos\n",
    "    unidades = [\n",
    "        (\"year\", 365 * 24 * 60 * 60),\n",
    "        (\"day\", 24 * 60 * 60),\n",
    "        (\"hour\", 60 * 60),\n",
    "        (\"minute\", 60),\n",
    "        (\"second\", 1)\n",
    "    ]\n",
    "    \n",
    "    partes = []\n",
    "    \n",
    "    for nombre, duracion in unidades:\n",
    "        cantidad = seconds // duracion\n",
    "        if cantidad:\n",
    "            partes.append(f\"{cantidad} {nombre}{'s' if cantidad > 1 else ''}\")\n",
    "        seconds %= duracion\n",
    "    \n",
    "    \n",
    "    if len(partes) == 1:\n",
    "        return partes[0]\n",
    "    elif len(partes) > 1:\n",
    "        return ', '.join(partes[:-1]) + ' and ' + partes[-1]\n",
    "    else:\n",
    "        return \" now \"\n",
    "\n"
   ]
  },
  {
   "cell_type": "code",
   "execution_count": 51,
   "id": "c2079f0e",
   "metadata": {},
   "outputs": [
    {
     "name": "stdout",
     "output_type": "stream",
     "text": [
      "1 minute and 2 seconds\n",
      "1 hour, 1 minute and 2 seconds\n",
      "1 year\n"
     ]
    }
   ],
   "source": [
    "# Ejemplos de uso\n",
    "print(formatear_duracion(62))      # 1 minuto y 2 segundos\n",
    "print(formatear_duracion(3662))    # 1 hora, 1 minuto y 2 segundos\n",
    "print(formatear_duracion(31536000)) # 1 año"
   ]
  },
  {
   "cell_type": "code",
   "execution_count": 42,
   "id": "91821f2d",
   "metadata": {},
   "outputs": [],
   "source": [
    "from itertools import product\n",
    "\n",
    "def obtener_variaciones_pin(pin):\n",
    "    # Mapa de adyacencias para cada dígito en el teclado, en el orden específico deseado\n",
    "    adyacencias = {\n",
    "        '1': ['1', '2', '4'],\n",
    "        '2': ['1', '2', '3', '5'],\n",
    "        '3': ['2', '3', '6'],\n",
    "        '4': ['1', '4', '5', '7'],\n",
    "        '5': ['2', '4', '5', '6', '8'],\n",
    "        '6': ['3', '5', '6', '9'],\n",
    "        '7': ['4', '7', '8'],\n",
    "        '8': ['0', '5', '7', '8', '9'], \n",
    "        '9': ['6', '8', '9'],\n",
    "        '0': ['8', '0']\n",
    "    }\n",
    "    \n",
    "   \n",
    "    posibles_digitos = [adyacencias[d] for d in pin]\n",
    "    \n",
    "   \n",
    "    combinaciones = [''.join(p) for p in product(*posibles_digitos)]\n",
    "    \n",
    "    return combinaciones\n",
    "\n"
   ]
  },
  {
   "cell_type": "code",
   "execution_count": 43,
   "id": "d5d4eec8",
   "metadata": {},
   "outputs": [
    {
     "name": "stdout",
     "output_type": "stream",
     "text": [
      "['0', '5', '7', '8', '9']\n"
     ]
    }
   ],
   "source": [
    "# Ejemplo de uso\n",
    "pin = \"8\"\n",
    "variaciones = obtener_variaciones_pin(pin)\n",
    "print(variaciones)\n",
    "# Output esperado: ['0', '5', '7', '8', '9']\n"
   ]
  },
  {
   "cell_type": "code",
   "execution_count": 44,
   "id": "035635eb",
   "metadata": {},
   "outputs": [],
   "source": [
    "def obtener_variaciones_pin(pin):\n",
    "    # Mapa de adyacencias para cada dígito en el teclado\n",
    "    adyacencias = {\n",
    "        '1': ['1', '2', '4'],\n",
    "        '2': ['1', '2', '3', '5'],\n",
    "        '3': ['2', '3', '6'],\n",
    "        '4': ['1', '4', '5', '7'],\n",
    "        '5': ['2', '4', '5', '6', '8'],\n",
    "        '6': ['3', '5', '6', '9'],\n",
    "        '7': ['4', '7', '8'],\n",
    "        '8': ['0', '5', '7', '8', '9'],\n",
    "        '9': ['6', '8', '9'],\n",
    "        '0': ['8', '0']\n",
    "    }\n",
    "    \n",
    "    def generar_combinaciones(prefix, indices):\n",
    "        if not indices:\n",
    "            combinaciones.append(prefix)\n",
    "            return\n",
    "        \n",
    "        current_digit = indices[0]\n",
    "        for replacement in adyacencias[current_digit]:\n",
    "            generar_combinaciones(prefix + replacement, indices[1:])\n",
    "    \n",
    "    combinaciones = []\n",
    "    generar_combinaciones('', list(pin))\n",
    "    \n",
    "    return combinaciones\n",
    "\n"
   ]
  },
  {
   "cell_type": "code",
   "execution_count": 45,
   "id": "eab93fb5",
   "metadata": {},
   "outputs": [
    {
     "name": "stdout",
     "output_type": "stream",
     "text": [
      "['0', '5', '7', '8', '9']\n"
     ]
    }
   ],
   "source": [
    "# Ejemplo de uso\n",
    "pin = \"8\"\n",
    "variaciones = obtener_variaciones_pin(pin)\n",
    "print(variaciones)\n",
    "# Output esperado: ['0', '5', '7', '8', '9']\n"
   ]
  },
  {
   "cell_type": "code",
   "execution_count": 46,
   "id": "58be2a4f",
   "metadata": {},
   "outputs": [],
   "source": [
    "def generate_pins(pin):\n",
    "    # Mapa de adyacencias para cada número en el teclado\n",
    "    adj = {\n",
    "        '0': ['0', '8'],\n",
    "        '1': ['1', '2', '4'],\n",
    "        '2': ['1', '2', '3', '5'],\n",
    "        '3': ['2', '3', '6'],\n",
    "        '4': ['1', '4', '5', '7'],\n",
    "        '5': ['2', '4', '5', '6', '8'],\n",
    "        '6': ['3', '5', '6', '9'],\n",
    "        '7': ['4', '7', '8'],\n",
    "        '8': ['5', '7', '8', '9', '0'],\n",
    "        '9': ['6', '8', '9']\n",
    "    }\n",
    "    def backtrack(index, current):\n",
    "        if index == len(pin):\n",
    "            results.append(''.join(current))\n",
    "            return\n",
    "        \n",
    "        for digit in adj[pin[index]]:\n",
    "            backtrack(index + 1, current + [digit])\n",
    "    \n",
    "    results = []\n",
    "    backtrack(0, [])\n",
    "    results.sort()\n",
    "    return results\n"
   ]
  },
  {
   "cell_type": "code",
   "execution_count": 47,
   "id": "01f43c73",
   "metadata": {},
   "outputs": [
    {
     "name": "stdout",
     "output_type": "stream",
     "text": [
      "['0', '5', '7', '8', '9']\n"
     ]
    }
   ],
   "source": [
    "# Ejemplo de uso\n",
    "pin = \"8\"\n",
    "combinations = generate_pins(pin)\n",
    "print(combinations)\n"
   ]
  },
  {
   "cell_type": "code",
   "execution_count": null,
   "id": "1dcbd6f9",
   "metadata": {},
   "outputs": [],
   "source": []
  }
 ],
 "metadata": {
  "kernelspec": {
   "display_name": "Python 3 (ipykernel)",
   "language": "python",
   "name": "python3"
  },
  "language_info": {
   "codemirror_mode": {
    "name": "ipython",
    "version": 3
   },
   "file_extension": ".py",
   "mimetype": "text/x-python",
   "name": "python",
   "nbconvert_exporter": "python",
   "pygments_lexer": "ipython3",
   "version": "3.10.14"
  }
 },
 "nbformat": 4,
 "nbformat_minor": 5
}
