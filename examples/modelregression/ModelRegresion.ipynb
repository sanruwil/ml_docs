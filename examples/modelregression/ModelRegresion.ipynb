{
 "cells": [
  {
   "cell_type": "markdown",
   "id": "b4933fe3",
   "metadata": {},
   "source": [
    "# Learning Supervised - Regression Models\n",
    "### Evaluation Metrics in Regression\n",
    "![Evaluation Metrics in Regression ](./images/metricsregression.png)\n",
    "\n",
    "Here are some commonly used metrics in regression:\n",
    "\n",
    "\n",
    "1. Mean Squared Error (MSE): It calculates the average squared difference between the predicted and actual values. It penalizes large errors more than smaller ones.\n",
    "\n",
    "2. Root Mean Squared Error (RMSE): It is the square root of the MSE and provides an interpretable metric in the same units as the target variable.\n",
    "\n",
    "3. Mean Absolute Error (MAE): It calculates the average absolute difference between the predicted and actual values. It is less sensitive to outliers compared to MSE.\n",
    "\n",
    "4. R-squared (R²): It measures the proportion of the variance in the dependent variable that is predictable from the independent variables. It ranges from 0 to 1, with higher values indicating a better fit.\n",
    "\n",
    "5. Mean Squared Logarithmic Error (MSLE): It calculates the mean logarithmic difference between the predicted and actual values, which is useful when the target variable has a wide range of values.\n",
    "\n",
    "6. Median Absolute Error: It calculates the median absolute difference between the predicted and actual values, which is less sensitive to outliers compared to MAE.\n",
    "\n",
    "7. Mean Percentage Error (MPE): It calculates the average percentage difference between the predicted and actual values, indicating the average magnitude of error as a percentage."
   ]
  },
  {
   "cell_type": "markdown",
   "id": "d4c3ac93",
   "metadata": {},
   "source": [
    "# 1. Machine Learning"
   ]
  },
  {
   "cell_type": "markdown",
   "id": "68d26490",
   "metadata": {},
   "source": [
    "## Simple Linear Regression"
   ]
  },
  {
   "cell_type": "markdown",
   "id": "25ebc538",
   "metadata": {},
   "source": [
    "It is the basic model that involves a single independent variable and a dependent variable. The general equation is of the form: Y = β₀ + β₁X + ɛ, where Y is the dependent variable, X is the independent variable, β₀ is the intercept coefficient, β₁ is the slope coefficient, and ɛ is the error term"
   ]
  },
  {
   "cell_type": "code",
   "execution_count": 15,
   "id": "4a977fd9",
   "metadata": {},
   "outputs": [
    {
     "name": "stdout",
     "output_type": "stream",
     "text": [
      "Predicción del nuevo valor: [35.12267658]\n",
      "MSE: 6.230718103442017\n",
      "rmse: 2.4961406417591974\n",
      "R^2: 0.9193381275908431\n"
     ]
    }
   ],
   "source": [
    "import numpy as np\n",
    "from sklearn.linear_model import LinearRegression\n",
    "from sklearn.model_selection import cross_val_predict\n",
    "from sklearn.metrics import mean_squared_error, mean_absolute_error, r2_score\n",
    "from sklearn.datasets import load_boston\n",
    "\n",
    "# Example data\n",
    "x = np.array([[1], [2], [3], [4], [5],[6],[7],[8],[9],[10],[14],[16],[18],[20]]) #arrray 2 arra.reshape((-1, 1))\n",
    "y = np.array([2, 4, 6, 8, 10,12,14,16,18,20,24,26,28,30])\n",
    "# We create an instance of the  linear regression model.\n",
    "model = LinearRegression()\n",
    "# We performed k-fold cross-validation.\n",
    "rls_cv = cross_val_predict(model, x, y, cv=5)\n",
    "# We run the model\n",
    "model.fit(x, y)\n",
    "#We performed a prediction for a new value\n",
    "x_test = [[22]]\n",
    "y_pred = model.predict(x_test)\n",
    "\n",
    "# we calculated metrics of performance\n",
    "#MSE -Mean Squared Error(MSE)\n",
    "mse = mean_squared_error(y, rls_cv)\n",
    "# RMSE-\"Root Mean Squared Error\" (RMSE)- same scale of data\n",
    "rmse = np.sqrt(mean_squared_error(y, rls_cv))\n",
    "#R2- Coefficient of Determination (R2).: \n",
    "#It is a measure of how well the model fits the data. \n",
    "#A value of R2 closer to 1 indicates a better fit, \n",
    "#while a value close to 0 indicates that the model does not explain the variability well\n",
    "r2 = r2_score(y, rls_cv)\n",
    "print(\"Predicción del nuevo valor:\", y_pred)\n",
    "# Print Results\n",
    "print(\"MSE:\", mse)\n",
    "print(\"rmse:\", rmse)\n",
    "print(\"R^2:\", r2)"
   ]
  },
  {
   "cell_type": "markdown",
   "id": "06f40027",
   "metadata": {},
   "source": [
    "## Weighted Linear Regression Model (ponderada)"
   ]
  },
  {
   "cell_type": "markdown",
   "id": "395e57c3",
   "metadata": {},
   "source": [
    "In certain cases, it can be useful to assign different weights to observations based on their relative importance. This is achieved by using a weighted linear regression model, where different weights are applied to each observation based on some criterion."
   ]
  },
  {
   "cell_type": "code",
   "execution_count": 16,
   "id": "4e7a99fb",
   "metadata": {},
   "outputs": [
    {
     "name": "stdout",
     "output_type": "stream",
     "text": [
      "Predicción del nuevo valor: [34.45724063]\n",
      "MSE: 5.822059073994034\n",
      "rmse: 2.4128943354390873\n",
      "R^2: 0.9246285615255726\n"
     ]
    }
   ],
   "source": [
    "import numpy as np\n",
    "from sklearn.linear_model import LinearRegression\n",
    "from sklearn.model_selection import cross_val_predict\n",
    "from sklearn.metrics import mean_squared_error, mean_absolute_error, r2_score\n",
    "\n",
    "# Example data\n",
    "x1 = np.array([[1], [2], [3], [4], [5],[6],[7],[8],[9],[10],[14],[16],[18],[20]])\n",
    "y1 = np.array([2, 4, 6, 8, 10,12,14,16,18,20,24,26,28,30])\n",
    "\n",
    "# We calculate the weights based on the values of y.\n",
    "#For this case, we used the logarithm function as the weighting factor\n",
    "weights =  np.log(y1)\n",
    "\n",
    "# We create an instance of the  linear regression model\n",
    "model1 = LinearRegression()\n",
    "\n",
    "# We performed k-fold cross-validation weighted\n",
    "mrp_cv = cross_val_predict(model1, x1, y1, cv=5, fit_params={'sample_weight': weights})\n",
    "\n",
    "# We run the model\n",
    "model1.fit(x1, y1, sample_weight=weights)\n",
    "# We performed a prediction for a new value\n",
    "X_test = [[22]]\n",
    "y_pred1 = model1.predict(X_test)\n",
    "\n",
    "# we calculated metrics of performance\n",
    "#MSE -Mean Squared Error(MSE)\n",
    "mse_mrp = mean_squared_error(y1, mrp_cv)\n",
    "# RMSE-\"Root Mean Squared Error\" (RMSE)- same scale of data\n",
    "rmse_mrp = np.sqrt(mean_squared_error(y1, mrp_cv))\n",
    "#R2- Coefficient of Determination (R2).: \n",
    "#It is a measure of how well the model fits the data. \n",
    "#A value of R2 closer to 1 indicates a better fit, \n",
    "#while a value close to 0 indicates that the model does not explain the variability well\n",
    "r2_mrp = r2_score(y1, mrp_cv)\n",
    "print(\"Predicción del nuevo valor:\", y_pred1)\n",
    "# Print Results\n",
    "print(\"MSE:\", mse_mrp)\n",
    "print(\"rmse:\", rmse_mrp)\n",
    "print(\"R^2:\", r2_mrp)\n"
   ]
  },
  {
   "cell_type": "markdown",
   "id": "01d3bfc8",
   "metadata": {},
   "source": [
    "## Polynomial Linear Regression\n"
   ]
  },
  {
   "cell_type": "markdown",
   "id": "eeef0f7e",
   "metadata": {},
   "source": [
    "Instead of assuming an exact linear relationship between variables, this model allows for fitting a higher-degree polynomial relationship. For example, a polynomial linear regression model of degree 2 would have an equation of the form: Y = β₀ + β₁X + β₂X² + ɛ."
   ]
  },
  {
   "cell_type": "code",
   "execution_count": 17,
   "id": "219f6cd3",
   "metadata": {},
   "outputs": [
    {
     "name": "stdout",
     "output_type": "stream",
     "text": [
      "Predicción del nuevo valor: [30.56049676]\n",
      "MSE: 0.38279677082133096\n",
      "rmse: 0.6187057223117716\n",
      "R^2: 0.9950443746974253\n"
     ]
    }
   ],
   "source": [
    "import numpy as np\n",
    "from sklearn.linear_model import LinearRegression\n",
    "from sklearn.preprocessing import PolynomialFeatures\n",
    "from sklearn.model_selection import cross_val_score\n",
    "from sklearn.metrics import mean_squared_error, mean_absolute_error, r2_score\n",
    "\n",
    "# Example data\n",
    "x2 = np.array([[1], [2], [3], [4], [5],[6],[7],[8],[9],[10],[14],[16],[18],[20]])\n",
    "y2 = np.array([2, 4, 6, 8, 10,12,14,16,18,20,24,26,28,30])\n",
    "\n",
    "# Second-degree Polynomial Transformation (degree 2)\n",
    "poly = PolynomialFeatures(degree=2)\n",
    "X_poly = poly.fit_transform(x2)\n",
    "# We create an instance of the  linear regression model\n",
    "model2 = LinearRegression()\n",
    "# We performed k-fold cross-validation polynomial\n",
    "rlp_cv = cross_val_predict(model2, X_poly, y2, cv=5)\n",
    "# We run the model\n",
    "model2.fit(X_poly, y2)\n",
    "# We performed a prediction for a new value\n",
    "X_new = np.array([[22]])\n",
    "X_new_poly = poly.transform(X_new)\n",
    "y_pred2 = model2.predict(X_new_poly)\n",
    "\n",
    "\n",
    "# we calculated metrics of performance\n",
    "#MSE -Mean Squared Error(MSE)\n",
    "mse_rlp = mean_squared_error(y2, rlp_cv)\n",
    "# RMSE-\"Root Mean Squared Error\" (RMSE)- same scale of data\n",
    "rmse_rlp = np.sqrt(mean_squared_error(y2, rlp_cv))\n",
    "#R2- Coefficient of Determination (R2).: \n",
    "#It is a measure of how well the model fits the data. \n",
    "#A value of R2 closer to 1 indicates a better fit, \n",
    "#while a value close to 0 indicates that the model does not explain the variability well\n",
    "r2_rlp = r2_score(y2, rlp_cv)\n",
    "print(\"Predicción del nuevo valor:\", y_pred2)\n",
    "# Print Results\n",
    "print(\"MSE:\", mse_rlp)\n",
    "print(\"rmse:\", rmse_rlp)\n",
    "print(\"R^2:\", r2_rlp)\n"
   ]
  },
  {
   "cell_type": "markdown",
   "id": "b4f69914",
   "metadata": {},
   "source": [
    "### Comparison of Model Results - Parte one"
   ]
  },
  {
   "cell_type": "code",
   "execution_count": 18,
   "id": "1f244114",
   "metadata": {},
   "outputs": [
    {
     "data": {
      "application/vnd.plotly.v1+json": {
       "config": {
        "plotlyServerURL": "https://plot.ly"
       },
       "data": [
        {
         "name": "Real",
         "type": "scatter",
         "x": [
          1,
          2,
          3,
          4,
          5,
          6,
          7,
          8,
          9,
          10,
          14,
          16,
          18,
          20
         ],
         "y": [
          2,
          4,
          6,
          8,
          10,
          12,
          14,
          16,
          18,
          20,
          24,
          26,
          28,
          30
         ]
        },
        {
         "name": "rls_cv",
         "type": "scatter",
         "x": [
          1,
          2,
          3,
          4,
          5,
          6,
          7,
          8,
          9,
          10,
          14,
          16,
          18,
          20
         ],
         "y": [
          5.766826923076922,
          7.111778846153845,
          8.456730769230766,
          8.490987124463519,
          9.969098712446351,
          11.447210300429184,
          12.479755538579068,
          13.967150496562262,
          15.454545454545455,
          17.028503562945367,
          22.85273159144893,
          25.76484560570071,
          31.39482085846044,
          34.70379567222419
         ]
        },
        {
         "name": "mrp_cv",
         "type": "scatter",
         "x": [
          1,
          2,
          3,
          4,
          5,
          6,
          7,
          8,
          9,
          10,
          14,
          16,
          18,
          20
         ],
         "y": [
          6.093176458004553,
          7.411881334842627,
          8.7305862116807,
          9.471722487728782,
          10.850525472204904,
          12.229328456681024,
          12.86120020756565,
          14.294079544546381,
          15.726958881527112,
          17.18439410496581,
          22.74157270649454,
          25.520162007258904,
          30.805249666240968,
          33.96623934275532
         ]
        },
        {
         "name": "rlp_cv",
         "type": "scatter",
         "x": [
          1,
          2,
          3,
          4,
          5,
          6,
          7,
          8,
          9,
          10,
          14,
          16,
          18,
          20
         ],
         "y": [
          1.153376382255706,
          3.5667569682037055,
          5.877501294192262,
          8.449555419862628,
          10.476027804033405,
          12.40785717671397,
          13.983005583027822,
          15.718008353366374,
          17.364725491734028,
          19.026889198608202,
          24.41003546550397,
          26.563880544018772,
          27.611449550375696,
          28.666868525951315
         ]
        }
       ],
       "layout": {
        "hovermode": "x",
        "template": {
         "data": {
          "bar": [
           {
            "error_x": {
             "color": "#2a3f5f"
            },
            "error_y": {
             "color": "#2a3f5f"
            },
            "marker": {
             "line": {
              "color": "#E5ECF6",
              "width": 0.5
             },
             "pattern": {
              "fillmode": "overlay",
              "size": 10,
              "solidity": 0.2
             }
            },
            "type": "bar"
           }
          ],
          "barpolar": [
           {
            "marker": {
             "line": {
              "color": "#E5ECF6",
              "width": 0.5
             },
             "pattern": {
              "fillmode": "overlay",
              "size": 10,
              "solidity": 0.2
             }
            },
            "type": "barpolar"
           }
          ],
          "carpet": [
           {
            "aaxis": {
             "endlinecolor": "#2a3f5f",
             "gridcolor": "white",
             "linecolor": "white",
             "minorgridcolor": "white",
             "startlinecolor": "#2a3f5f"
            },
            "baxis": {
             "endlinecolor": "#2a3f5f",
             "gridcolor": "white",
             "linecolor": "white",
             "minorgridcolor": "white",
             "startlinecolor": "#2a3f5f"
            },
            "type": "carpet"
           }
          ],
          "choropleth": [
           {
            "colorbar": {
             "outlinewidth": 0,
             "ticks": ""
            },
            "type": "choropleth"
           }
          ],
          "contour": [
           {
            "colorbar": {
             "outlinewidth": 0,
             "ticks": ""
            },
            "colorscale": [
             [
              0,
              "#0d0887"
             ],
             [
              0.1111111111111111,
              "#46039f"
             ],
             [
              0.2222222222222222,
              "#7201a8"
             ],
             [
              0.3333333333333333,
              "#9c179e"
             ],
             [
              0.4444444444444444,
              "#bd3786"
             ],
             [
              0.5555555555555556,
              "#d8576b"
             ],
             [
              0.6666666666666666,
              "#ed7953"
             ],
             [
              0.7777777777777778,
              "#fb9f3a"
             ],
             [
              0.8888888888888888,
              "#fdca26"
             ],
             [
              1,
              "#f0f921"
             ]
            ],
            "type": "contour"
           }
          ],
          "contourcarpet": [
           {
            "colorbar": {
             "outlinewidth": 0,
             "ticks": ""
            },
            "type": "contourcarpet"
           }
          ],
          "heatmap": [
           {
            "colorbar": {
             "outlinewidth": 0,
             "ticks": ""
            },
            "colorscale": [
             [
              0,
              "#0d0887"
             ],
             [
              0.1111111111111111,
              "#46039f"
             ],
             [
              0.2222222222222222,
              "#7201a8"
             ],
             [
              0.3333333333333333,
              "#9c179e"
             ],
             [
              0.4444444444444444,
              "#bd3786"
             ],
             [
              0.5555555555555556,
              "#d8576b"
             ],
             [
              0.6666666666666666,
              "#ed7953"
             ],
             [
              0.7777777777777778,
              "#fb9f3a"
             ],
             [
              0.8888888888888888,
              "#fdca26"
             ],
             [
              1,
              "#f0f921"
             ]
            ],
            "type": "heatmap"
           }
          ],
          "heatmapgl": [
           {
            "colorbar": {
             "outlinewidth": 0,
             "ticks": ""
            },
            "colorscale": [
             [
              0,
              "#0d0887"
             ],
             [
              0.1111111111111111,
              "#46039f"
             ],
             [
              0.2222222222222222,
              "#7201a8"
             ],
             [
              0.3333333333333333,
              "#9c179e"
             ],
             [
              0.4444444444444444,
              "#bd3786"
             ],
             [
              0.5555555555555556,
              "#d8576b"
             ],
             [
              0.6666666666666666,
              "#ed7953"
             ],
             [
              0.7777777777777778,
              "#fb9f3a"
             ],
             [
              0.8888888888888888,
              "#fdca26"
             ],
             [
              1,
              "#f0f921"
             ]
            ],
            "type": "heatmapgl"
           }
          ],
          "histogram": [
           {
            "marker": {
             "pattern": {
              "fillmode": "overlay",
              "size": 10,
              "solidity": 0.2
             }
            },
            "type": "histogram"
           }
          ],
          "histogram2d": [
           {
            "colorbar": {
             "outlinewidth": 0,
             "ticks": ""
            },
            "colorscale": [
             [
              0,
              "#0d0887"
             ],
             [
              0.1111111111111111,
              "#46039f"
             ],
             [
              0.2222222222222222,
              "#7201a8"
             ],
             [
              0.3333333333333333,
              "#9c179e"
             ],
             [
              0.4444444444444444,
              "#bd3786"
             ],
             [
              0.5555555555555556,
              "#d8576b"
             ],
             [
              0.6666666666666666,
              "#ed7953"
             ],
             [
              0.7777777777777778,
              "#fb9f3a"
             ],
             [
              0.8888888888888888,
              "#fdca26"
             ],
             [
              1,
              "#f0f921"
             ]
            ],
            "type": "histogram2d"
           }
          ],
          "histogram2dcontour": [
           {
            "colorbar": {
             "outlinewidth": 0,
             "ticks": ""
            },
            "colorscale": [
             [
              0,
              "#0d0887"
             ],
             [
              0.1111111111111111,
              "#46039f"
             ],
             [
              0.2222222222222222,
              "#7201a8"
             ],
             [
              0.3333333333333333,
              "#9c179e"
             ],
             [
              0.4444444444444444,
              "#bd3786"
             ],
             [
              0.5555555555555556,
              "#d8576b"
             ],
             [
              0.6666666666666666,
              "#ed7953"
             ],
             [
              0.7777777777777778,
              "#fb9f3a"
             ],
             [
              0.8888888888888888,
              "#fdca26"
             ],
             [
              1,
              "#f0f921"
             ]
            ],
            "type": "histogram2dcontour"
           }
          ],
          "mesh3d": [
           {
            "colorbar": {
             "outlinewidth": 0,
             "ticks": ""
            },
            "type": "mesh3d"
           }
          ],
          "parcoords": [
           {
            "line": {
             "colorbar": {
              "outlinewidth": 0,
              "ticks": ""
             }
            },
            "type": "parcoords"
           }
          ],
          "pie": [
           {
            "automargin": true,
            "type": "pie"
           }
          ],
          "scatter": [
           {
            "fillpattern": {
             "fillmode": "overlay",
             "size": 10,
             "solidity": 0.2
            },
            "type": "scatter"
           }
          ],
          "scatter3d": [
           {
            "line": {
             "colorbar": {
              "outlinewidth": 0,
              "ticks": ""
             }
            },
            "marker": {
             "colorbar": {
              "outlinewidth": 0,
              "ticks": ""
             }
            },
            "type": "scatter3d"
           }
          ],
          "scattercarpet": [
           {
            "marker": {
             "colorbar": {
              "outlinewidth": 0,
              "ticks": ""
             }
            },
            "type": "scattercarpet"
           }
          ],
          "scattergeo": [
           {
            "marker": {
             "colorbar": {
              "outlinewidth": 0,
              "ticks": ""
             }
            },
            "type": "scattergeo"
           }
          ],
          "scattergl": [
           {
            "marker": {
             "colorbar": {
              "outlinewidth": 0,
              "ticks": ""
             }
            },
            "type": "scattergl"
           }
          ],
          "scattermapbox": [
           {
            "marker": {
             "colorbar": {
              "outlinewidth": 0,
              "ticks": ""
             }
            },
            "type": "scattermapbox"
           }
          ],
          "scatterpolar": [
           {
            "marker": {
             "colorbar": {
              "outlinewidth": 0,
              "ticks": ""
             }
            },
            "type": "scatterpolar"
           }
          ],
          "scatterpolargl": [
           {
            "marker": {
             "colorbar": {
              "outlinewidth": 0,
              "ticks": ""
             }
            },
            "type": "scatterpolargl"
           }
          ],
          "scatterternary": [
           {
            "marker": {
             "colorbar": {
              "outlinewidth": 0,
              "ticks": ""
             }
            },
            "type": "scatterternary"
           }
          ],
          "surface": [
           {
            "colorbar": {
             "outlinewidth": 0,
             "ticks": ""
            },
            "colorscale": [
             [
              0,
              "#0d0887"
             ],
             [
              0.1111111111111111,
              "#46039f"
             ],
             [
              0.2222222222222222,
              "#7201a8"
             ],
             [
              0.3333333333333333,
              "#9c179e"
             ],
             [
              0.4444444444444444,
              "#bd3786"
             ],
             [
              0.5555555555555556,
              "#d8576b"
             ],
             [
              0.6666666666666666,
              "#ed7953"
             ],
             [
              0.7777777777777778,
              "#fb9f3a"
             ],
             [
              0.8888888888888888,
              "#fdca26"
             ],
             [
              1,
              "#f0f921"
             ]
            ],
            "type": "surface"
           }
          ],
          "table": [
           {
            "cells": {
             "fill": {
              "color": "#EBF0F8"
             },
             "line": {
              "color": "white"
             }
            },
            "header": {
             "fill": {
              "color": "#C8D4E3"
             },
             "line": {
              "color": "white"
             }
            },
            "type": "table"
           }
          ]
         },
         "layout": {
          "annotationdefaults": {
           "arrowcolor": "#2a3f5f",
           "arrowhead": 0,
           "arrowwidth": 1
          },
          "autotypenumbers": "strict",
          "coloraxis": {
           "colorbar": {
            "outlinewidth": 0,
            "ticks": ""
           }
          },
          "colorscale": {
           "diverging": [
            [
             0,
             "#8e0152"
            ],
            [
             0.1,
             "#c51b7d"
            ],
            [
             0.2,
             "#de77ae"
            ],
            [
             0.3,
             "#f1b6da"
            ],
            [
             0.4,
             "#fde0ef"
            ],
            [
             0.5,
             "#f7f7f7"
            ],
            [
             0.6,
             "#e6f5d0"
            ],
            [
             0.7,
             "#b8e186"
            ],
            [
             0.8,
             "#7fbc41"
            ],
            [
             0.9,
             "#4d9221"
            ],
            [
             1,
             "#276419"
            ]
           ],
           "sequential": [
            [
             0,
             "#0d0887"
            ],
            [
             0.1111111111111111,
             "#46039f"
            ],
            [
             0.2222222222222222,
             "#7201a8"
            ],
            [
             0.3333333333333333,
             "#9c179e"
            ],
            [
             0.4444444444444444,
             "#bd3786"
            ],
            [
             0.5555555555555556,
             "#d8576b"
            ],
            [
             0.6666666666666666,
             "#ed7953"
            ],
            [
             0.7777777777777778,
             "#fb9f3a"
            ],
            [
             0.8888888888888888,
             "#fdca26"
            ],
            [
             1,
             "#f0f921"
            ]
           ],
           "sequentialminus": [
            [
             0,
             "#0d0887"
            ],
            [
             0.1111111111111111,
             "#46039f"
            ],
            [
             0.2222222222222222,
             "#7201a8"
            ],
            [
             0.3333333333333333,
             "#9c179e"
            ],
            [
             0.4444444444444444,
             "#bd3786"
            ],
            [
             0.5555555555555556,
             "#d8576b"
            ],
            [
             0.6666666666666666,
             "#ed7953"
            ],
            [
             0.7777777777777778,
             "#fb9f3a"
            ],
            [
             0.8888888888888888,
             "#fdca26"
            ],
            [
             1,
             "#f0f921"
            ]
           ]
          },
          "colorway": [
           "#636efa",
           "#EF553B",
           "#00cc96",
           "#ab63fa",
           "#FFA15A",
           "#19d3f3",
           "#FF6692",
           "#B6E880",
           "#FF97FF",
           "#FECB52"
          ],
          "font": {
           "color": "#2a3f5f"
          },
          "geo": {
           "bgcolor": "white",
           "lakecolor": "white",
           "landcolor": "#E5ECF6",
           "showlakes": true,
           "showland": true,
           "subunitcolor": "white"
          },
          "hoverlabel": {
           "align": "left"
          },
          "hovermode": "closest",
          "mapbox": {
           "style": "light"
          },
          "paper_bgcolor": "white",
          "plot_bgcolor": "#E5ECF6",
          "polar": {
           "angularaxis": {
            "gridcolor": "white",
            "linecolor": "white",
            "ticks": ""
           },
           "bgcolor": "#E5ECF6",
           "radialaxis": {
            "gridcolor": "white",
            "linecolor": "white",
            "ticks": ""
           }
          },
          "scene": {
           "xaxis": {
            "backgroundcolor": "#E5ECF6",
            "gridcolor": "white",
            "gridwidth": 2,
            "linecolor": "white",
            "showbackground": true,
            "ticks": "",
            "zerolinecolor": "white"
           },
           "yaxis": {
            "backgroundcolor": "#E5ECF6",
            "gridcolor": "white",
            "gridwidth": 2,
            "linecolor": "white",
            "showbackground": true,
            "ticks": "",
            "zerolinecolor": "white"
           },
           "zaxis": {
            "backgroundcolor": "#E5ECF6",
            "gridcolor": "white",
            "gridwidth": 2,
            "linecolor": "white",
            "showbackground": true,
            "ticks": "",
            "zerolinecolor": "white"
           }
          },
          "shapedefaults": {
           "line": {
            "color": "#2a3f5f"
           }
          },
          "ternary": {
           "aaxis": {
            "gridcolor": "white",
            "linecolor": "white",
            "ticks": ""
           },
           "baxis": {
            "gridcolor": "white",
            "linecolor": "white",
            "ticks": ""
           },
           "bgcolor": "#E5ECF6",
           "caxis": {
            "gridcolor": "white",
            "linecolor": "white",
            "ticks": ""
           }
          },
          "title": {
           "x": 0.05
          },
          "xaxis": {
           "automargin": true,
           "gridcolor": "white",
           "linecolor": "white",
           "ticks": "",
           "title": {
            "standoff": 15
           },
           "zerolinecolor": "white",
           "zerolinewidth": 2
          },
          "yaxis": {
           "automargin": true,
           "gridcolor": "white",
           "linecolor": "white",
           "ticks": "",
           "title": {
            "standoff": 15
           },
           "zerolinecolor": "white",
           "zerolinewidth": 2
          }
         }
        },
        "title": {
         "text": "Lineal regression models"
        },
        "xaxis": {
         "title": {
          "text": "x- Input-value"
         }
        },
        "yaxis": {
         "title": {
          "text": "y- Output-Value"
         }
        }
       }
      },
      "text/html": [
       "<div>                            <div id=\"efc2991e-b772-47bc-9a89-8b46ea4b19f9\" class=\"plotly-graph-div\" style=\"height:525px; width:100%;\"></div>            <script type=\"text/javascript\">                require([\"plotly\"], function(Plotly) {                    window.PLOTLYENV=window.PLOTLYENV || {};                                    if (document.getElementById(\"efc2991e-b772-47bc-9a89-8b46ea4b19f9\")) {                    Plotly.newPlot(                        \"efc2991e-b772-47bc-9a89-8b46ea4b19f9\",                        [{\"name\":\"Real\",\"x\":[1,2,3,4,5,6,7,8,9,10,14,16,18,20],\"y\":[2,4,6,8,10,12,14,16,18,20,24,26,28,30],\"type\":\"scatter\"},{\"name\":\"rls_cv\",\"x\":[1,2,3,4,5,6,7,8,9,10,14,16,18,20],\"y\":[5.766826923076922,7.111778846153845,8.456730769230766,8.490987124463519,9.969098712446351,11.447210300429184,12.479755538579068,13.967150496562262,15.454545454545455,17.028503562945367,22.85273159144893,25.76484560570071,31.39482085846044,34.70379567222419],\"type\":\"scatter\"},{\"name\":\"mrp_cv\",\"x\":[1,2,3,4,5,6,7,8,9,10,14,16,18,20],\"y\":[6.093176458004553,7.411881334842627,8.7305862116807,9.471722487728782,10.850525472204904,12.229328456681024,12.86120020756565,14.294079544546381,15.726958881527112,17.18439410496581,22.74157270649454,25.520162007258904,30.805249666240968,33.96623934275532],\"type\":\"scatter\"},{\"name\":\"rlp_cv\",\"x\":[1,2,3,4,5,6,7,8,9,10,14,16,18,20],\"y\":[1.153376382255706,3.5667569682037055,5.877501294192262,8.449555419862628,10.476027804033405,12.40785717671397,13.983005583027822,15.718008353366374,17.364725491734028,19.026889198608202,24.41003546550397,26.563880544018772,27.611449550375696,28.666868525951315],\"type\":\"scatter\"}],                        {\"template\":{\"data\":{\"histogram2dcontour\":[{\"type\":\"histogram2dcontour\",\"colorbar\":{\"outlinewidth\":0,\"ticks\":\"\"},\"colorscale\":[[0.0,\"#0d0887\"],[0.1111111111111111,\"#46039f\"],[0.2222222222222222,\"#7201a8\"],[0.3333333333333333,\"#9c179e\"],[0.4444444444444444,\"#bd3786\"],[0.5555555555555556,\"#d8576b\"],[0.6666666666666666,\"#ed7953\"],[0.7777777777777778,\"#fb9f3a\"],[0.8888888888888888,\"#fdca26\"],[1.0,\"#f0f921\"]]}],\"choropleth\":[{\"type\":\"choropleth\",\"colorbar\":{\"outlinewidth\":0,\"ticks\":\"\"}}],\"histogram2d\":[{\"type\":\"histogram2d\",\"colorbar\":{\"outlinewidth\":0,\"ticks\":\"\"},\"colorscale\":[[0.0,\"#0d0887\"],[0.1111111111111111,\"#46039f\"],[0.2222222222222222,\"#7201a8\"],[0.3333333333333333,\"#9c179e\"],[0.4444444444444444,\"#bd3786\"],[0.5555555555555556,\"#d8576b\"],[0.6666666666666666,\"#ed7953\"],[0.7777777777777778,\"#fb9f3a\"],[0.8888888888888888,\"#fdca26\"],[1.0,\"#f0f921\"]]}],\"heatmap\":[{\"type\":\"heatmap\",\"colorbar\":{\"outlinewidth\":0,\"ticks\":\"\"},\"colorscale\":[[0.0,\"#0d0887\"],[0.1111111111111111,\"#46039f\"],[0.2222222222222222,\"#7201a8\"],[0.3333333333333333,\"#9c179e\"],[0.4444444444444444,\"#bd3786\"],[0.5555555555555556,\"#d8576b\"],[0.6666666666666666,\"#ed7953\"],[0.7777777777777778,\"#fb9f3a\"],[0.8888888888888888,\"#fdca26\"],[1.0,\"#f0f921\"]]}],\"heatmapgl\":[{\"type\":\"heatmapgl\",\"colorbar\":{\"outlinewidth\":0,\"ticks\":\"\"},\"colorscale\":[[0.0,\"#0d0887\"],[0.1111111111111111,\"#46039f\"],[0.2222222222222222,\"#7201a8\"],[0.3333333333333333,\"#9c179e\"],[0.4444444444444444,\"#bd3786\"],[0.5555555555555556,\"#d8576b\"],[0.6666666666666666,\"#ed7953\"],[0.7777777777777778,\"#fb9f3a\"],[0.8888888888888888,\"#fdca26\"],[1.0,\"#f0f921\"]]}],\"contourcarpet\":[{\"type\":\"contourcarpet\",\"colorbar\":{\"outlinewidth\":0,\"ticks\":\"\"}}],\"contour\":[{\"type\":\"contour\",\"colorbar\":{\"outlinewidth\":0,\"ticks\":\"\"},\"colorscale\":[[0.0,\"#0d0887\"],[0.1111111111111111,\"#46039f\"],[0.2222222222222222,\"#7201a8\"],[0.3333333333333333,\"#9c179e\"],[0.4444444444444444,\"#bd3786\"],[0.5555555555555556,\"#d8576b\"],[0.6666666666666666,\"#ed7953\"],[0.7777777777777778,\"#fb9f3a\"],[0.8888888888888888,\"#fdca26\"],[1.0,\"#f0f921\"]]}],\"surface\":[{\"type\":\"surface\",\"colorbar\":{\"outlinewidth\":0,\"ticks\":\"\"},\"colorscale\":[[0.0,\"#0d0887\"],[0.1111111111111111,\"#46039f\"],[0.2222222222222222,\"#7201a8\"],[0.3333333333333333,\"#9c179e\"],[0.4444444444444444,\"#bd3786\"],[0.5555555555555556,\"#d8576b\"],[0.6666666666666666,\"#ed7953\"],[0.7777777777777778,\"#fb9f3a\"],[0.8888888888888888,\"#fdca26\"],[1.0,\"#f0f921\"]]}],\"mesh3d\":[{\"type\":\"mesh3d\",\"colorbar\":{\"outlinewidth\":0,\"ticks\":\"\"}}],\"scatter\":[{\"fillpattern\":{\"fillmode\":\"overlay\",\"size\":10,\"solidity\":0.2},\"type\":\"scatter\"}],\"parcoords\":[{\"type\":\"parcoords\",\"line\":{\"colorbar\":{\"outlinewidth\":0,\"ticks\":\"\"}}}],\"scatterpolargl\":[{\"type\":\"scatterpolargl\",\"marker\":{\"colorbar\":{\"outlinewidth\":0,\"ticks\":\"\"}}}],\"bar\":[{\"error_x\":{\"color\":\"#2a3f5f\"},\"error_y\":{\"color\":\"#2a3f5f\"},\"marker\":{\"line\":{\"color\":\"#E5ECF6\",\"width\":0.5},\"pattern\":{\"fillmode\":\"overlay\",\"size\":10,\"solidity\":0.2}},\"type\":\"bar\"}],\"scattergeo\":[{\"type\":\"scattergeo\",\"marker\":{\"colorbar\":{\"outlinewidth\":0,\"ticks\":\"\"}}}],\"scatterpolar\":[{\"type\":\"scatterpolar\",\"marker\":{\"colorbar\":{\"outlinewidth\":0,\"ticks\":\"\"}}}],\"histogram\":[{\"marker\":{\"pattern\":{\"fillmode\":\"overlay\",\"size\":10,\"solidity\":0.2}},\"type\":\"histogram\"}],\"scattergl\":[{\"type\":\"scattergl\",\"marker\":{\"colorbar\":{\"outlinewidth\":0,\"ticks\":\"\"}}}],\"scatter3d\":[{\"type\":\"scatter3d\",\"line\":{\"colorbar\":{\"outlinewidth\":0,\"ticks\":\"\"}},\"marker\":{\"colorbar\":{\"outlinewidth\":0,\"ticks\":\"\"}}}],\"scattermapbox\":[{\"type\":\"scattermapbox\",\"marker\":{\"colorbar\":{\"outlinewidth\":0,\"ticks\":\"\"}}}],\"scatterternary\":[{\"type\":\"scatterternary\",\"marker\":{\"colorbar\":{\"outlinewidth\":0,\"ticks\":\"\"}}}],\"scattercarpet\":[{\"type\":\"scattercarpet\",\"marker\":{\"colorbar\":{\"outlinewidth\":0,\"ticks\":\"\"}}}],\"carpet\":[{\"aaxis\":{\"endlinecolor\":\"#2a3f5f\",\"gridcolor\":\"white\",\"linecolor\":\"white\",\"minorgridcolor\":\"white\",\"startlinecolor\":\"#2a3f5f\"},\"baxis\":{\"endlinecolor\":\"#2a3f5f\",\"gridcolor\":\"white\",\"linecolor\":\"white\",\"minorgridcolor\":\"white\",\"startlinecolor\":\"#2a3f5f\"},\"type\":\"carpet\"}],\"table\":[{\"cells\":{\"fill\":{\"color\":\"#EBF0F8\"},\"line\":{\"color\":\"white\"}},\"header\":{\"fill\":{\"color\":\"#C8D4E3\"},\"line\":{\"color\":\"white\"}},\"type\":\"table\"}],\"barpolar\":[{\"marker\":{\"line\":{\"color\":\"#E5ECF6\",\"width\":0.5},\"pattern\":{\"fillmode\":\"overlay\",\"size\":10,\"solidity\":0.2}},\"type\":\"barpolar\"}],\"pie\":[{\"automargin\":true,\"type\":\"pie\"}]},\"layout\":{\"autotypenumbers\":\"strict\",\"colorway\":[\"#636efa\",\"#EF553B\",\"#00cc96\",\"#ab63fa\",\"#FFA15A\",\"#19d3f3\",\"#FF6692\",\"#B6E880\",\"#FF97FF\",\"#FECB52\"],\"font\":{\"color\":\"#2a3f5f\"},\"hovermode\":\"closest\",\"hoverlabel\":{\"align\":\"left\"},\"paper_bgcolor\":\"white\",\"plot_bgcolor\":\"#E5ECF6\",\"polar\":{\"bgcolor\":\"#E5ECF6\",\"angularaxis\":{\"gridcolor\":\"white\",\"linecolor\":\"white\",\"ticks\":\"\"},\"radialaxis\":{\"gridcolor\":\"white\",\"linecolor\":\"white\",\"ticks\":\"\"}},\"ternary\":{\"bgcolor\":\"#E5ECF6\",\"aaxis\":{\"gridcolor\":\"white\",\"linecolor\":\"white\",\"ticks\":\"\"},\"baxis\":{\"gridcolor\":\"white\",\"linecolor\":\"white\",\"ticks\":\"\"},\"caxis\":{\"gridcolor\":\"white\",\"linecolor\":\"white\",\"ticks\":\"\"}},\"coloraxis\":{\"colorbar\":{\"outlinewidth\":0,\"ticks\":\"\"}},\"colorscale\":{\"sequential\":[[0.0,\"#0d0887\"],[0.1111111111111111,\"#46039f\"],[0.2222222222222222,\"#7201a8\"],[0.3333333333333333,\"#9c179e\"],[0.4444444444444444,\"#bd3786\"],[0.5555555555555556,\"#d8576b\"],[0.6666666666666666,\"#ed7953\"],[0.7777777777777778,\"#fb9f3a\"],[0.8888888888888888,\"#fdca26\"],[1.0,\"#f0f921\"]],\"sequentialminus\":[[0.0,\"#0d0887\"],[0.1111111111111111,\"#46039f\"],[0.2222222222222222,\"#7201a8\"],[0.3333333333333333,\"#9c179e\"],[0.4444444444444444,\"#bd3786\"],[0.5555555555555556,\"#d8576b\"],[0.6666666666666666,\"#ed7953\"],[0.7777777777777778,\"#fb9f3a\"],[0.8888888888888888,\"#fdca26\"],[1.0,\"#f0f921\"]],\"diverging\":[[0,\"#8e0152\"],[0.1,\"#c51b7d\"],[0.2,\"#de77ae\"],[0.3,\"#f1b6da\"],[0.4,\"#fde0ef\"],[0.5,\"#f7f7f7\"],[0.6,\"#e6f5d0\"],[0.7,\"#b8e186\"],[0.8,\"#7fbc41\"],[0.9,\"#4d9221\"],[1,\"#276419\"]]},\"xaxis\":{\"gridcolor\":\"white\",\"linecolor\":\"white\",\"ticks\":\"\",\"title\":{\"standoff\":15},\"zerolinecolor\":\"white\",\"automargin\":true,\"zerolinewidth\":2},\"yaxis\":{\"gridcolor\":\"white\",\"linecolor\":\"white\",\"ticks\":\"\",\"title\":{\"standoff\":15},\"zerolinecolor\":\"white\",\"automargin\":true,\"zerolinewidth\":2},\"scene\":{\"xaxis\":{\"backgroundcolor\":\"#E5ECF6\",\"gridcolor\":\"white\",\"linecolor\":\"white\",\"showbackground\":true,\"ticks\":\"\",\"zerolinecolor\":\"white\",\"gridwidth\":2},\"yaxis\":{\"backgroundcolor\":\"#E5ECF6\",\"gridcolor\":\"white\",\"linecolor\":\"white\",\"showbackground\":true,\"ticks\":\"\",\"zerolinecolor\":\"white\",\"gridwidth\":2},\"zaxis\":{\"backgroundcolor\":\"#E5ECF6\",\"gridcolor\":\"white\",\"linecolor\":\"white\",\"showbackground\":true,\"ticks\":\"\",\"zerolinecolor\":\"white\",\"gridwidth\":2}},\"shapedefaults\":{\"line\":{\"color\":\"#2a3f5f\"}},\"annotationdefaults\":{\"arrowcolor\":\"#2a3f5f\",\"arrowhead\":0,\"arrowwidth\":1},\"geo\":{\"bgcolor\":\"white\",\"landcolor\":\"#E5ECF6\",\"subunitcolor\":\"white\",\"showland\":true,\"showlakes\":true,\"lakecolor\":\"white\"},\"title\":{\"x\":0.05},\"mapbox\":{\"style\":\"light\"}}},\"title\":{\"text\":\"Lineal regression models\"},\"xaxis\":{\"title\":{\"text\":\"x- Input-value\"}},\"yaxis\":{\"title\":{\"text\":\"y- Output-Value\"}},\"hovermode\":\"x\"},                        {\"responsive\": true}                    ).then(function(){\n",
       "                            \n",
       "var gd = document.getElementById('efc2991e-b772-47bc-9a89-8b46ea4b19f9');\n",
       "var x = new MutationObserver(function (mutations, observer) {{\n",
       "        var display = window.getComputedStyle(gd).display;\n",
       "        if (!display || display === 'none') {{\n",
       "            console.log([gd, 'removed!']);\n",
       "            Plotly.purge(gd);\n",
       "            observer.disconnect();\n",
       "        }}\n",
       "}});\n",
       "\n",
       "// Listen for the removal of the full notebook cells\n",
       "var notebookContainer = gd.closest('#notebook-container');\n",
       "if (notebookContainer) {{\n",
       "    x.observe(notebookContainer, {childList: true});\n",
       "}}\n",
       "\n",
       "// Listen for the clearing of the current output cell\n",
       "var outputEl = gd.closest('.output');\n",
       "if (outputEl) {{\n",
       "    x.observe(outputEl, {childList: true});\n",
       "}}\n",
       "\n",
       "                        })                };                });            </script>        </div>"
      ]
     },
     "metadata": {},
     "output_type": "display_data"
    }
   ],
   "source": [
    "import numpy as np\n",
    "import plotly.graph_objects as go\n",
    "\n",
    "# Create the figure and the strokes\n",
    "xbase = x1.flatten() # flatten input x for plot exe x\n",
    "fig = go.Figure()\n",
    "fig.add_trace(go.Scatter(x=xbase, y=y, name='Real'))\n",
    "fig.add_trace(go.Scatter(x=xbase, y=rls_cv, name='rls_cv'))\n",
    "fig.add_trace(go.Scatter(x=xbase, y=mrp_cv, name='mrp_cv'))\n",
    "fig.add_trace(go.Scatter(x=xbase, y=rlp_cv, name='rlp_cv'))\n",
    "\n",
    "# Configured graphic design\n",
    "fig.update_layout(\n",
    "    title='Lineal regression models',\n",
    "    xaxis_title='x- Input-value',\n",
    "    yaxis_title='y- Output-Value',\n",
    "    hovermode='x'  \n",
    ")\n",
    "# show interactive graphic\n",
    "fig.show()\n"
   ]
  },
  {
   "cell_type": "code",
   "execution_count": 19,
   "id": "9249a256",
   "metadata": {},
   "outputs": [
    {
     "name": "stdout",
     "output_type": "stream",
     "text": [
      "Variable Independiente    [ 1  2  3  4  5  6  7  8  9 10 14 16 18 20]\n",
      "Valor real                [ 2  4  6  8 10 12 14 16 18 20 24 26 28 30]\n",
      "valor Regresion Simple    [ 5  7  8  8  9 11 12 13 15 17 22 25 31 34]\n",
      "valor Regresion Ponderada [ 6  7  8  9 10 12 12 14 15 17 22 25 30 33]\n",
      "valor RegresionPolinomial [ 1  3  5  8 10 12 13 15 17 19 24 26 27 28]\n"
     ]
    }
   ],
   "source": [
    "print(\"Variable Independiente   \",x.flatten() )\n",
    "print(\"Valor real               \", y)\n",
    "print(\"valor Regresion Simple   \",rls_cv.astype(int))\n",
    "print(\"valor Regresion Ponderada\",mrp_cv.astype(int))\n",
    "print(\"valor RegresionPolinomial\",rlp_cv.astype(int))"
   ]
  },
  {
   "cell_type": "markdown",
   "id": "ae5d9188",
   "metadata": {},
   "source": [
    "## Multiple Linear Regression Model"
   ]
  },
  {
   "cell_type": "markdown",
   "id": "379dd2d0",
   "metadata": {},
   "source": [
    "The general form of a multiple linear regression model is expressed as: Y = β0 + β1X1 + β2X2 + ... + βn*Xn + ε\n",
    "\n",
    "Where:\n",
    "\n",
    "Y is the dependent variable you want to predict.\n",
    "\n",
    "β0 is the intercept or bias term.\n",
    "\n",
    "β1, β2, ..., βn are the regression coefficients that indicate the relationship\n",
    "between the independent variables (X1, X2, ..., Xn) and the dependent variable.\n",
    "\n",
    "X1, X2, ..., Xn are the independent variables.\n",
    "\n",
    "ε is the error term or residual.\n"
   ]
  },
  {
   "cell_type": "code",
   "execution_count": 20,
   "id": "922d5ea6",
   "metadata": {},
   "outputs": [
    {
     "name": "stdout",
     "output_type": "stream",
     "text": [
      "Coeficientes: [-0.57317073  2.37804878]\n",
      "Intercepto: -1.3048780487804894\n",
      "Predicción del nuevo valor: [36.02439024]\n",
      "Predicción test: [ 4.5         6.08333333  7.66666667  8.34482759 10.14367816 11.94252874\n",
      " 13.30232558 15.03100775 16.75968992 19.83870968 19.16129032 23.09677419\n",
      " 30.92899408 34.8816568 ]\n",
      "MSE: 5.768028437840462\n",
      "rmse: 2.4016720087973007\n",
      "R^2: 0.9253280334335052\n"
     ]
    }
   ],
   "source": [
    "from sklearn.linear_model import LinearRegression\n",
    "import numpy as np\n",
    "\n",
    "# Example data\n",
    "# Independent variables\n",
    "xm=np.array([[1,2], [2,3], [3,4], [4,5], [5,6],[6,7],[7,8],[8,9],[9,10],[10,11],[14,13],[16,15],[18,17],[20,19]])\n",
    "ym = np.array([2, 4, 6, 8, 10,12,14,16,18,20,24,26,28,30])  # Dependent variable(target)\n",
    "\n",
    "# We create an instance of the  linear regression model\n",
    "modelm = LinearRegression()\n",
    "\n",
    "# We performed k-fold cross-validation multiple linear\n",
    "rlm_cv = cross_val_predict(modelm, xm, ym, cv=5)\n",
    "# we run model\n",
    "modelm.fit(xm, ym)\n",
    "# We performed a prediction for a new value\n",
    "X_new = np.array([[22,21]])\n",
    "y_pred3 = modelm.predict(X_new)\n",
    "# Model coefficients\n",
    "coeficientes = modelm.coef_\n",
    "intercepto = modelm.intercept_\n",
    "\n",
    "# Print Model coefficients and Intercept\n",
    "print(\"Coeficientes:\", coeficientes)\n",
    "print(\"Intercepto:\", intercepto)\n",
    "\n",
    "# we calculated metrics of performance\n",
    "#MSE -Mean Squared Error(MSE)\n",
    "mse_rlm = mean_squared_error(ym, rlm_cv)\n",
    "# RMSE-\"Root Mean Squared Error\" (RMSE)- same scale of data\n",
    "rmse_rlm = np.sqrt(mean_squared_error(ym, rlm_cv))\n",
    "#R2- Coefficient of Determination (R2).: \n",
    "#It is a measure of how well the model fits the data. \n",
    "#A value of R2 closer to 1 indicates a better fit, \n",
    "#while a value close to 0 indicates that the model does not explain the variability well\n",
    "r2_rlm = r2_score(ym, rlm_cv)\n",
    "print(\"Predicción del nuevo valor:\", y_pred3)\n",
    "print(\"Predicción test:\", rlm_cv)\n",
    "# Print Results\n",
    "print(\"MSE:\", mse_rlm)\n",
    "print(\"rmse:\", rmse_rlm)\n",
    "print(\"R^2:\", r2_rlm)"
   ]
  },
  {
   "cell_type": "markdown",
   "id": "0d2a835b",
   "metadata": {},
   "source": [
    "## K-Nearest Neighbors Regression (KNN)"
   ]
  },
  {
   "cell_type": "markdown",
   "id": "00ed4b6d",
   "metadata": {},
   "source": [
    "K-Nearest Neighbors Regression (KNN) is a machine learning algorithm used for regression tasks. It is a non-parametric algorithm that predicts the value of a dependent variable based on the values of its k nearest neighbors in the feature space.\n",
    "\n",
    "In KNN regression, the training data consists of feature vectors and their corresponding target values. When a new data point needs to be predicted, the algorithm identifies the k nearest neighbors in the feature space, based on a distance metric (such as Euclidean distance). The predicted value for the new data point is then determined by averaging the target values of its k nearest neighbors.\n",
    "\n",
    "The choice of the value of k determines the level of smoothing in the regression model. Smaller values of k can lead to more flexible and detailed predictions, but they may also be more sensitive to noise and outliers. Larger values of k provide smoother predictions but may oversimplify the relationship between the features and the target variable."
   ]
  },
  {
   "cell_type": "code",
   "execution_count": 21,
   "id": "7e441cc0",
   "metadata": {},
   "outputs": [
    {
     "name": "stdout",
     "output_type": "stream",
     "text": [
      "Predicción del nuevo valor: [29.]\n",
      "valor real:     [ 2  4  6  8 10 12 14 16 18 20 24 26 28 30]\n",
      "Predicción test: [ 9  9  9  5 10 15 11 16 16 17 23 29 25 25]\n",
      "MSE: 11.928571428571429\n",
      "rmse: 3.453776401067595\n",
      "R^2: 0.8455746367239102\n"
     ]
    }
   ],
   "source": [
    "from sklearn.neighbors import KNeighborsRegressor\n",
    "import numpy as np\n",
    "\n",
    "# Example data\n",
    "x4 = np.array([[1], [2], [3], [4], [5],[6],[7],[8],[9],[10],[14],[16],[18],[20]]) \n",
    "y4 = np.array([2, 4, 6, 8, 10,12,14,16,18,20,24,26,28,30]) \n",
    "\n",
    "#  We create an instance of the  K-Nearest Neiggbors regression\n",
    "model4 = KNeighborsRegressor(n_neighbors=2)\n",
    "# We performed k-fold cross-validation \n",
    "knn_cv = cross_val_predict(model4, x4, y4, cv=5)\n",
    "# we run the model\n",
    "model4.fit(x, y4)\n",
    "\n",
    "# We performed a prediction for a new value\n",
    "X_pred = np.array([[22]])  \n",
    "y_pred4 = model4.predict(X_pred)\n",
    "\n",
    "# we calculated metrics of performance\n",
    "#MSE -Mean Squared Error(MSE)\n",
    "mse_knn = mean_squared_error(y4, knn_cv)\n",
    "# RMSE-\"Root Mean Squared Error\" (RMSE)- same scale of data\n",
    "rmse_knn = np.sqrt(mean_squared_error(y4, knn_cv))\n",
    "#R2- Coefficient of Determination (R2).: \n",
    "#It is a measure of how well the model fits the data. \n",
    "#A value of R2 closer to 1 indicates a better fit, \n",
    "#while a value close to 0 indicates that the model does not explain the variability well\n",
    "r2_rlm = r2_score(y4, knn_cv)\n",
    "print(\"Predicción del nuevo valor:\", y_pred4)\n",
    "print(\"valor real:    \", y4)\n",
    "print(\"Predicción test:\", knn_cv.astype(int))\n",
    "# Print Results\n",
    "print(\"MSE:\", mse_knn)\n",
    "print(\"rmse:\", rmse_knn)\n",
    "print(\"R^2:\", r2_rlm)"
   ]
  },
  {
   "cell_type": "markdown",
   "id": "93d2746d",
   "metadata": {},
   "source": [
    "## Decision Tree Regression"
   ]
  },
  {
   "cell_type": "markdown",
   "id": "0ad45195",
   "metadata": {},
   "source": [
    "Decision Tree Regression is a machine learning algorithm that uses a decision tree as a predictive model for regression tasks. In this method, the training data is partitioned into subsets based on different features, creating a tree-like structure. Each internal node of the tree represents a decision based on a specific feature, while each leaf node represents a predicted value. During the training process, the algorithm recursively splits the data based on the selected features, aiming to minimize the prediction error.\n",
    "\n",
    "To make predictions with a decision tree regression model, a new data point is traversed down the tree from the root node to a leaf node, following the decision rules. The predicted value is then determined based on the value associated with the leaf node."
   ]
  },
  {
   "cell_type": "code",
   "execution_count": 22,
   "id": "d0d7584b",
   "metadata": {},
   "outputs": [
    {
     "name": "stdout",
     "output_type": "stream",
     "text": [
      "Predicción del nuevo valor: [30.]\n",
      "valor real:     [ 2  4  6  8 10 12 14 16 18 20 24 26 28 30]\n",
      "Predicción test: [ 8  8  8  6  6 14 12 12 20 18 28 28 26 26]\n",
      "MSE: 10.571428571428571\n",
      "rmse: 3.251373336211726\n",
      "R^2: 0.8631439894319684\n"
     ]
    }
   ],
   "source": [
    "from sklearn.tree import DecisionTreeRegressor\n",
    "import numpy as np\n",
    "\n",
    "# Example data\n",
    "x5 = np.array([[1], [2], [3], [4], [5],[6],[7],[8],[9],[10],[14],[16],[18],[20]])#Independent variable\n",
    "y5 = np.array([2, 4, 6, 8, 10,12,14,16,18,20,24,26,28,30]) # Dependent variable(target)\n",
    "\n",
    "# We create an instance of the  DecisionTreeRegressor\n",
    "model5 = DecisionTreeRegressor()\n",
    "\n",
    "# We performed k-fold cross-validation \n",
    "rad_cv = cross_val_predict(model5, x5, y5, cv=5)\n",
    "# we run model\n",
    "model5.fit(x5, y5)\n",
    "\n",
    "#  We performed a prediction for a new value\n",
    "X_pred5 = np.array([[22]]) \n",
    "y_pred5 = model5.predict(X_pred5)\n",
    "\n",
    "# we calculated metrics of performance\n",
    "#MSE -Mean Squared Error(MSE)\n",
    "mse_rad = mean_squared_error(y5, rad_cv)\n",
    "# RMSE-\"Root Mean Squared Error\" (RMSE)- same scale of data\n",
    "rmse_rad = np.sqrt(mean_squared_error(y5, rad_cv))\n",
    "#R2- Coefficient of Determination (R2).: \n",
    "#It is a measure of how well the model fits the data. \n",
    "#A value of R2 closer to 1 indicates a better fit, \n",
    "#while a value close to 0 indicates that the model does not explain the variability well\n",
    "r2_rad = r2_score(y5, rad_cv)\n",
    "print(\"Predicción del nuevo valor:\", y_pred5)\n",
    "print(\"valor real:    \", y5)\n",
    "print(\"Predicción test:\", rad_cv.astype(int))\n",
    "# Print Results\n",
    "print(\"MSE:\", mse_rad)\n",
    "print(\"rmse:\", rmse_rad)\n",
    "print(\"R^2:\", r2_rad)"
   ]
  },
  {
   "cell_type": "markdown",
   "id": "2e0e3fc2",
   "metadata": {},
   "source": [
    "## Random Forest Regression"
   ]
  },
  {
   "cell_type": "markdown",
   "id": "6b52781a",
   "metadata": {},
   "source": [
    "Random Forest Regression is a machine learning algorithm used for regression tasks. It is a variant of the Random Forest algorithm, which is an ensemble learning method that combines multiple decision trees to make predictions.\n",
    "\n",
    "\n",
    "In Random Forest Regression, a random subset of the training data is used to train each decision tree. Each tree is constructed independently and makes predictions based on a random subset of features at each split. This randomness helps to reduce overfitting and increase the diversity among the trees.\n",
    "\n",
    "\n",
    "During prediction, the value of the target variable is determined by aggregating the predictions of all the individual decision trees in the random forest. Typically, the predictions are averaged to obtain the final prediction, although other aggregation methods can be used.\n",
    "\n",
    "\n",
    "The Random Forest Regression algorithm is effective in handling non-linear relationships, capturing interactions between features, and handling high-dimensional datasets. It is known for its robustness, ability to handle noisy data, and resistance to overfitting. Additionally, Random Forest Regression provides feature importance measures, which can be used to understand the relative importance of different features in the prediction process.\n",
    "\n",
    "\n",
    "Random Forest Regression is widely used in various domains such as finance, healthcare, marketing, and environmental sciences for tasks such as predicting stock prices, estimating disease progression, forecasting sales, and predicting environmental variables."
   ]
  },
  {
   "cell_type": "code",
   "execution_count": 23,
   "id": "59f280a9",
   "metadata": {},
   "outputs": [
    {
     "name": "stdout",
     "output_type": "stream",
     "text": [
      "Predicción del nuevo valor: [28.6]\n",
      "valor real:     [ 2  4  6  8 10 12 14 16 18 20 24 26 28 30]\n",
      "Predicción test: [ 8  8  8  5  8 13 11 13 17 17 24 27 24 24]\n",
      "MSE: 10.517085714285715\n",
      "rmse: 3.2430056605386484\n",
      "R^2: 0.8638475033025099\n"
     ]
    }
   ],
   "source": [
    "from sklearn.ensemble import RandomForestRegressor\n",
    "import numpy as np\n",
    "\n",
    "# Example data\n",
    "x6 = np.array([[1], [2], [3], [4], [5],[6],[7],[8],[9],[10],[14],[16],[18],[20]])\n",
    "y6 = np.array([2, 4, 6, 8, 10,12,14,16,18,20,24,26,28,30]) \n",
    "\n",
    "# We create an instance of the Random Forest Regression\n",
    "model6 = RandomForestRegressor()\n",
    "#  We performed k-fold cross-validation \n",
    "raf_cv = cross_val_predict(model6, x6, y6, cv=5)\n",
    "# we run model\n",
    "model6.fit(x6, y6)\n",
    "\n",
    "#  We performed a prediction for a new value\n",
    "X_pred6 = np.array([[22]]) \n",
    "y_pred6 = model6.predict(X_pred6)\n",
    "\n",
    "# we calculated metrics of performance\n",
    "#MSE -Mean Squared Error(MSE)\n",
    "mse_raf = mean_squared_error(y6, raf_cv)\n",
    "# RMSE-\"Root Mean Squared Error\" (RMSE)- same scale of data\n",
    "rmse_raf = np.sqrt(mean_squared_error(y6, raf_cv))\n",
    "#R2- Coefficient of Determination (R2).: \n",
    "#It is a measure of how well the model fits the data. \n",
    "#A value of R2 closer to 1 indicates a better fit, \n",
    "#while a value close to 0 indicates that the model does not explain the variability well\n",
    "r2_raf = r2_score(y6, raf_cv)\n",
    "print(\"Predicción del nuevo valor:\", y_pred6)\n",
    "print(\"valor real:    \", y6)\n",
    "print(\"Predicción test:\", raf_cv.astype(int))\n",
    "# Print Results\n",
    "print(\"MSE:\", mse_raf)\n",
    "print(\"rmse:\", rmse_raf)\n",
    "print(\"R^2:\", r2_raf)"
   ]
  },
  {
   "cell_type": "markdown",
   "id": "1b9a9f81",
   "metadata": {},
   "source": [
    "## Support Vector Machines (SVM)"
   ]
  },
  {
   "cell_type": "markdown",
   "id": "8a6a2697",
   "metadata": {},
   "source": [
    "The main idea behind SVM is to find an optimal hyperplane that separates the data points of different classes or predicts the value of the target variable in regression. The hyperplane is selected in such a way that it maximizes the margin, which is the distance between the hyperplane and the closest data points of each class or regression target.\n",
    "\n",
    "In SVM, the data points closest to the hyperplane, known as support vectors, play a crucial role in defining the decision boundary or regression line. These support vectors are used to construct the hyperplane and determine the predictions for new data points.\n",
    "\n",
    "Types of kernel\n",
    "1. Kernel lineal (linear): Uses a dot product function to measure similarities between samples. It is the simplest kernel and suitable for linearly separable data.\n",
    "\n",
    "2. Kernel polinómico (poly): Uses a polynomial function to map samples to a higher-dimensional space. You can specify the degree of the polynomial using the degree parameter.\n",
    "\n",
    "3. Kernel radial (rbf o gaussian): Uses a radial basis function (Gaussian) to map samples to an infinite-dimensional space. It is suitable for non-linearly separable data. The gamma parameter controls the shape of the radial basis function.\n",
    "\n",
    "4. Kernel sigmoidal (sigmoid): Uses a sigmoid function to map samples to a higher-dimensional space. This kernel is less common and mainly used in binary classification problems.\n",
    "\n",
    "\n",
    "Default parameters:\n",
    "C: The default value for the regularization parameter C is 1.0. This implies a moderate balance between fitting the training data and model complexity.\n",
    "\n",
    "\n",
    "kernel: The default kernel is 'rbf' (radial basis function). This means a radial kernel is used to model the relationship between samples.\n",
    "\n",
    "\n",
    "degree: In the case of SVM models, the degree of the polynomial kernel (degree) does not have a default value since it is only applied when the 'poly' kernel is selected.\n",
    "\n",
    "\n",
    "gamma: The default value for the gamma kernel coefficient is 'scale'. This means the gamma value is automatically calculated as 1 / (n_features * X.var()), where n_features is the number of features and X.var() is the variance of X. You can also use 'auto' as the default value, which is equivalent to 'scale'.\n",
    "\n",
    "\n",
    "epsilon: For SVM regression models (SVR), the default value for the epsilon tolerance margin is 0.1. This value defines the range within which the prediction is considered acceptable and not penalized.\n",
    "\n",
    "\n",
    "class_weight: For SVM classification models (SVC), the default value for the class_weight parameter is None, which means all classes have the same weight."
   ]
  },
  {
   "cell_type": "code",
   "execution_count": 24,
   "id": "7e87b172",
   "metadata": {},
   "outputs": [
    {
     "name": "stdout",
     "output_type": "stream",
     "text": [
      "Predicción del nuevo valor: [34.74818182]\n",
      "valor real:     [ 2  4  6  8 10 12 14 16 18 20 24 26 28 30]\n",
      "Predicción test: [ 5  7  8  7  9 10 12 13 15 16 22 25 35 39]\n",
      "MSE: 16.19868696829434\n",
      "rmse: 4.024759243519336\n",
      "R^2: 0.7902944091290826\n"
     ]
    }
   ],
   "source": [
    "from sklearn.svm import SVR\n",
    "import numpy as np\n",
    "\n",
    "# Datos de ejemplo\n",
    "x7 = np.array([[1], [2], [3], [4], [5],[6],[7],[8],[9],[10],[14],[16],[18],[20]])\n",
    "y7 = np.array([2, 4, 6, 8, 10,12,14,16,18,20,24,26,28,30])\n",
    "\n",
    "# # We create an instance of the SVM\n",
    "model7 = SVR(kernel='linear', epsilon=0.01, gamma=1,C=10) # type of kernel: linear, poly(SVR(kernel='poly', degree=3), rbf, sigmod\n",
    "# We performed k-fold cross-validation \n",
    "mvs_cv = cross_val_predict(model7, x7, y7, cv=5)\n",
    "# we run the model\n",
    "model7.fit(x7, y7)\n",
    "#  We performed a prediction for a new value\n",
    "X_pred7 = np.array([[22]])\n",
    "y_pred7 = model7.predict(X_pred7)\n",
    "\n",
    "# we calculated metrics of performance\n",
    "#MSE -Mean Squared Error(MSE)\n",
    "mse_mvs = mean_squared_error(y7, mvs_cv)\n",
    "# RMSE-\"Root Mean Squared Error\" (RMSE)- same scale of data\n",
    "rmse_mvs = np.sqrt(mean_squared_error(y7, mvs_cv))\n",
    "#R2- Coefficient of Determination (R2).: \n",
    "#It is a measure of how well the model fits the data. \n",
    "#A value of R2 closer to 1 indicates a better fit, \n",
    "#while a value close to 0 indicates that the model does not explain the variability well\n",
    "r2_mvs = r2_score(y7, mvs_cv)\n",
    "print(\"Predicción del nuevo valor:\", y_pred7)\n",
    "print(\"valor real:    \", y7)\n",
    "print(\"Predicción test:\", mvs_cv.astype(int))\n",
    "# Print Results\n",
    "print(\"MSE:\", mse_mvs)\n",
    "print(\"rmse:\", rmse_mvs)\n",
    "print(\"R^2:\", r2_mvs)\n"
   ]
  },
  {
   "cell_type": "markdown",
   "id": "8f7a195d",
   "metadata": {},
   "source": [
    "# Neural networks"
   ]
  },
  {
   "cell_type": "markdown",
   "id": "fb8f6905",
   "metadata": {},
   "source": [
    "* pre-requistes Install packages TensorFlow: pip install tensorflow\n",
    "\n",
    "In a regression model, the neural network takes a set of input variables (features) and uses them to predict a continuous target variable. The network consists of multiple interconnected layers of artificial neurons, known as nodes or units. Each node applies a mathematical transformation to its input and produces an output, which is then passed to the nodes in the next layer.\n",
    "\n",
    "\n",
    "The neural network learns to make predictions by adjusting the weights and biases associated with the connections between the nodes during the training process. This adjustment is achieved through an optimization algorithm, such as gradient descent, which minimizes a loss function that quantifies the difference between the predicted values and the actual target values."
   ]
  },
  {
   "cell_type": "code",
   "execution_count": 25,
   "id": "66f8df7b",
   "metadata": {},
   "outputs": [
    {
     "name": "stdout",
     "output_type": "stream",
     "text": [
      "1/1 [==============================] - 0s 44ms/step\n",
      "1/1 [==============================] - 0s 16ms/step\n",
      "Predicción del nuevo valor: [[35.03834]]\n",
      "valor real:     [ 2  4  6  8 10 12 14 16 18 20 24 26 28 30]\n",
      "Predicción test: [ 4  5  7  8  9 11 12 14 15 17 23 26 29 32]\n",
      "MSE: 2.136247078747374\n",
      "rmse: 1.4615905988844393\n",
      "R^2: 0.9723444896014211\n"
     ]
    }
   ],
   "source": [
    "from tensorflow import keras\n",
    "from tensorflow.keras import layers\n",
    "import numpy as np\n",
    "from sklearn.model_selection import KFold\n",
    "\n",
    "# Example data\n",
    "# one dimension independents varaibles(we recommend to have more variables)\n",
    "x9 = np.array([[1], [2], [3], [4], [5],[6],[7],[8],[9],[10],[14],[16],[18],[20]])\n",
    "y9 = np.array([2, 4, 6, 8, 10,12,14,16,18,20,24,26,28,30])  \n",
    "# Defined the network model\n",
    "def create_model():\n",
    "    model9 = keras.Sequential()\n",
    "    model9.add(layers.Dense(6, input_dim=1, activation='linear'))  # Hidden layer with 6 Neurons\n",
    "    model9.add(layers.Dense(6, activation='linear'))\n",
    "    model9.add(layers.Dense(1, activation='linear'))  # Output layer\n",
    "    #To create the optimizer with the desired learning rate\n",
    "    optimizer = keras.optimizers.Adam(learning_rate=0.001)\n",
    "    model9.compile(loss='mean_squared_error', optimizer=optimizer)\n",
    "    return model9\n",
    "\n",
    "# We create the neural model \n",
    "model9 = create_model()\n",
    "# We run the model\n",
    "model9.fit(x9, y9, epochs=500, batch_size=1,verbose=0)\n",
    "\n",
    "# We performed a prediction for a new value\n",
    "y_test=model9.predict(x9)\n",
    "X_pred10 = np.array([[22]])  # Nuevos datos a predecir\n",
    "y_pred10 = model9.predict(X_pred10)\n",
    "\n",
    "# we calculated metrics of performance\n",
    "#MSE -Mean Squared Error(MSE)\n",
    "mse_nn = mean_squared_error(y9, y_test)\n",
    "# RMSE-\"Root Mean Squared Error\" (RMSE)- same scale of data\n",
    "rmse_nn = np.sqrt(mean_squared_error(y9, y_test))\n",
    "#R2- Coefficient of Determination (R2).: \n",
    "#It is a measure of how well the model fits the data. \n",
    "#A value of R2 closer to 1 indicates a better fit, \n",
    "#while a value close to 0 indicates that the model does not explain the variability well\n",
    "r2_nn = r2_score(y9, y_test)\n",
    "print(\"Predicción del nuevo valor:\", y_pred10)\n",
    "print(\"valor real:    \", y9)\n",
    "print(\"Predicción test:\", y_test.flatten().astype(int))\n",
    "# Print Results\n",
    "print(\"MSE:\", mse_nn)\n",
    "print(\"rmse:\", rmse_nn)\n",
    "print(\"R^2:\", r2_nn)"
   ]
  },
  {
   "cell_type": "code",
   "execution_count": 26,
   "id": "c6fd7443",
   "metadata": {},
   "outputs": [
    {
     "data": {
      "text/plain": [
       "'num_folds = 5\\nkfold = KFold(n_splits=num_folds, shuffle=True)\\nfold_scores = []\\nfor fold, (train_indices, val_indices) in enumerate(kfold.split(x9)):\\n    print(f\"Fold {fold + 1}\")\\n    # Dividir los datos en entrenamiento y validación para el fold actual\\n    X_train, X_val = x9[train_indices], x9[val_indices]\\n    y_train, y_val = y9[train_indices], y9[val_indices]\\n    # Crear y ajustar el modelo para el fold actual\\n    model9 = create_model()\\n    model9.fit(X_train, y_train, epochs=500, batch_size=1, verbose=0)\\n    # Evaluar el modelo en el conjunto de validación\\n    score = model9.evaluate(X_val, y_val, verbose=0)\\n    fold_scores.append(score)\\n    print(\"Fold Loss:\", score)\\n    print(\"\")\\n\\n# Calcular el promedio de las puntuaciones de pérdida de cada fold\\nmean_loss = np.mean(fold_scores)\\nprint(\"fold_scores:\", fold_scores)\\nprint(\"Mean Loss:\", mean_loss)'"
      ]
     },
     "execution_count": 26,
     "metadata": {},
     "output_type": "execute_result"
    }
   ],
   "source": [
    "#coss validation NN - inactive\n",
    "'''num_folds = 5\n",
    "kfold = KFold(n_splits=num_folds, shuffle=True)\n",
    "fold_scores = []\n",
    "for fold, (train_indices, val_indices) in enumerate(kfold.split(x9)):\n",
    "    print(f\"Fold {fold + 1}\")\n",
    "    # Dividir los datos en entrenamiento y validación para el fold actual\n",
    "    X_train, X_val = x9[train_indices], x9[val_indices]\n",
    "    y_train, y_val = y9[train_indices], y9[val_indices]\n",
    "    # Crear y ajustar el modelo para el fold actual\n",
    "    model9 = create_model()\n",
    "    model9.fit(X_train, y_train, epochs=500, batch_size=1, verbose=0)\n",
    "    # Evaluar el modelo en el conjunto de validación\n",
    "    score = model9.evaluate(X_val, y_val, verbose=0)\n",
    "    fold_scores.append(score)\n",
    "    print(\"Fold Loss:\", score)\n",
    "    print(\"\")\n",
    "\n",
    "# Calcular el promedio de las puntuaciones de pérdida de cada fold\n",
    "mean_loss = np.mean(fold_scores)\n",
    "print(\"fold_scores:\", fold_scores)\n",
    "print(\"Mean Loss:\", mean_loss)'''\n"
   ]
  },
  {
   "cell_type": "markdown",
   "id": "67942d65",
   "metadata": {},
   "source": [
    "### Comparison of Model Results - Parte two"
   ]
  },
  {
   "cell_type": "code",
   "execution_count": 27,
   "id": "a67bacbe",
   "metadata": {},
   "outputs": [
    {
     "data": {
      "application/vnd.plotly.v1+json": {
       "config": {
        "plotlyServerURL": "https://plot.ly"
       },
       "data": [
        {
         "name": "Real",
         "type": "scatter",
         "x": [
          1,
          2,
          3,
          4,
          5,
          6,
          7,
          8,
          9,
          10,
          14,
          16,
          18,
          20
         ],
         "y": [
          2,
          4,
          6,
          8,
          10,
          12,
          14,
          16,
          18,
          20,
          24,
          26,
          28,
          30
         ]
        },
        {
         "name": "Kvecinos",
         "type": "scatter",
         "x": [
          1,
          2,
          3,
          4,
          5,
          6,
          7,
          8,
          9,
          10,
          14,
          16,
          18,
          20
         ],
         "y": [
          9,
          9,
          9,
          5,
          10,
          15,
          11,
          16,
          16,
          17,
          23,
          29,
          25,
          25
         ]
        },
        {
         "name": "LinealMiltiple",
         "type": "scatter",
         "x": [
          1,
          2,
          3,
          4,
          5,
          6,
          7,
          8,
          9,
          10,
          14,
          16,
          18,
          20
         ],
         "y": [
          4,
          6,
          7,
          8,
          10,
          11,
          13,
          15,
          16,
          19,
          19,
          23,
          30,
          34
         ]
        },
        {
         "name": "DecisionTree",
         "type": "scatter",
         "x": [
          1,
          2,
          3,
          4,
          5,
          6,
          7,
          8,
          9,
          10,
          14,
          16,
          18,
          20
         ],
         "y": [
          8,
          8,
          8,
          6,
          6,
          14,
          12,
          12,
          20,
          18,
          28,
          28,
          26,
          26
         ]
        },
        {
         "name": "RandomForesr",
         "type": "scatter",
         "x": [
          1,
          2,
          3,
          4,
          5,
          6,
          7,
          8,
          9,
          10,
          14,
          16,
          18,
          20
         ],
         "y": [
          8,
          8,
          8,
          5,
          8,
          13,
          11,
          13,
          17,
          17,
          24,
          27,
          24,
          24
         ]
        },
        {
         "name": "SVM",
         "type": "scatter",
         "x": [
          1,
          2,
          3,
          4,
          5,
          6,
          7,
          8,
          9,
          10,
          14,
          16,
          18,
          20
         ],
         "y": [
          5,
          7,
          8,
          7,
          9,
          10,
          12,
          13,
          15,
          16,
          22,
          25,
          35,
          39
         ]
        },
        {
         "name": "NN",
         "type": "scatter",
         "x": [
          1,
          2,
          3,
          4,
          5,
          6,
          7,
          8,
          9,
          10,
          14,
          16,
          18,
          20
         ],
         "y": [
          4,
          5,
          7,
          8,
          9,
          11,
          12,
          14,
          15,
          17,
          23,
          26,
          29,
          32
         ]
        }
       ],
       "layout": {
        "hovermode": "x",
        "template": {
         "data": {
          "bar": [
           {
            "error_x": {
             "color": "#2a3f5f"
            },
            "error_y": {
             "color": "#2a3f5f"
            },
            "marker": {
             "line": {
              "color": "#E5ECF6",
              "width": 0.5
             },
             "pattern": {
              "fillmode": "overlay",
              "size": 10,
              "solidity": 0.2
             }
            },
            "type": "bar"
           }
          ],
          "barpolar": [
           {
            "marker": {
             "line": {
              "color": "#E5ECF6",
              "width": 0.5
             },
             "pattern": {
              "fillmode": "overlay",
              "size": 10,
              "solidity": 0.2
             }
            },
            "type": "barpolar"
           }
          ],
          "carpet": [
           {
            "aaxis": {
             "endlinecolor": "#2a3f5f",
             "gridcolor": "white",
             "linecolor": "white",
             "minorgridcolor": "white",
             "startlinecolor": "#2a3f5f"
            },
            "baxis": {
             "endlinecolor": "#2a3f5f",
             "gridcolor": "white",
             "linecolor": "white",
             "minorgridcolor": "white",
             "startlinecolor": "#2a3f5f"
            },
            "type": "carpet"
           }
          ],
          "choropleth": [
           {
            "colorbar": {
             "outlinewidth": 0,
             "ticks": ""
            },
            "type": "choropleth"
           }
          ],
          "contour": [
           {
            "colorbar": {
             "outlinewidth": 0,
             "ticks": ""
            },
            "colorscale": [
             [
              0,
              "#0d0887"
             ],
             [
              0.1111111111111111,
              "#46039f"
             ],
             [
              0.2222222222222222,
              "#7201a8"
             ],
             [
              0.3333333333333333,
              "#9c179e"
             ],
             [
              0.4444444444444444,
              "#bd3786"
             ],
             [
              0.5555555555555556,
              "#d8576b"
             ],
             [
              0.6666666666666666,
              "#ed7953"
             ],
             [
              0.7777777777777778,
              "#fb9f3a"
             ],
             [
              0.8888888888888888,
              "#fdca26"
             ],
             [
              1,
              "#f0f921"
             ]
            ],
            "type": "contour"
           }
          ],
          "contourcarpet": [
           {
            "colorbar": {
             "outlinewidth": 0,
             "ticks": ""
            },
            "type": "contourcarpet"
           }
          ],
          "heatmap": [
           {
            "colorbar": {
             "outlinewidth": 0,
             "ticks": ""
            },
            "colorscale": [
             [
              0,
              "#0d0887"
             ],
             [
              0.1111111111111111,
              "#46039f"
             ],
             [
              0.2222222222222222,
              "#7201a8"
             ],
             [
              0.3333333333333333,
              "#9c179e"
             ],
             [
              0.4444444444444444,
              "#bd3786"
             ],
             [
              0.5555555555555556,
              "#d8576b"
             ],
             [
              0.6666666666666666,
              "#ed7953"
             ],
             [
              0.7777777777777778,
              "#fb9f3a"
             ],
             [
              0.8888888888888888,
              "#fdca26"
             ],
             [
              1,
              "#f0f921"
             ]
            ],
            "type": "heatmap"
           }
          ],
          "heatmapgl": [
           {
            "colorbar": {
             "outlinewidth": 0,
             "ticks": ""
            },
            "colorscale": [
             [
              0,
              "#0d0887"
             ],
             [
              0.1111111111111111,
              "#46039f"
             ],
             [
              0.2222222222222222,
              "#7201a8"
             ],
             [
              0.3333333333333333,
              "#9c179e"
             ],
             [
              0.4444444444444444,
              "#bd3786"
             ],
             [
              0.5555555555555556,
              "#d8576b"
             ],
             [
              0.6666666666666666,
              "#ed7953"
             ],
             [
              0.7777777777777778,
              "#fb9f3a"
             ],
             [
              0.8888888888888888,
              "#fdca26"
             ],
             [
              1,
              "#f0f921"
             ]
            ],
            "type": "heatmapgl"
           }
          ],
          "histogram": [
           {
            "marker": {
             "pattern": {
              "fillmode": "overlay",
              "size": 10,
              "solidity": 0.2
             }
            },
            "type": "histogram"
           }
          ],
          "histogram2d": [
           {
            "colorbar": {
             "outlinewidth": 0,
             "ticks": ""
            },
            "colorscale": [
             [
              0,
              "#0d0887"
             ],
             [
              0.1111111111111111,
              "#46039f"
             ],
             [
              0.2222222222222222,
              "#7201a8"
             ],
             [
              0.3333333333333333,
              "#9c179e"
             ],
             [
              0.4444444444444444,
              "#bd3786"
             ],
             [
              0.5555555555555556,
              "#d8576b"
             ],
             [
              0.6666666666666666,
              "#ed7953"
             ],
             [
              0.7777777777777778,
              "#fb9f3a"
             ],
             [
              0.8888888888888888,
              "#fdca26"
             ],
             [
              1,
              "#f0f921"
             ]
            ],
            "type": "histogram2d"
           }
          ],
          "histogram2dcontour": [
           {
            "colorbar": {
             "outlinewidth": 0,
             "ticks": ""
            },
            "colorscale": [
             [
              0,
              "#0d0887"
             ],
             [
              0.1111111111111111,
              "#46039f"
             ],
             [
              0.2222222222222222,
              "#7201a8"
             ],
             [
              0.3333333333333333,
              "#9c179e"
             ],
             [
              0.4444444444444444,
              "#bd3786"
             ],
             [
              0.5555555555555556,
              "#d8576b"
             ],
             [
              0.6666666666666666,
              "#ed7953"
             ],
             [
              0.7777777777777778,
              "#fb9f3a"
             ],
             [
              0.8888888888888888,
              "#fdca26"
             ],
             [
              1,
              "#f0f921"
             ]
            ],
            "type": "histogram2dcontour"
           }
          ],
          "mesh3d": [
           {
            "colorbar": {
             "outlinewidth": 0,
             "ticks": ""
            },
            "type": "mesh3d"
           }
          ],
          "parcoords": [
           {
            "line": {
             "colorbar": {
              "outlinewidth": 0,
              "ticks": ""
             }
            },
            "type": "parcoords"
           }
          ],
          "pie": [
           {
            "automargin": true,
            "type": "pie"
           }
          ],
          "scatter": [
           {
            "fillpattern": {
             "fillmode": "overlay",
             "size": 10,
             "solidity": 0.2
            },
            "type": "scatter"
           }
          ],
          "scatter3d": [
           {
            "line": {
             "colorbar": {
              "outlinewidth": 0,
              "ticks": ""
             }
            },
            "marker": {
             "colorbar": {
              "outlinewidth": 0,
              "ticks": ""
             }
            },
            "type": "scatter3d"
           }
          ],
          "scattercarpet": [
           {
            "marker": {
             "colorbar": {
              "outlinewidth": 0,
              "ticks": ""
             }
            },
            "type": "scattercarpet"
           }
          ],
          "scattergeo": [
           {
            "marker": {
             "colorbar": {
              "outlinewidth": 0,
              "ticks": ""
             }
            },
            "type": "scattergeo"
           }
          ],
          "scattergl": [
           {
            "marker": {
             "colorbar": {
              "outlinewidth": 0,
              "ticks": ""
             }
            },
            "type": "scattergl"
           }
          ],
          "scattermapbox": [
           {
            "marker": {
             "colorbar": {
              "outlinewidth": 0,
              "ticks": ""
             }
            },
            "type": "scattermapbox"
           }
          ],
          "scatterpolar": [
           {
            "marker": {
             "colorbar": {
              "outlinewidth": 0,
              "ticks": ""
             }
            },
            "type": "scatterpolar"
           }
          ],
          "scatterpolargl": [
           {
            "marker": {
             "colorbar": {
              "outlinewidth": 0,
              "ticks": ""
             }
            },
            "type": "scatterpolargl"
           }
          ],
          "scatterternary": [
           {
            "marker": {
             "colorbar": {
              "outlinewidth": 0,
              "ticks": ""
             }
            },
            "type": "scatterternary"
           }
          ],
          "surface": [
           {
            "colorbar": {
             "outlinewidth": 0,
             "ticks": ""
            },
            "colorscale": [
             [
              0,
              "#0d0887"
             ],
             [
              0.1111111111111111,
              "#46039f"
             ],
             [
              0.2222222222222222,
              "#7201a8"
             ],
             [
              0.3333333333333333,
              "#9c179e"
             ],
             [
              0.4444444444444444,
              "#bd3786"
             ],
             [
              0.5555555555555556,
              "#d8576b"
             ],
             [
              0.6666666666666666,
              "#ed7953"
             ],
             [
              0.7777777777777778,
              "#fb9f3a"
             ],
             [
              0.8888888888888888,
              "#fdca26"
             ],
             [
              1,
              "#f0f921"
             ]
            ],
            "type": "surface"
           }
          ],
          "table": [
           {
            "cells": {
             "fill": {
              "color": "#EBF0F8"
             },
             "line": {
              "color": "white"
             }
            },
            "header": {
             "fill": {
              "color": "#C8D4E3"
             },
             "line": {
              "color": "white"
             }
            },
            "type": "table"
           }
          ]
         },
         "layout": {
          "annotationdefaults": {
           "arrowcolor": "#2a3f5f",
           "arrowhead": 0,
           "arrowwidth": 1
          },
          "autotypenumbers": "strict",
          "coloraxis": {
           "colorbar": {
            "outlinewidth": 0,
            "ticks": ""
           }
          },
          "colorscale": {
           "diverging": [
            [
             0,
             "#8e0152"
            ],
            [
             0.1,
             "#c51b7d"
            ],
            [
             0.2,
             "#de77ae"
            ],
            [
             0.3,
             "#f1b6da"
            ],
            [
             0.4,
             "#fde0ef"
            ],
            [
             0.5,
             "#f7f7f7"
            ],
            [
             0.6,
             "#e6f5d0"
            ],
            [
             0.7,
             "#b8e186"
            ],
            [
             0.8,
             "#7fbc41"
            ],
            [
             0.9,
             "#4d9221"
            ],
            [
             1,
             "#276419"
            ]
           ],
           "sequential": [
            [
             0,
             "#0d0887"
            ],
            [
             0.1111111111111111,
             "#46039f"
            ],
            [
             0.2222222222222222,
             "#7201a8"
            ],
            [
             0.3333333333333333,
             "#9c179e"
            ],
            [
             0.4444444444444444,
             "#bd3786"
            ],
            [
             0.5555555555555556,
             "#d8576b"
            ],
            [
             0.6666666666666666,
             "#ed7953"
            ],
            [
             0.7777777777777778,
             "#fb9f3a"
            ],
            [
             0.8888888888888888,
             "#fdca26"
            ],
            [
             1,
             "#f0f921"
            ]
           ],
           "sequentialminus": [
            [
             0,
             "#0d0887"
            ],
            [
             0.1111111111111111,
             "#46039f"
            ],
            [
             0.2222222222222222,
             "#7201a8"
            ],
            [
             0.3333333333333333,
             "#9c179e"
            ],
            [
             0.4444444444444444,
             "#bd3786"
            ],
            [
             0.5555555555555556,
             "#d8576b"
            ],
            [
             0.6666666666666666,
             "#ed7953"
            ],
            [
             0.7777777777777778,
             "#fb9f3a"
            ],
            [
             0.8888888888888888,
             "#fdca26"
            ],
            [
             1,
             "#f0f921"
            ]
           ]
          },
          "colorway": [
           "#636efa",
           "#EF553B",
           "#00cc96",
           "#ab63fa",
           "#FFA15A",
           "#19d3f3",
           "#FF6692",
           "#B6E880",
           "#FF97FF",
           "#FECB52"
          ],
          "font": {
           "color": "#2a3f5f"
          },
          "geo": {
           "bgcolor": "white",
           "lakecolor": "white",
           "landcolor": "#E5ECF6",
           "showlakes": true,
           "showland": true,
           "subunitcolor": "white"
          },
          "hoverlabel": {
           "align": "left"
          },
          "hovermode": "closest",
          "mapbox": {
           "style": "light"
          },
          "paper_bgcolor": "white",
          "plot_bgcolor": "#E5ECF6",
          "polar": {
           "angularaxis": {
            "gridcolor": "white",
            "linecolor": "white",
            "ticks": ""
           },
           "bgcolor": "#E5ECF6",
           "radialaxis": {
            "gridcolor": "white",
            "linecolor": "white",
            "ticks": ""
           }
          },
          "scene": {
           "xaxis": {
            "backgroundcolor": "#E5ECF6",
            "gridcolor": "white",
            "gridwidth": 2,
            "linecolor": "white",
            "showbackground": true,
            "ticks": "",
            "zerolinecolor": "white"
           },
           "yaxis": {
            "backgroundcolor": "#E5ECF6",
            "gridcolor": "white",
            "gridwidth": 2,
            "linecolor": "white",
            "showbackground": true,
            "ticks": "",
            "zerolinecolor": "white"
           },
           "zaxis": {
            "backgroundcolor": "#E5ECF6",
            "gridcolor": "white",
            "gridwidth": 2,
            "linecolor": "white",
            "showbackground": true,
            "ticks": "",
            "zerolinecolor": "white"
           }
          },
          "shapedefaults": {
           "line": {
            "color": "#2a3f5f"
           }
          },
          "ternary": {
           "aaxis": {
            "gridcolor": "white",
            "linecolor": "white",
            "ticks": ""
           },
           "baxis": {
            "gridcolor": "white",
            "linecolor": "white",
            "ticks": ""
           },
           "bgcolor": "#E5ECF6",
           "caxis": {
            "gridcolor": "white",
            "linecolor": "white",
            "ticks": ""
           }
          },
          "title": {
           "x": 0.05
          },
          "xaxis": {
           "automargin": true,
           "gridcolor": "white",
           "linecolor": "white",
           "ticks": "",
           "title": {
            "standoff": 15
           },
           "zerolinecolor": "white",
           "zerolinewidth": 2
          },
          "yaxis": {
           "automargin": true,
           "gridcolor": "white",
           "linecolor": "white",
           "ticks": "",
           "title": {
            "standoff": 15
           },
           "zerolinecolor": "white",
           "zerolinewidth": 2
          }
         }
        },
        "title": {
         "text": "Gráfico Modelos de Regresiosn Lineal"
        },
        "xaxis": {
         "title": {
          "text": "x- Valor entrada"
         }
        },
        "yaxis": {
         "title": {
          "text": "y-Prediccion"
         }
        }
       }
      },
      "text/html": [
       "<div>                            <div id=\"e3fc4ac5-ecf7-47ab-a88c-94e95a667ddb\" class=\"plotly-graph-div\" style=\"height:525px; width:100%;\"></div>            <script type=\"text/javascript\">                require([\"plotly\"], function(Plotly) {                    window.PLOTLYENV=window.PLOTLYENV || {};                                    if (document.getElementById(\"e3fc4ac5-ecf7-47ab-a88c-94e95a667ddb\")) {                    Plotly.newPlot(                        \"e3fc4ac5-ecf7-47ab-a88c-94e95a667ddb\",                        [{\"name\":\"Real\",\"x\":[1,2,3,4,5,6,7,8,9,10,14,16,18,20],\"y\":[2,4,6,8,10,12,14,16,18,20,24,26,28,30],\"type\":\"scatter\"},{\"name\":\"Kvecinos\",\"x\":[1,2,3,4,5,6,7,8,9,10,14,16,18,20],\"y\":[9,9,9,5,10,15,11,16,16,17,23,29,25,25],\"type\":\"scatter\"},{\"name\":\"LinealMiltiple\",\"x\":[1,2,3,4,5,6,7,8,9,10,14,16,18,20],\"y\":[4,6,7,8,10,11,13,15,16,19,19,23,30,34],\"type\":\"scatter\"},{\"name\":\"DecisionTree\",\"x\":[1,2,3,4,5,6,7,8,9,10,14,16,18,20],\"y\":[8,8,8,6,6,14,12,12,20,18,28,28,26,26],\"type\":\"scatter\"},{\"name\":\"RandomForesr\",\"x\":[1,2,3,4,5,6,7,8,9,10,14,16,18,20],\"y\":[8,8,8,5,8,13,11,13,17,17,24,27,24,24],\"type\":\"scatter\"},{\"name\":\"SVM\",\"x\":[1,2,3,4,5,6,7,8,9,10,14,16,18,20],\"y\":[5,7,8,7,9,10,12,13,15,16,22,25,35,39],\"type\":\"scatter\"},{\"name\":\"NN\",\"x\":[1,2,3,4,5,6,7,8,9,10,14,16,18,20],\"y\":[4,5,7,8,9,11,12,14,15,17,23,26,29,32],\"type\":\"scatter\"}],                        {\"template\":{\"data\":{\"histogram2dcontour\":[{\"type\":\"histogram2dcontour\",\"colorbar\":{\"outlinewidth\":0,\"ticks\":\"\"},\"colorscale\":[[0.0,\"#0d0887\"],[0.1111111111111111,\"#46039f\"],[0.2222222222222222,\"#7201a8\"],[0.3333333333333333,\"#9c179e\"],[0.4444444444444444,\"#bd3786\"],[0.5555555555555556,\"#d8576b\"],[0.6666666666666666,\"#ed7953\"],[0.7777777777777778,\"#fb9f3a\"],[0.8888888888888888,\"#fdca26\"],[1.0,\"#f0f921\"]]}],\"choropleth\":[{\"type\":\"choropleth\",\"colorbar\":{\"outlinewidth\":0,\"ticks\":\"\"}}],\"histogram2d\":[{\"type\":\"histogram2d\",\"colorbar\":{\"outlinewidth\":0,\"ticks\":\"\"},\"colorscale\":[[0.0,\"#0d0887\"],[0.1111111111111111,\"#46039f\"],[0.2222222222222222,\"#7201a8\"],[0.3333333333333333,\"#9c179e\"],[0.4444444444444444,\"#bd3786\"],[0.5555555555555556,\"#d8576b\"],[0.6666666666666666,\"#ed7953\"],[0.7777777777777778,\"#fb9f3a\"],[0.8888888888888888,\"#fdca26\"],[1.0,\"#f0f921\"]]}],\"heatmap\":[{\"type\":\"heatmap\",\"colorbar\":{\"outlinewidth\":0,\"ticks\":\"\"},\"colorscale\":[[0.0,\"#0d0887\"],[0.1111111111111111,\"#46039f\"],[0.2222222222222222,\"#7201a8\"],[0.3333333333333333,\"#9c179e\"],[0.4444444444444444,\"#bd3786\"],[0.5555555555555556,\"#d8576b\"],[0.6666666666666666,\"#ed7953\"],[0.7777777777777778,\"#fb9f3a\"],[0.8888888888888888,\"#fdca26\"],[1.0,\"#f0f921\"]]}],\"heatmapgl\":[{\"type\":\"heatmapgl\",\"colorbar\":{\"outlinewidth\":0,\"ticks\":\"\"},\"colorscale\":[[0.0,\"#0d0887\"],[0.1111111111111111,\"#46039f\"],[0.2222222222222222,\"#7201a8\"],[0.3333333333333333,\"#9c179e\"],[0.4444444444444444,\"#bd3786\"],[0.5555555555555556,\"#d8576b\"],[0.6666666666666666,\"#ed7953\"],[0.7777777777777778,\"#fb9f3a\"],[0.8888888888888888,\"#fdca26\"],[1.0,\"#f0f921\"]]}],\"contourcarpet\":[{\"type\":\"contourcarpet\",\"colorbar\":{\"outlinewidth\":0,\"ticks\":\"\"}}],\"contour\":[{\"type\":\"contour\",\"colorbar\":{\"outlinewidth\":0,\"ticks\":\"\"},\"colorscale\":[[0.0,\"#0d0887\"],[0.1111111111111111,\"#46039f\"],[0.2222222222222222,\"#7201a8\"],[0.3333333333333333,\"#9c179e\"],[0.4444444444444444,\"#bd3786\"],[0.5555555555555556,\"#d8576b\"],[0.6666666666666666,\"#ed7953\"],[0.7777777777777778,\"#fb9f3a\"],[0.8888888888888888,\"#fdca26\"],[1.0,\"#f0f921\"]]}],\"surface\":[{\"type\":\"surface\",\"colorbar\":{\"outlinewidth\":0,\"ticks\":\"\"},\"colorscale\":[[0.0,\"#0d0887\"],[0.1111111111111111,\"#46039f\"],[0.2222222222222222,\"#7201a8\"],[0.3333333333333333,\"#9c179e\"],[0.4444444444444444,\"#bd3786\"],[0.5555555555555556,\"#d8576b\"],[0.6666666666666666,\"#ed7953\"],[0.7777777777777778,\"#fb9f3a\"],[0.8888888888888888,\"#fdca26\"],[1.0,\"#f0f921\"]]}],\"mesh3d\":[{\"type\":\"mesh3d\",\"colorbar\":{\"outlinewidth\":0,\"ticks\":\"\"}}],\"scatter\":[{\"fillpattern\":{\"fillmode\":\"overlay\",\"size\":10,\"solidity\":0.2},\"type\":\"scatter\"}],\"parcoords\":[{\"type\":\"parcoords\",\"line\":{\"colorbar\":{\"outlinewidth\":0,\"ticks\":\"\"}}}],\"scatterpolargl\":[{\"type\":\"scatterpolargl\",\"marker\":{\"colorbar\":{\"outlinewidth\":0,\"ticks\":\"\"}}}],\"bar\":[{\"error_x\":{\"color\":\"#2a3f5f\"},\"error_y\":{\"color\":\"#2a3f5f\"},\"marker\":{\"line\":{\"color\":\"#E5ECF6\",\"width\":0.5},\"pattern\":{\"fillmode\":\"overlay\",\"size\":10,\"solidity\":0.2}},\"type\":\"bar\"}],\"scattergeo\":[{\"type\":\"scattergeo\",\"marker\":{\"colorbar\":{\"outlinewidth\":0,\"ticks\":\"\"}}}],\"scatterpolar\":[{\"type\":\"scatterpolar\",\"marker\":{\"colorbar\":{\"outlinewidth\":0,\"ticks\":\"\"}}}],\"histogram\":[{\"marker\":{\"pattern\":{\"fillmode\":\"overlay\",\"size\":10,\"solidity\":0.2}},\"type\":\"histogram\"}],\"scattergl\":[{\"type\":\"scattergl\",\"marker\":{\"colorbar\":{\"outlinewidth\":0,\"ticks\":\"\"}}}],\"scatter3d\":[{\"type\":\"scatter3d\",\"line\":{\"colorbar\":{\"outlinewidth\":0,\"ticks\":\"\"}},\"marker\":{\"colorbar\":{\"outlinewidth\":0,\"ticks\":\"\"}}}],\"scattermapbox\":[{\"type\":\"scattermapbox\",\"marker\":{\"colorbar\":{\"outlinewidth\":0,\"ticks\":\"\"}}}],\"scatterternary\":[{\"type\":\"scatterternary\",\"marker\":{\"colorbar\":{\"outlinewidth\":0,\"ticks\":\"\"}}}],\"scattercarpet\":[{\"type\":\"scattercarpet\",\"marker\":{\"colorbar\":{\"outlinewidth\":0,\"ticks\":\"\"}}}],\"carpet\":[{\"aaxis\":{\"endlinecolor\":\"#2a3f5f\",\"gridcolor\":\"white\",\"linecolor\":\"white\",\"minorgridcolor\":\"white\",\"startlinecolor\":\"#2a3f5f\"},\"baxis\":{\"endlinecolor\":\"#2a3f5f\",\"gridcolor\":\"white\",\"linecolor\":\"white\",\"minorgridcolor\":\"white\",\"startlinecolor\":\"#2a3f5f\"},\"type\":\"carpet\"}],\"table\":[{\"cells\":{\"fill\":{\"color\":\"#EBF0F8\"},\"line\":{\"color\":\"white\"}},\"header\":{\"fill\":{\"color\":\"#C8D4E3\"},\"line\":{\"color\":\"white\"}},\"type\":\"table\"}],\"barpolar\":[{\"marker\":{\"line\":{\"color\":\"#E5ECF6\",\"width\":0.5},\"pattern\":{\"fillmode\":\"overlay\",\"size\":10,\"solidity\":0.2}},\"type\":\"barpolar\"}],\"pie\":[{\"automargin\":true,\"type\":\"pie\"}]},\"layout\":{\"autotypenumbers\":\"strict\",\"colorway\":[\"#636efa\",\"#EF553B\",\"#00cc96\",\"#ab63fa\",\"#FFA15A\",\"#19d3f3\",\"#FF6692\",\"#B6E880\",\"#FF97FF\",\"#FECB52\"],\"font\":{\"color\":\"#2a3f5f\"},\"hovermode\":\"closest\",\"hoverlabel\":{\"align\":\"left\"},\"paper_bgcolor\":\"white\",\"plot_bgcolor\":\"#E5ECF6\",\"polar\":{\"bgcolor\":\"#E5ECF6\",\"angularaxis\":{\"gridcolor\":\"white\",\"linecolor\":\"white\",\"ticks\":\"\"},\"radialaxis\":{\"gridcolor\":\"white\",\"linecolor\":\"white\",\"ticks\":\"\"}},\"ternary\":{\"bgcolor\":\"#E5ECF6\",\"aaxis\":{\"gridcolor\":\"white\",\"linecolor\":\"white\",\"ticks\":\"\"},\"baxis\":{\"gridcolor\":\"white\",\"linecolor\":\"white\",\"ticks\":\"\"},\"caxis\":{\"gridcolor\":\"white\",\"linecolor\":\"white\",\"ticks\":\"\"}},\"coloraxis\":{\"colorbar\":{\"outlinewidth\":0,\"ticks\":\"\"}},\"colorscale\":{\"sequential\":[[0.0,\"#0d0887\"],[0.1111111111111111,\"#46039f\"],[0.2222222222222222,\"#7201a8\"],[0.3333333333333333,\"#9c179e\"],[0.4444444444444444,\"#bd3786\"],[0.5555555555555556,\"#d8576b\"],[0.6666666666666666,\"#ed7953\"],[0.7777777777777778,\"#fb9f3a\"],[0.8888888888888888,\"#fdca26\"],[1.0,\"#f0f921\"]],\"sequentialminus\":[[0.0,\"#0d0887\"],[0.1111111111111111,\"#46039f\"],[0.2222222222222222,\"#7201a8\"],[0.3333333333333333,\"#9c179e\"],[0.4444444444444444,\"#bd3786\"],[0.5555555555555556,\"#d8576b\"],[0.6666666666666666,\"#ed7953\"],[0.7777777777777778,\"#fb9f3a\"],[0.8888888888888888,\"#fdca26\"],[1.0,\"#f0f921\"]],\"diverging\":[[0,\"#8e0152\"],[0.1,\"#c51b7d\"],[0.2,\"#de77ae\"],[0.3,\"#f1b6da\"],[0.4,\"#fde0ef\"],[0.5,\"#f7f7f7\"],[0.6,\"#e6f5d0\"],[0.7,\"#b8e186\"],[0.8,\"#7fbc41\"],[0.9,\"#4d9221\"],[1,\"#276419\"]]},\"xaxis\":{\"gridcolor\":\"white\",\"linecolor\":\"white\",\"ticks\":\"\",\"title\":{\"standoff\":15},\"zerolinecolor\":\"white\",\"automargin\":true,\"zerolinewidth\":2},\"yaxis\":{\"gridcolor\":\"white\",\"linecolor\":\"white\",\"ticks\":\"\",\"title\":{\"standoff\":15},\"zerolinecolor\":\"white\",\"automargin\":true,\"zerolinewidth\":2},\"scene\":{\"xaxis\":{\"backgroundcolor\":\"#E5ECF6\",\"gridcolor\":\"white\",\"linecolor\":\"white\",\"showbackground\":true,\"ticks\":\"\",\"zerolinecolor\":\"white\",\"gridwidth\":2},\"yaxis\":{\"backgroundcolor\":\"#E5ECF6\",\"gridcolor\":\"white\",\"linecolor\":\"white\",\"showbackground\":true,\"ticks\":\"\",\"zerolinecolor\":\"white\",\"gridwidth\":2},\"zaxis\":{\"backgroundcolor\":\"#E5ECF6\",\"gridcolor\":\"white\",\"linecolor\":\"white\",\"showbackground\":true,\"ticks\":\"\",\"zerolinecolor\":\"white\",\"gridwidth\":2}},\"shapedefaults\":{\"line\":{\"color\":\"#2a3f5f\"}},\"annotationdefaults\":{\"arrowcolor\":\"#2a3f5f\",\"arrowhead\":0,\"arrowwidth\":1},\"geo\":{\"bgcolor\":\"white\",\"landcolor\":\"#E5ECF6\",\"subunitcolor\":\"white\",\"showland\":true,\"showlakes\":true,\"lakecolor\":\"white\"},\"title\":{\"x\":0.05},\"mapbox\":{\"style\":\"light\"}}},\"title\":{\"text\":\"Gr\\u00e1fico Modelos de Regresiosn Lineal\"},\"xaxis\":{\"title\":{\"text\":\"x- Valor entrada\"}},\"yaxis\":{\"title\":{\"text\":\"y-Prediccion\"}},\"hovermode\":\"x\"},                        {\"responsive\": true}                    ).then(function(){\n",
       "                            \n",
       "var gd = document.getElementById('e3fc4ac5-ecf7-47ab-a88c-94e95a667ddb');\n",
       "var x = new MutationObserver(function (mutations, observer) {{\n",
       "        var display = window.getComputedStyle(gd).display;\n",
       "        if (!display || display === 'none') {{\n",
       "            console.log([gd, 'removed!']);\n",
       "            Plotly.purge(gd);\n",
       "            observer.disconnect();\n",
       "        }}\n",
       "}});\n",
       "\n",
       "// Listen for the removal of the full notebook cells\n",
       "var notebookContainer = gd.closest('#notebook-container');\n",
       "if (notebookContainer) {{\n",
       "    x.observe(notebookContainer, {childList: true});\n",
       "}}\n",
       "\n",
       "// Listen for the clearing of the current output cell\n",
       "var outputEl = gd.closest('.output');\n",
       "if (outputEl) {{\n",
       "    x.observe(outputEl, {childList: true});\n",
       "}}\n",
       "\n",
       "                        })                };                });            </script>        </div>"
      ]
     },
     "metadata": {},
     "output_type": "display_data"
    }
   ],
   "source": [
    "import numpy as np\n",
    "import plotly.graph_objects as go\n",
    "\n",
    "xbase = x1.flatten() # flatten input x for plot exe x\n",
    "fig = go.Figure()\n",
    "fig.add_trace(go.Scatter(x=xbase, y=y, name='Real'))\n",
    "fig.add_trace(go.Scatter(x=xbase, y=knn_cv.astype(int), name='Kvecinos'))\n",
    "fig.add_trace(go.Scatter(x=xbase, y=rlm_cv.astype(int), name='LinealMiltiple'))\n",
    "fig.add_trace(go.Scatter(x=xbase, y=rad_cv.astype(int), name='DecisionTree'))\n",
    "fig.add_trace(go.Scatter(x=xbase, y=raf_cv.astype(int), name='RandomForesr'))\n",
    "fig.add_trace(go.Scatter(x=xbase, y=mvs_cv.astype(int), name='SVM'))\n",
    "fig.add_trace(go.Scatter(x=xbase, y=y_test.flatten().astype(int), name='NN'))\n",
    "fig.update_layout(\n",
    "    title='Gráfico Modelos de Regresiosn Lineal',\n",
    "    xaxis_title='x- Valor entrada',\n",
    "    yaxis_title='y-Prediccion',\n",
    "    hovermode='x'  \n",
    ")\n",
    "fig.show()"
   ]
  },
  {
   "cell_type": "code",
   "execution_count": null,
   "id": "3eb76a4d",
   "metadata": {},
   "outputs": [],
   "source": []
  }
 ],
 "metadata": {
  "kernelspec": {
   "display_name": "Python 3 (ipykernel)",
   "language": "python",
   "name": "python3"
  },
  "language_info": {
   "codemirror_mode": {
    "name": "ipython",
    "version": 3
   },
   "file_extension": ".py",
   "mimetype": "text/x-python",
   "name": "python",
   "nbconvert_exporter": "python",
   "pygments_lexer": "ipython3",
   "version": "3.10.14"
  }
 },
 "nbformat": 4,
 "nbformat_minor": 5
}
