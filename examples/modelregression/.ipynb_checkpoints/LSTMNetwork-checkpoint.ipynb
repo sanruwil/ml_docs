{
 "cells": [
  {
   "cell_type": "markdown",
   "id": "085126ff",
   "metadata": {},
   "source": [
    "# Advanced Stock Pattern Prediction using LSTM with the Attention Mechanism in TensorFlow\n",
    "\n",
    "https://drlee.io/advanced-stock-pattern-prediction-using-lstm-with-the-attention-mechanism-in-tensorflow-a-step-by-143a2e8b0e95\n",
    "\n",
    "Librerias\n",
    "\n",
    "pip install tensorflow \n",
    "\n",
    "pip install keras \n",
    "\n",
    "pip install yfinance "
   ]
  },
  {
   "cell_type": "code",
   "execution_count": 1,
   "id": "3e894ddc",
   "metadata": {},
   "outputs": [
    {
     "name": "stderr",
     "output_type": "stream",
     "text": [
      "2024-07-15 23:14:54.361056: I tensorflow/core/platform/cpu_feature_guard.cc:182] This TensorFlow binary is optimized to use available CPU instructions in performance-critical operations.\n",
      "To enable the following instructions: AVX2 FMA, in other operations, rebuild TensorFlow with the appropriate compiler flags.\n"
     ]
    }
   ],
   "source": [
    "import tensorflow as tf\n",
    "import keras\n",
    "import yfinance as yf\n",
    "import numpy as np\n",
    "import pandas as pd\n",
    "import matplotlib.pyplot as plt"
   ]
  },
  {
   "cell_type": "code",
   "execution_count": 2,
   "id": "815c5b9a",
   "metadata": {},
   "outputs": [
    {
     "name": "stdout",
     "output_type": "stream",
     "text": [
      "TensorFlow Version:  2.12.0\n"
     ]
    }
   ],
   "source": [
    "print(\"TensorFlow Version: \", tf.__version__)"
   ]
  },
  {
   "cell_type": "markdown",
   "id": "5fc16485",
   "metadata": {},
   "source": [
    "**Data Acquisition from yfinance**\n"
   ]
  },
  {
   "cell_type": "code",
   "execution_count": 3,
   "id": "4d353a79",
   "metadata": {},
   "outputs": [
    {
     "name": "stderr",
     "output_type": "stream",
     "text": [
      "[*********************100%%**********************]  1 of 1 completed\n"
     ]
    },
    {
     "data": {
      "text/html": [
       "<div>\n",
       "<style scoped>\n",
       "    .dataframe tbody tr th:only-of-type {\n",
       "        vertical-align: middle;\n",
       "    }\n",
       "\n",
       "    .dataframe tbody tr th {\n",
       "        vertical-align: top;\n",
       "    }\n",
       "\n",
       "    .dataframe thead th {\n",
       "        text-align: right;\n",
       "    }\n",
       "</style>\n",
       "<table border=\"1\" class=\"dataframe\">\n",
       "  <thead>\n",
       "    <tr style=\"text-align: right;\">\n",
       "      <th></th>\n",
       "      <th>Open</th>\n",
       "      <th>High</th>\n",
       "      <th>Low</th>\n",
       "      <th>Close</th>\n",
       "      <th>Adj Close</th>\n",
       "      <th>Volume</th>\n",
       "    </tr>\n",
       "    <tr>\n",
       "      <th>Date</th>\n",
       "      <th></th>\n",
       "      <th></th>\n",
       "      <th></th>\n",
       "      <th></th>\n",
       "      <th></th>\n",
       "      <th></th>\n",
       "    </tr>\n",
       "  </thead>\n",
       "  <tbody>\n",
       "    <tr>\n",
       "      <th>2020-01-02</th>\n",
       "      <td>74.059998</td>\n",
       "      <td>75.150002</td>\n",
       "      <td>73.797501</td>\n",
       "      <td>75.087502</td>\n",
       "      <td>72.960464</td>\n",
       "      <td>135480400</td>\n",
       "    </tr>\n",
       "    <tr>\n",
       "      <th>2020-01-03</th>\n",
       "      <td>74.287498</td>\n",
       "      <td>75.144997</td>\n",
       "      <td>74.125000</td>\n",
       "      <td>74.357498</td>\n",
       "      <td>72.251152</td>\n",
       "      <td>146322800</td>\n",
       "    </tr>\n",
       "    <tr>\n",
       "      <th>2020-01-06</th>\n",
       "      <td>73.447502</td>\n",
       "      <td>74.989998</td>\n",
       "      <td>73.187500</td>\n",
       "      <td>74.949997</td>\n",
       "      <td>72.826859</td>\n",
       "      <td>118387200</td>\n",
       "    </tr>\n",
       "    <tr>\n",
       "      <th>2020-01-07</th>\n",
       "      <td>74.959999</td>\n",
       "      <td>75.224998</td>\n",
       "      <td>74.370003</td>\n",
       "      <td>74.597504</td>\n",
       "      <td>72.484360</td>\n",
       "      <td>108872000</td>\n",
       "    </tr>\n",
       "    <tr>\n",
       "      <th>2020-01-08</th>\n",
       "      <td>74.290001</td>\n",
       "      <td>76.110001</td>\n",
       "      <td>74.290001</td>\n",
       "      <td>75.797501</td>\n",
       "      <td>73.650345</td>\n",
       "      <td>132079200</td>\n",
       "    </tr>\n",
       "  </tbody>\n",
       "</table>\n",
       "</div>"
      ],
      "text/plain": [
       "                 Open       High        Low      Close  Adj Close     Volume\n",
       "Date                                                                        \n",
       "2020-01-02  74.059998  75.150002  73.797501  75.087502  72.960464  135480400\n",
       "2020-01-03  74.287498  75.144997  74.125000  74.357498  72.251152  146322800\n",
       "2020-01-06  73.447502  74.989998  73.187500  74.949997  72.826859  118387200\n",
       "2020-01-07  74.959999  75.224998  74.370003  74.597504  72.484360  108872000\n",
       "2020-01-08  74.290001  76.110001  74.290001  75.797501  73.650345  132079200"
      ]
     },
     "execution_count": 3,
     "metadata": {},
     "output_type": "execute_result"
    }
   ],
   "source": [
    "# Fetch AAPL data\n",
    "aapl_data = yf.download('AAPL', start='2020-01-01', end='2024-01-01')\n",
    "\n",
    "# Display the first few rows of the dataframe\n",
    "aapl_data.head()"
   ]
  },
  {
   "cell_type": "code",
   "execution_count": 4,
   "id": "e640ac24",
   "metadata": {},
   "outputs": [
    {
     "data": {
      "text/html": [
       "<div>\n",
       "<style scoped>\n",
       "    .dataframe tbody tr th:only-of-type {\n",
       "        vertical-align: middle;\n",
       "    }\n",
       "\n",
       "    .dataframe tbody tr th {\n",
       "        vertical-align: top;\n",
       "    }\n",
       "\n",
       "    .dataframe thead th {\n",
       "        text-align: right;\n",
       "    }\n",
       "</style>\n",
       "<table border=\"1\" class=\"dataframe\">\n",
       "  <thead>\n",
       "    <tr style=\"text-align: right;\">\n",
       "      <th></th>\n",
       "      <th>variable_1</th>\n",
       "      <th>variable_2</th>\n",
       "      <th>r</th>\n",
       "      <th>abs_r</th>\n",
       "    </tr>\n",
       "  </thead>\n",
       "  <tbody>\n",
       "    <tr>\n",
       "      <th>27</th>\n",
       "      <td>Adj Close</td>\n",
       "      <td>Close</td>\n",
       "      <td>0.999861</td>\n",
       "      <td>0.999861</td>\n",
       "    </tr>\n",
       "    <tr>\n",
       "      <th>22</th>\n",
       "      <td>Close</td>\n",
       "      <td>Adj Close</td>\n",
       "      <td>0.999861</td>\n",
       "      <td>0.999861</td>\n",
       "    </tr>\n",
       "    <tr>\n",
       "      <th>1</th>\n",
       "      <td>Open</td>\n",
       "      <td>High</td>\n",
       "      <td>0.999188</td>\n",
       "      <td>0.999188</td>\n",
       "    </tr>\n",
       "    <tr>\n",
       "      <th>6</th>\n",
       "      <td>High</td>\n",
       "      <td>Open</td>\n",
       "      <td>0.999188</td>\n",
       "      <td>0.999188</td>\n",
       "    </tr>\n",
       "    <tr>\n",
       "      <th>15</th>\n",
       "      <td>Low</td>\n",
       "      <td>Close</td>\n",
       "      <td>0.999073</td>\n",
       "      <td>0.999073</td>\n",
       "    </tr>\n",
       "    <tr>\n",
       "      <th>20</th>\n",
       "      <td>Close</td>\n",
       "      <td>Low</td>\n",
       "      <td>0.999073</td>\n",
       "      <td>0.999073</td>\n",
       "    </tr>\n",
       "    <tr>\n",
       "      <th>12</th>\n",
       "      <td>Low</td>\n",
       "      <td>Open</td>\n",
       "      <td>0.999027</td>\n",
       "      <td>0.999027</td>\n",
       "    </tr>\n",
       "    <tr>\n",
       "      <th>2</th>\n",
       "      <td>Open</td>\n",
       "      <td>Low</td>\n",
       "      <td>0.999027</td>\n",
       "      <td>0.999027</td>\n",
       "    </tr>\n",
       "    <tr>\n",
       "      <th>19</th>\n",
       "      <td>Close</td>\n",
       "      <td>High</td>\n",
       "      <td>0.999008</td>\n",
       "      <td>0.999008</td>\n",
       "    </tr>\n",
       "    <tr>\n",
       "      <th>9</th>\n",
       "      <td>High</td>\n",
       "      <td>Close</td>\n",
       "      <td>0.999008</td>\n",
       "      <td>0.999008</td>\n",
       "    </tr>\n",
       "  </tbody>\n",
       "</table>\n",
       "</div>"
      ],
      "text/plain": [
       "   variable_1 variable_2         r     abs_r\n",
       "27  Adj Close      Close  0.999861  0.999861\n",
       "22      Close  Adj Close  0.999861  0.999861\n",
       "1        Open       High  0.999188  0.999188\n",
       "6        High       Open  0.999188  0.999188\n",
       "15        Low      Close  0.999073  0.999073\n",
       "20      Close        Low  0.999073  0.999073\n",
       "12        Low       Open  0.999027  0.999027\n",
       "2        Open        Low  0.999027  0.999027\n",
       "19      Close       High  0.999008  0.999008\n",
       "9        High      Close  0.999008  0.999008"
      ]
     },
     "execution_count": 4,
     "metadata": {},
     "output_type": "execute_result"
    }
   ],
   "source": [
    "# Correlación entre columnas numéricas\n",
    "# ==============================================================================\n",
    "\n",
    "def tidy_corr_matrix(corr_mat):\n",
    "    '''\n",
    "    Función para convertir una matriz de correlación de pandas en formato tidy\n",
    "    '''\n",
    "    corr_mat = corr_mat.stack().reset_index()\n",
    "    corr_mat.columns = ['variable_1','variable_2','r']\n",
    "    corr_mat = corr_mat.loc[corr_mat['variable_1'] != corr_mat['variable_2'], :]\n",
    "    corr_mat['abs_r'] = np.abs(corr_mat['r'])\n",
    "    corr_mat = corr_mat.sort_values('abs_r', ascending=False)\n",
    "    \n",
    "    return(corr_mat)\n",
    "\n",
    "corr_matrix = aapl_data.select_dtypes(include=['float64', 'int']).corr(method='pearson')\n",
    "tidy_corr_matrix(corr_matrix).head(10)"
   ]
  },
  {
   "cell_type": "code",
   "execution_count": 5,
   "id": "fff5c567",
   "metadata": {},
   "outputs": [
    {
     "data": {
      "image/png": "[encoded data removed]",
      "text/plain": [
       "<Figure size 400x400 with 1 Axes>"
      ]
     },
     "metadata": {},
     "output_type": "display_data"
    }
   ],
   "source": [
    "# Heatmap matriz de correlaciones\n",
    "# ==============================================================================\n",
    "import seaborn as sns\n",
    "fig, ax = plt.subplots(nrows=1, ncols=1, figsize=(4, 4))\n",
    "\n",
    "sns.heatmap(\n",
    "    corr_matrix,\n",
    "    annot     = True,\n",
    "    cbar      = False,\n",
    "    annot_kws = {\"size\": 8},\n",
    "    vmin      = -1,\n",
    "    vmax      = 1,\n",
    "    center    = 0,\n",
    "    cmap      = sns.diverging_palette(20, 220, n=200),\n",
    "    square    = True,\n",
    "    ax        = ax\n",
    ")\n",
    "\n",
    "ax.set_xticklabels(\n",
    "    ax.get_xticklabels(),\n",
    "    rotation = 45,\n",
    "    horizontalalignment = 'right',\n",
    ")\n",
    "\n",
    "ax.tick_params(labelsize = 10)"
   ]
  },
  {
   "cell_type": "markdown",
   "id": "e397df0a",
   "metadata": {},
   "source": [
    "**Data Preprocessing and Preparation**"
   ]
  },
  {
   "cell_type": "code",
   "execution_count": 6,
   "id": "28ef8d89",
   "metadata": {},
   "outputs": [
    {
     "name": "stdout",
     "output_type": "stream",
     "text": [
      "Coeficiente de correlación de Pearson:  0.9978935071915754\n",
      "P-value:  0.0\n"
     ]
    }
   ],
   "source": [
    "from scipy import stats\n",
    "corr_test = stats.pearsonr(x = aapl_data['Close'], y =  aapl_data['Open'])\n",
    "print(\"Coeficiente de correlación de Pearson: \", corr_test[0])\n",
    "print(\"P-value: \", corr_test[1])"
   ]
  },
  {
   "cell_type": "code",
   "execution_count": 18,
   "id": "f33c84ff",
   "metadata": {},
   "outputs": [
    {
     "data": {
      "text/html": [
       "<div>\n",
       "<style scoped>\n",
       "    .dataframe tbody tr th:only-of-type {\n",
       "        vertical-align: middle;\n",
       "    }\n",
       "\n",
       "    .dataframe tbody tr th {\n",
       "        vertical-align: top;\n",
       "    }\n",
       "\n",
       "    .dataframe thead th {\n",
       "        text-align: right;\n",
       "    }\n",
       "</style>\n",
       "<table border=\"1\" class=\"dataframe\">\n",
       "  <thead>\n",
       "    <tr style=\"text-align: right;\">\n",
       "      <th></th>\n",
       "      <th>Open</th>\n",
       "      <th>High</th>\n",
       "      <th>Low</th>\n",
       "      <th>Close</th>\n",
       "    </tr>\n",
       "    <tr>\n",
       "      <th>Date</th>\n",
       "      <th></th>\n",
       "      <th></th>\n",
       "      <th></th>\n",
       "      <th></th>\n",
       "    </tr>\n",
       "  </thead>\n",
       "  <tbody>\n",
       "    <tr>\n",
       "      <th>2020-01-02</th>\n",
       "      <td>74.059998</td>\n",
       "      <td>75.150002</td>\n",
       "      <td>73.797501</td>\n",
       "      <td>75.087502</td>\n",
       "    </tr>\n",
       "    <tr>\n",
       "      <th>2020-01-03</th>\n",
       "      <td>74.287498</td>\n",
       "      <td>75.144997</td>\n",
       "      <td>74.125000</td>\n",
       "      <td>74.357498</td>\n",
       "    </tr>\n",
       "    <tr>\n",
       "      <th>2020-01-06</th>\n",
       "      <td>73.447502</td>\n",
       "      <td>74.989998</td>\n",
       "      <td>73.187500</td>\n",
       "      <td>74.949997</td>\n",
       "    </tr>\n",
       "    <tr>\n",
       "      <th>2020-01-07</th>\n",
       "      <td>74.959999</td>\n",
       "      <td>75.224998</td>\n",
       "      <td>74.370003</td>\n",
       "      <td>74.597504</td>\n",
       "    </tr>\n",
       "    <tr>\n",
       "      <th>2020-01-08</th>\n",
       "      <td>74.290001</td>\n",
       "      <td>76.110001</td>\n",
       "      <td>74.290001</td>\n",
       "      <td>75.797501</td>\n",
       "    </tr>\n",
       "    <tr>\n",
       "      <th>...</th>\n",
       "      <td>...</td>\n",
       "      <td>...</td>\n",
       "      <td>...</td>\n",
       "      <td>...</td>\n",
       "    </tr>\n",
       "    <tr>\n",
       "      <th>2023-12-22</th>\n",
       "      <td>195.179993</td>\n",
       "      <td>195.410004</td>\n",
       "      <td>192.970001</td>\n",
       "      <td>193.600006</td>\n",
       "    </tr>\n",
       "    <tr>\n",
       "      <th>2023-12-26</th>\n",
       "      <td>193.610001</td>\n",
       "      <td>193.889999</td>\n",
       "      <td>192.830002</td>\n",
       "      <td>193.050003</td>\n",
       "    </tr>\n",
       "    <tr>\n",
       "      <th>2023-12-27</th>\n",
       "      <td>192.490005</td>\n",
       "      <td>193.500000</td>\n",
       "      <td>191.089996</td>\n",
       "      <td>193.149994</td>\n",
       "    </tr>\n",
       "    <tr>\n",
       "      <th>2023-12-28</th>\n",
       "      <td>194.139999</td>\n",
       "      <td>194.660004</td>\n",
       "      <td>193.169998</td>\n",
       "      <td>193.580002</td>\n",
       "    </tr>\n",
       "    <tr>\n",
       "      <th>2023-12-29</th>\n",
       "      <td>193.899994</td>\n",
       "      <td>194.399994</td>\n",
       "      <td>191.729996</td>\n",
       "      <td>192.529999</td>\n",
       "    </tr>\n",
       "  </tbody>\n",
       "</table>\n",
       "<p>1006 rows × 4 columns</p>\n",
       "</div>"
      ],
      "text/plain": [
       "                  Open        High         Low       Close\n",
       "Date                                                      \n",
       "2020-01-02   74.059998   75.150002   73.797501   75.087502\n",
       "2020-01-03   74.287498   75.144997   74.125000   74.357498\n",
       "2020-01-06   73.447502   74.989998   73.187500   74.949997\n",
       "2020-01-07   74.959999   75.224998   74.370003   74.597504\n",
       "2020-01-08   74.290001   76.110001   74.290001   75.797501\n",
       "...                ...         ...         ...         ...\n",
       "2023-12-22  195.179993  195.410004  192.970001  193.600006\n",
       "2023-12-26  193.610001  193.889999  192.830002  193.050003\n",
       "2023-12-27  192.490005  193.500000  191.089996  193.149994\n",
       "2023-12-28  194.139999  194.660004  193.169998  193.580002\n",
       "2023-12-29  193.899994  194.399994  191.729996  192.529999\n",
       "\n",
       "[1006 rows x 4 columns]"
      ]
     },
     "execution_count": 18,
     "metadata": {},
     "output_type": "execute_result"
    }
   ],
   "source": [
    "aapl_data['Volume_log'] = np.log(aapl_data['Volume'])\n",
    "#retornar al avlor incil valores_originales = np.exp(columna_logaritmica)\n",
    "data = aapl_data[['Open','High','Low','Close']]\n",
    "data"
   ]
  },
  {
   "cell_type": "markdown",
   "id": "5a4cac2d",
   "metadata": {},
   "source": [
    "1. Data Cleaning"
   ]
  },
  {
   "cell_type": "code",
   "execution_count": 20,
   "id": "db4e98ef",
   "metadata": {},
   "outputs": [
    {
     "data": {
      "image/png": "[encoded data removed]",
      "text/plain": [
       "<Figure size 900x500 with 4 Axes>"
      ]
     },
     "metadata": {},
     "output_type": "display_data"
    }
   ],
   "source": [
    "# Gráfico de distribución para cada variable numérica\n",
    "# ==============================================================================\n",
    "# Ajustar número de subplots en función del número de columnas\n",
    "fig, axes = plt.subplots(nrows=2, ncols=2, figsize=(9, 5))\n",
    "axes = axes.flat\n",
    "columnas_numeric = data.select_dtypes(include=['float64', 'int']).columns\n",
    "\n",
    "for i, colum in enumerate(columnas_numeric):\n",
    "    sns.histplot(\n",
    "        data    = data,\n",
    "        x       = colum,\n",
    "        stat    = \"count\",\n",
    "        kde     = True,\n",
    "        color   = (list(plt.rcParams['axes.prop_cycle'])*2)[i][\"color\"],\n",
    "        line_kws= {'linewidth': 2},\n",
    "        alpha   = 0.3,\n",
    "        ax      = axes[i]\n",
    "    )\n",
    "    axes[i].set_title(colum, fontsize = 10, fontweight = \"bold\")\n",
    "    axes[i].tick_params(labelsize = 8)\n",
    "    axes[i].set_xlabel(\"\")\n",
    "\n",
    "\n",
    "    \n",
    "fig.tight_layout()\n",
    "plt.subplots_adjust(top = 0.9)\n",
    "fig.suptitle('Distribución variables numéricas', fontsize = 10, fontweight = \"bold\");"
   ]
  },
  {
   "cell_type": "code",
   "execution_count": 27,
   "id": "f1389d04",
   "metadata": {},
   "outputs": [
    {
     "data": {
      "text/html": [
       "<div>\n",
       "<style scoped>\n",
       "    .dataframe tbody tr th:only-of-type {\n",
       "        vertical-align: middle;\n",
       "    }\n",
       "\n",
       "    .dataframe tbody tr th {\n",
       "        vertical-align: top;\n",
       "    }\n",
       "\n",
       "    .dataframe thead th {\n",
       "        text-align: right;\n",
       "    }\n",
       "</style>\n",
       "<table border=\"1\" class=\"dataframe\">\n",
       "  <thead>\n",
       "    <tr style=\"text-align: right;\">\n",
       "      <th></th>\n",
       "      <th>Open</th>\n",
       "      <th>High</th>\n",
       "      <th>Low</th>\n",
       "      <th>Close</th>\n",
       "      <th>Adj Close</th>\n",
       "      <th>Volume</th>\n",
       "      <th>Volume_log</th>\n",
       "    </tr>\n",
       "    <tr>\n",
       "      <th>Date</th>\n",
       "      <th></th>\n",
       "      <th></th>\n",
       "      <th></th>\n",
       "      <th></th>\n",
       "      <th></th>\n",
       "      <th></th>\n",
       "      <th></th>\n",
       "    </tr>\n",
       "  </thead>\n",
       "  <tbody>\n",
       "    <tr>\n",
       "      <th>2020-01-02</th>\n",
       "      <td>74.059998</td>\n",
       "      <td>75.150002</td>\n",
       "      <td>73.797501</td>\n",
       "      <td>75.087502</td>\n",
       "      <td>72.960464</td>\n",
       "      <td>135480400</td>\n",
       "      <td>18.724338</td>\n",
       "    </tr>\n",
       "    <tr>\n",
       "      <th>2020-01-03</th>\n",
       "      <td>74.287498</td>\n",
       "      <td>75.144997</td>\n",
       "      <td>74.125000</td>\n",
       "      <td>74.357498</td>\n",
       "      <td>72.251152</td>\n",
       "      <td>146322800</td>\n",
       "      <td>18.801326</td>\n",
       "    </tr>\n",
       "    <tr>\n",
       "      <th>2020-01-06</th>\n",
       "      <td>73.447502</td>\n",
       "      <td>74.989998</td>\n",
       "      <td>73.187500</td>\n",
       "      <td>74.949997</td>\n",
       "      <td>72.826859</td>\n",
       "      <td>118387200</td>\n",
       "      <td>18.589471</td>\n",
       "    </tr>\n",
       "    <tr>\n",
       "      <th>2020-01-07</th>\n",
       "      <td>74.959999</td>\n",
       "      <td>75.224998</td>\n",
       "      <td>74.370003</td>\n",
       "      <td>74.597504</td>\n",
       "      <td>72.484360</td>\n",
       "      <td>108872000</td>\n",
       "      <td>18.505683</td>\n",
       "    </tr>\n",
       "    <tr>\n",
       "      <th>2020-01-08</th>\n",
       "      <td>74.290001</td>\n",
       "      <td>76.110001</td>\n",
       "      <td>74.290001</td>\n",
       "      <td>75.797501</td>\n",
       "      <td>73.650345</td>\n",
       "      <td>132079200</td>\n",
       "      <td>18.698912</td>\n",
       "    </tr>\n",
       "    <tr>\n",
       "      <th>...</th>\n",
       "      <td>...</td>\n",
       "      <td>...</td>\n",
       "      <td>...</td>\n",
       "      <td>...</td>\n",
       "      <td>...</td>\n",
       "      <td>...</td>\n",
       "      <td>...</td>\n",
       "    </tr>\n",
       "    <tr>\n",
       "      <th>2023-12-22</th>\n",
       "      <td>195.179993</td>\n",
       "      <td>195.410004</td>\n",
       "      <td>192.970001</td>\n",
       "      <td>193.600006</td>\n",
       "      <td>193.091385</td>\n",
       "      <td>37122800</td>\n",
       "      <td>17.429742</td>\n",
       "    </tr>\n",
       "    <tr>\n",
       "      <th>2023-12-26</th>\n",
       "      <td>193.610001</td>\n",
       "      <td>193.889999</td>\n",
       "      <td>192.830002</td>\n",
       "      <td>193.050003</td>\n",
       "      <td>192.542816</td>\n",
       "      <td>28919300</td>\n",
       "      <td>17.180020</td>\n",
       "    </tr>\n",
       "    <tr>\n",
       "      <th>2023-12-27</th>\n",
       "      <td>192.490005</td>\n",
       "      <td>193.500000</td>\n",
       "      <td>191.089996</td>\n",
       "      <td>193.149994</td>\n",
       "      <td>192.642548</td>\n",
       "      <td>48087700</td>\n",
       "      <td>17.688537</td>\n",
       "    </tr>\n",
       "    <tr>\n",
       "      <th>2023-12-28</th>\n",
       "      <td>194.139999</td>\n",
       "      <td>194.660004</td>\n",
       "      <td>193.169998</td>\n",
       "      <td>193.580002</td>\n",
       "      <td>193.071426</td>\n",
       "      <td>34049900</td>\n",
       "      <td>17.343338</td>\n",
       "    </tr>\n",
       "    <tr>\n",
       "      <th>2023-12-29</th>\n",
       "      <td>193.899994</td>\n",
       "      <td>194.399994</td>\n",
       "      <td>191.729996</td>\n",
       "      <td>192.529999</td>\n",
       "      <td>192.024185</td>\n",
       "      <td>42628800</td>\n",
       "      <td>17.568041</td>\n",
       "    </tr>\n",
       "  </tbody>\n",
       "</table>\n",
       "<p>1006 rows × 7 columns</p>\n",
       "</div>"
      ],
      "text/plain": [
       "                  Open        High         Low       Close   Adj Close  \\\n",
       "Date                                                                     \n",
       "2020-01-02   74.059998   75.150002   73.797501   75.087502   72.960464   \n",
       "2020-01-03   74.287498   75.144997   74.125000   74.357498   72.251152   \n",
       "2020-01-06   73.447502   74.989998   73.187500   74.949997   72.826859   \n",
       "2020-01-07   74.959999   75.224998   74.370003   74.597504   72.484360   \n",
       "2020-01-08   74.290001   76.110001   74.290001   75.797501   73.650345   \n",
       "...                ...         ...         ...         ...         ...   \n",
       "2023-12-22  195.179993  195.410004  192.970001  193.600006  193.091385   \n",
       "2023-12-26  193.610001  193.889999  192.830002  193.050003  192.542816   \n",
       "2023-12-27  192.490005  193.500000  191.089996  193.149994  192.642548   \n",
       "2023-12-28  194.139999  194.660004  193.169998  193.580002  193.071426   \n",
       "2023-12-29  193.899994  194.399994  191.729996  192.529999  192.024185   \n",
       "\n",
       "               Volume  Volume_log  \n",
       "Date                               \n",
       "2020-01-02  135480400   18.724338  \n",
       "2020-01-03  146322800   18.801326  \n",
       "2020-01-06  118387200   18.589471  \n",
       "2020-01-07  108872000   18.505683  \n",
       "2020-01-08  132079200   18.698912  \n",
       "...               ...         ...  \n",
       "2023-12-22   37122800   17.429742  \n",
       "2023-12-26   28919300   17.180020  \n",
       "2023-12-27   48087700   17.688537  \n",
       "2023-12-28   34049900   17.343338  \n",
       "2023-12-29   42628800   17.568041  \n",
       "\n",
       "[1006 rows x 7 columns]"
      ]
     },
     "execution_count": 27,
     "metadata": {},
     "output_type": "execute_result"
    }
   ],
   "source": [
    "# Checking for missing values\n",
    "aapl_data.isnull().sum()\n",
    "\n",
    "# Filling missing values, if any\n",
    "aapl_data.fillna(method='ffill', inplace=True)\n",
    "aapl_data"
   ]
  },
  {
   "cell_type": "markdown",
   "id": "ea5e5185",
   "metadata": {},
   "source": [
    "2. Feature Selection\n",
    "\n",
    "In stock market data, various features can be influential. Typically, ‘Open’, ‘High’, ‘Low’, ‘Close’, and ‘Volume’ are used.\n",
    "\n",
    "\n",
    "Deciding Features: For our model, we’ll use ‘Close’ prices, but you can experiment with additional features like ‘Open’, ‘High’, ‘Low’, and ‘Volume’."
   ]
  },
  {
   "cell_type": "markdown",
   "id": "cd09a8e4",
   "metadata": {},
   "source": [
    "3.Normalization\n",
    "\n",
    "Applying Min-Max Scaling: This scales the dataset so that all the input features lie between 0 and 1."
   ]
  },
  {
   "cell_type": "code",
   "execution_count": 28,
   "id": "b864a51e",
   "metadata": {},
   "outputs": [],
   "source": [
    "from sklearn.preprocessing import MinMaxScaler\n",
    "\n",
    "scaler = MinMaxScaler(feature_range=(0,1))\n",
    "aapl_data_scaled = scaler.fit_transform(aapl_data['Close'].values.reshape(-1,1))"
   ]
  },
  {
   "cell_type": "markdown",
   "id": "e5f49f24",
   "metadata": {},
   "source": [
    "4.Creating Sequences\n",
    "\n",
    "LSTM models require input to be in a sequence format. We transform the data into sequences for the model to learn from.\n",
    "\n",
    "\n",
    "Defining Sequence Length: Choose a sequence length (like 60 days). This means, for every sample, the model will look at the last 60 days of data to make a prediction."
   ]
  },
  {
   "cell_type": "code",
   "execution_count": 29,
   "id": "15c19ef9",
   "metadata": {},
   "outputs": [],
   "source": [
    "X = []\n",
    "y = []\n",
    "\n",
    "for i in range(60, len(aapl_data_scaled)):\n",
    "    X.append(aapl_data_scaled[i-60:i, 0])\n",
    "    y.append(aapl_data_scaled[i, 0])"
   ]
  },
  {
   "cell_type": "markdown",
   "id": "db7f2279",
   "metadata": {},
   "source": [
    "5. Train-Test Split\n",
    "\n",
    "Split the data into training and testing sets to evaluate the model’s performance properly.\n",
    "\n",
    "\n",
    "Defining Split Ratio: Typically, 80% of data is used for training and 20% for testing."
   ]
  },
  {
   "cell_type": "code",
   "execution_count": 30,
   "id": "5b63ea77",
   "metadata": {},
   "outputs": [],
   "source": [
    "train_size = int(len(X) * 0.8)\n",
    "test_size = len(X) - train_size\n",
    "\n",
    "X_train, X_test = X[:train_size], X[train_size:]\n",
    "y_train, y_test = y[:train_size], y[train_size:]"
   ]
  },
  {
   "cell_type": "markdown",
   "id": "eeed8575",
   "metadata": {},
   "source": [
    "6. Reshaping Data for LSTM\n",
    "\n",
    "Finally, we need to reshape our data into a 3D format [samples, time steps, features] required by LSTM layers."
   ]
  },
  {
   "cell_type": "code",
   "execution_count": 31,
   "id": "9b3a9681",
   "metadata": {},
   "outputs": [],
   "source": [
    "X_train, y_train = np.array(X_train), np.array(y_train)\n",
    "X_train = np.reshape(X_train, (X_train.shape[0], X_train.shape[1], 1))\n"
   ]
  },
  {
   "cell_type": "code",
   "execution_count": 32,
   "id": "76a54534",
   "metadata": {},
   "outputs": [
    {
     "data": {
      "text/plain": [
       "756"
      ]
     },
     "execution_count": 32,
     "metadata": {},
     "output_type": "execute_result"
    }
   ],
   "source": [
    "#number of samples (rows) in the training data.\n",
    "X_train.shape[0]\n"
   ]
  },
  {
   "cell_type": "code",
   "execution_count": 33,
   "id": "03ebabe9",
   "metadata": {},
   "outputs": [
    {
     "data": {
      "text/plain": [
       "60"
      ]
     },
     "execution_count": 33,
     "metadata": {},
     "output_type": "execute_result"
    }
   ],
   "source": [
    "X_train.shape[1]"
   ]
  },
  {
   "cell_type": "markdown",
   "id": "47b003b4",
   "metadata": {},
   "source": [
    "**Building the LSTM with Attention Model**"
   ]
  },
  {
   "cell_type": "markdown",
   "id": "dd0d88e1",
   "metadata": {},
   "source": [
    "1. Creating LSTM Layers\n",
    "\n",
    "Our LSTM model will consist of several layers, including LSTM layers for processing the time-series data\n",
    "\n",
    "In this model, units represent the number of neurons in each LSTM layer. return_sequences=True is crucial in the first layers to ensure the output includes sequences, which are essential for stacking LSTM layers. The final LSTM layer does not return sequences as we prepare the data for the attention layer."
   ]
  },
  {
   "cell_type": "code",
   "execution_count": 34,
   "id": "7833a242",
   "metadata": {},
   "outputs": [
    {
     "name": "stderr",
     "output_type": "stream",
     "text": [
      "2024-07-15 23:37:56.207195: I tensorflow/core/common_runtime/executor.cc:1197] [/device:CPU:0] (DEBUG INFO) Executor start aborting (this does not indicate an error and you can ignore this message): INVALID_ARGUMENT: You must feed a value for placeholder tensor 'gradients/split_2_grad/concat/split_2/split_dim' with dtype int32\n",
      "\t [[{{node gradients/split_2_grad/concat/split_2/split_dim}}]]\n",
      "2024-07-15 23:37:56.208810: I tensorflow/core/common_runtime/executor.cc:1197] [/device:CPU:0] (DEBUG INFO) Executor start aborting (this does not indicate an error and you can ignore this message): INVALID_ARGUMENT: You must feed a value for placeholder tensor 'gradients/split_grad/concat/split/split_dim' with dtype int32\n",
      "\t [[{{node gradients/split_grad/concat/split/split_dim}}]]\n",
      "2024-07-15 23:37:56.210412: I tensorflow/core/common_runtime/executor.cc:1197] [/device:CPU:0] (DEBUG INFO) Executor start aborting (this does not indicate an error and you can ignore this message): INVALID_ARGUMENT: You must feed a value for placeholder tensor 'gradients/split_1_grad/concat/split_1/split_dim' with dtype int32\n",
      "\t [[{{node gradients/split_1_grad/concat/split_1/split_dim}}]]\n",
      "2024-07-15 23:37:56.405962: I tensorflow/core/common_runtime/executor.cc:1197] [/device:CPU:0] (DEBUG INFO) Executor start aborting (this does not indicate an error and you can ignore this message): INVALID_ARGUMENT: You must feed a value for placeholder tensor 'gradients/split_2_grad/concat/split_2/split_dim' with dtype int32\n",
      "\t [[{{node gradients/split_2_grad/concat/split_2/split_dim}}]]\n",
      "2024-07-15 23:37:56.407204: I tensorflow/core/common_runtime/executor.cc:1197] [/device:CPU:0] (DEBUG INFO) Executor start aborting (this does not indicate an error and you can ignore this message): INVALID_ARGUMENT: You must feed a value for placeholder tensor 'gradients/split_grad/concat/split/split_dim' with dtype int32\n",
      "\t [[{{node gradients/split_grad/concat/split/split_dim}}]]\n",
      "2024-07-15 23:37:56.408355: I tensorflow/core/common_runtime/executor.cc:1197] [/device:CPU:0] (DEBUG INFO) Executor start aborting (this does not indicate an error and you can ignore this message): INVALID_ARGUMENT: You must feed a value for placeholder tensor 'gradients/split_1_grad/concat/split_1/split_dim' with dtype int32\n",
      "\t [[{{node gradients/split_1_grad/concat/split_1/split_dim}}]]\n",
      "2024-07-15 23:37:56.629139: I tensorflow/core/common_runtime/executor.cc:1197] [/device:CPU:0] (DEBUG INFO) Executor start aborting (this does not indicate an error and you can ignore this message): INVALID_ARGUMENT: You must feed a value for placeholder tensor 'gradients/split_2_grad/concat/split_2/split_dim' with dtype int32\n",
      "\t [[{{node gradients/split_2_grad/concat/split_2/split_dim}}]]\n",
      "2024-07-15 23:37:56.631030: I tensorflow/core/common_runtime/executor.cc:1197] [/device:CPU:0] (DEBUG INFO) Executor start aborting (this does not indicate an error and you can ignore this message): INVALID_ARGUMENT: You must feed a value for placeholder tensor 'gradients/split_grad/concat/split/split_dim' with dtype int32\n",
      "\t [[{{node gradients/split_grad/concat/split/split_dim}}]]\n",
      "2024-07-15 23:37:56.632222: I tensorflow/core/common_runtime/executor.cc:1197] [/device:CPU:0] (DEBUG INFO) Executor start aborting (this does not indicate an error and you can ignore this message): INVALID_ARGUMENT: You must feed a value for placeholder tensor 'gradients/split_1_grad/concat/split_1/split_dim' with dtype int32\n",
      "\t [[{{node gradients/split_1_grad/concat/split_1/split_dim}}]]\n",
      "2024-07-15 23:37:56.819464: I tensorflow/core/common_runtime/executor.cc:1197] [/device:CPU:0] (DEBUG INFO) Executor start aborting (this does not indicate an error and you can ignore this message): INVALID_ARGUMENT: You must feed a value for placeholder tensor 'gradients/split_2_grad/concat/split_2/split_dim' with dtype int32\n",
      "\t [[{{node gradients/split_2_grad/concat/split_2/split_dim}}]]\n",
      "2024-07-15 23:37:56.820755: I tensorflow/core/common_runtime/executor.cc:1197] [/device:CPU:0] (DEBUG INFO) Executor start aborting (this does not indicate an error and you can ignore this message): INVALID_ARGUMENT: You must feed a value for placeholder tensor 'gradients/split_grad/concat/split/split_dim' with dtype int32\n",
      "\t [[{{node gradients/split_grad/concat/split/split_dim}}]]\n",
      "2024-07-15 23:37:56.821889: I tensorflow/core/common_runtime/executor.cc:1197] [/device:CPU:0] (DEBUG INFO) Executor start aborting (this does not indicate an error and you can ignore this message): INVALID_ARGUMENT: You must feed a value for placeholder tensor 'gradients/split_1_grad/concat/split_1/split_dim' with dtype int32\n",
      "\t [[{{node gradients/split_1_grad/concat/split_1/split_dim}}]]\n"
     ]
    }
   ],
   "source": [
    "from keras.models import Sequential\n",
    "from keras.layers import LSTM, Dense, Dropout, AdditiveAttention, Permute, Reshape, Multiply\n",
    "\n",
    "model = Sequential()\n",
    "\n",
    "# Adding LSTM layers with return_sequences=True\n",
    "model.add(LSTM(units=50, return_sequences=True, input_shape=(X_train.shape[1], 1)))\n",
    "model.add(LSTM(units=50, return_sequences=True))\n",
    "model.add(LSTM(units=50, return_sequences=True))\n",
    "model.add(LSTM(units=50, return_sequences=True))"
   ]
  },
  {
   "cell_type": "markdown",
   "id": "03e82bed",
   "metadata": {},
   "source": [
    "2. Integrating the Attention Mechanism\n",
    "\n",
    "The attention mechanism can be added to enhance the model’s ability to focus on relevant time steps.\n",
    "This custom layer computes a weighted sum of the input sequence, allowing the model to pay more attention to certain time steps.\n",
    "\n"
   ]
  },
  {
   "cell_type": "code",
   "execution_count": 35,
   "id": "20f8b228",
   "metadata": {},
   "outputs": [],
   "source": [
    "# Adding self-attention mechanism\n",
    "# The attention mechanism\n",
    "attention = AdditiveAttention(name='attention_weight')\n",
    "# Permute and reshape for compatibility\n",
    "model.add(Permute((2, 1))) \n",
    "model.add(Reshape((-1, X_train.shape[1])))\n",
    "attention_result = attention([model.output, model.output])\n",
    "multiply_layer = Multiply()([model.output, attention_result])\n",
    "# Return to original shape\n",
    "model.add(Permute((2, 1))) \n",
    "model.add(Reshape((-1, 50)))\n",
    "\n",
    "# Adding a Flatten layer before the final Dense layer\n",
    "model.add(tf.keras.layers.Flatten())\n",
    "\n",
    "# Final Dense layer\n",
    "model.add(Dense(1))\n",
    "\n",
    "# Compile the model\n",
    "# model.compile(optimizer='adam', loss='mean_squared_error')\n",
    "\n",
    "# Train the model\n",
    "# history = model.fit(X_train, y_train, epochs=100, batch_size=25, validation_split=0.2)"
   ]
  },
  {
   "cell_type": "markdown",
   "id": "c7d63190",
   "metadata": {},
   "source": [
    "3. Optimizing the Model\n",
    "\n",
    "To enhance the model’s performance and reduce the risk of overfitting, we include Dropout and Batch Normalization.\n",
    "\n",
    "Dropout helps in preventing overfitting by randomly setting a fraction of the input units to 0 at each update during training, and Batch Normalization stabilizes the learning process."
   ]
  },
  {
   "cell_type": "code",
   "execution_count": 36,
   "id": "4091c96d",
   "metadata": {},
   "outputs": [],
   "source": [
    "from keras.layers import BatchNormalization\n",
    "\n",
    "# Adding Dropout and Batch Normalization\n",
    "model.add(Dropout(0.2))\n",
    "model.add(BatchNormalization())"
   ]
  },
  {
   "cell_type": "markdown",
   "id": "85435bd8",
   "metadata": {},
   "source": [
    "4. Model Compilation\n",
    "\n",
    "Finally, we compile the model with an optimizer and loss function suited for our regression task.\n",
    "\n",
    "adam optimizer is generally a good choice for recurrent neural networks, and mean squared error works well as a loss function for regression tasks like ours"
   ]
  },
  {
   "cell_type": "code",
   "execution_count": 37,
   "id": "af51fe9f",
   "metadata": {},
   "outputs": [],
   "source": [
    "model.compile(optimizer='adam', loss='mean_squared_error')"
   ]
  },
  {
   "cell_type": "markdown",
   "id": "b6391181",
   "metadata": {},
   "source": [
    "5. Model Summary\n",
    "\n",
    "It’s beneficial to view the summary of the model to understand its structure and number of parameters."
   ]
  },
  {
   "cell_type": "code",
   "execution_count": 38,
   "id": "f7cefc5d",
   "metadata": {},
   "outputs": [
    {
     "name": "stdout",
     "output_type": "stream",
     "text": [
      "Model: \"sequential\"\n",
      "_________________________________________________________________\n",
      " Layer (type)                Output Shape              Param #   \n",
      "=================================================================\n",
      " lstm (LSTM)                 (None, 60, 50)            10400     \n",
      "                                                                 \n",
      " lstm_1 (LSTM)               (None, 60, 50)            20200     \n",
      "                                                                 \n",
      " lstm_2 (LSTM)               (None, 60, 50)            20200     \n",
      "                                                                 \n",
      " lstm_3 (LSTM)               (None, 60, 50)            20200     \n",
      "                                                                 \n",
      " permute (Permute)           (None, 50, 60)            0         \n",
      "                                                                 \n",
      " reshape (Reshape)           (None, 50, 60)            0         \n",
      "                                                                 \n",
      " permute_1 (Permute)         (None, 60, 50)            0         \n",
      "                                                                 \n",
      " reshape_1 (Reshape)         (None, 60, 50)            0         \n",
      "                                                                 \n",
      " flatten (Flatten)           (None, 3000)              0         \n",
      "                                                                 \n",
      " dense (Dense)               (None, 1)                 3001      \n",
      "                                                                 \n",
      " dropout (Dropout)           (None, 1)                 0         \n",
      "                                                                 \n",
      " batch_normalization (BatchN  (None, 1)                4         \n",
      " ormalization)                                                   \n",
      "                                                                 \n",
      "=================================================================\n",
      "Total params: 74,005\n",
      "Trainable params: 74,003\n",
      "Non-trainable params: 2\n",
      "_________________________________________________________________\n"
     ]
    }
   ],
   "source": [
    "model.summary()"
   ]
  },
  {
   "cell_type": "markdown",
   "id": "facdbd9a",
   "metadata": {},
   "source": [
    "**Training the Model**"
   ]
  },
  {
   "cell_type": "markdown",
   "id": "ff8d39ca",
   "metadata": {},
   "source": [
    "Here, we train the model for 100 epochs with a batch size of 25. The validation_split parameter reserves a portion of the training data for validation, allowing us to monitor the model's performance on unseen data during training."
   ]
  },
  {
   "cell_type": "code",
   "execution_count": 39,
   "id": "cf39c306",
   "metadata": {},
   "outputs": [],
   "source": [
    "# Assuming X_train and y_train are already defined and preprocessed\n",
    "#history = model.fit(X_train, y_train, epochs=100, batch_size=25, validation_split=0.2)"
   ]
  },
  {
   "cell_type": "markdown",
   "id": "e4eedc05",
   "metadata": {},
   "source": [
    "**1. Overfitting and How to Avoid It** \n",
    "\n",
    "Overfitting occurs when a model learns patterns specific to the training data, which do not generalize to new data.\n",
    "Here are ways to avoid overfitting:\n",
    "\n",
    "Validation Set: Using a validation set (as we did in the training code) helps in monitoring the model’s performance on unseen data.\n",
    "Early Stopping: This technique stops training when the model’s performance on the validation set starts to degrade. Implementing early stopping in Keras is straightforward:\n",
    "\n",
    "1. Here, patience=10 means training will stop if the validation loss does not improve for 10 consecutive epochs.\n",
    "\n",
    "2. Regularization Techniques: Techniques like Dropout and Batch Normalization, which are already included in our model, also help in reducing overfitting."
   ]
  },
  {
   "cell_type": "code",
   "execution_count": 40,
   "id": "8bbc7d48",
   "metadata": {},
   "outputs": [
    {
     "name": "stdout",
     "output_type": "stream",
     "text": [
      "Epoch 1/100\n"
     ]
    },
    {
     "name": "stderr",
     "output_type": "stream",
     "text": [
      "2024-07-15 23:38:36.987350: I tensorflow/core/common_runtime/executor.cc:1197] [/device:CPU:0] (DEBUG INFO) Executor start aborting (this does not indicate an error and you can ignore this message): INVALID_ARGUMENT: You must feed a value for placeholder tensor 'gradients/split_2_grad/concat/split_2/split_dim' with dtype int32\n",
      "\t [[{{node gradients/split_2_grad/concat/split_2/split_dim}}]]\n",
      "2024-07-15 23:38:36.989557: I tensorflow/core/common_runtime/executor.cc:1197] [/device:CPU:0] (DEBUG INFO) Executor start aborting (this does not indicate an error and you can ignore this message): INVALID_ARGUMENT: You must feed a value for placeholder tensor 'gradients/split_grad/concat/split/split_dim' with dtype int32\n",
      "\t [[{{node gradients/split_grad/concat/split/split_dim}}]]\n",
      "2024-07-15 23:38:36.990820: I tensorflow/core/common_runtime/executor.cc:1197] [/device:CPU:0] (DEBUG INFO) Executor start aborting (this does not indicate an error and you can ignore this message): INVALID_ARGUMENT: You must feed a value for placeholder tensor 'gradients/split_1_grad/concat/split_1/split_dim' with dtype int32\n",
      "\t [[{{node gradients/split_1_grad/concat/split_1/split_dim}}]]\n",
      "2024-07-15 23:38:37.181813: I tensorflow/core/common_runtime/executor.cc:1197] [/device:CPU:0] (DEBUG INFO) Executor start aborting (this does not indicate an error and you can ignore this message): INVALID_ARGUMENT: You must feed a value for placeholder tensor 'gradients/split_2_grad/concat/split_2/split_dim' with dtype int32\n",
      "\t [[{{node gradients/split_2_grad/concat/split_2/split_dim}}]]\n",
      "2024-07-15 23:38:37.183123: I tensorflow/core/common_runtime/executor.cc:1197] [/device:CPU:0] (DEBUG INFO) Executor start aborting (this does not indicate an error and you can ignore this message): INVALID_ARGUMENT: You must feed a value for placeholder tensor 'gradients/split_grad/concat/split/split_dim' with dtype int32\n",
      "\t [[{{node gradients/split_grad/concat/split/split_dim}}]]\n",
      "2024-07-15 23:38:37.184416: I tensorflow/core/common_runtime/executor.cc:1197] [/device:CPU:0] (DEBUG INFO) Executor start aborting (this does not indicate an error and you can ignore this message): INVALID_ARGUMENT: You must feed a value for placeholder tensor 'gradients/split_1_grad/concat/split_1/split_dim' with dtype int32\n",
      "\t [[{{node gradients/split_1_grad/concat/split_1/split_dim}}]]\n",
      "2024-07-15 23:38:37.380447: I tensorflow/core/common_runtime/executor.cc:1197] [/device:CPU:0] (DEBUG INFO) Executor start aborting (this does not indicate an error and you can ignore this message): INVALID_ARGUMENT: You must feed a value for placeholder tensor 'gradients/split_2_grad/concat/split_2/split_dim' with dtype int32\n",
      "\t [[{{node gradients/split_2_grad/concat/split_2/split_dim}}]]\n",
      "2024-07-15 23:38:37.382571: I tensorflow/core/common_runtime/executor.cc:1197] [/device:CPU:0] (DEBUG INFO) Executor start aborting (this does not indicate an error and you can ignore this message): INVALID_ARGUMENT: You must feed a value for placeholder tensor 'gradients/split_grad/concat/split/split_dim' with dtype int32\n",
      "\t [[{{node gradients/split_grad/concat/split/split_dim}}]]\n",
      "2024-07-15 23:38:37.383797: I tensorflow/core/common_runtime/executor.cc:1197] [/device:CPU:0] (DEBUG INFO) Executor start aborting (this does not indicate an error and you can ignore this message): INVALID_ARGUMENT: You must feed a value for placeholder tensor 'gradients/split_1_grad/concat/split_1/split_dim' with dtype int32\n",
      "\t [[{{node gradients/split_1_grad/concat/split_1/split_dim}}]]\n",
      "2024-07-15 23:38:37.574972: I tensorflow/core/common_runtime/executor.cc:1197] [/device:CPU:0] (DEBUG INFO) Executor start aborting (this does not indicate an error and you can ignore this message): INVALID_ARGUMENT: You must feed a value for placeholder tensor 'gradients/split_2_grad/concat/split_2/split_dim' with dtype int32\n",
      "\t [[{{node gradients/split_2_grad/concat/split_2/split_dim}}]]\n",
      "2024-07-15 23:38:37.576305: I tensorflow/core/common_runtime/executor.cc:1197] [/device:CPU:0] (DEBUG INFO) Executor start aborting (this does not indicate an error and you can ignore this message): INVALID_ARGUMENT: You must feed a value for placeholder tensor 'gradients/split_grad/concat/split/split_dim' with dtype int32\n",
      "\t [[{{node gradients/split_grad/concat/split/split_dim}}]]\n",
      "2024-07-15 23:38:37.577593: I tensorflow/core/common_runtime/executor.cc:1197] [/device:CPU:0] (DEBUG INFO) Executor start aborting (this does not indicate an error and you can ignore this message): INVALID_ARGUMENT: You must feed a value for placeholder tensor 'gradients/split_1_grad/concat/split_1/split_dim' with dtype int32\n",
      "\t [[{{node gradients/split_1_grad/concat/split_1/split_dim}}]]\n",
      "2024-07-15 23:38:39.257030: I tensorflow/core/common_runtime/executor.cc:1197] [/device:CPU:0] (DEBUG INFO) Executor start aborting (this does not indicate an error and you can ignore this message): INVALID_ARGUMENT: You must feed a value for placeholder tensor 'gradients/split_2_grad/concat/split_2/split_dim' with dtype int32\n",
      "\t [[{{node gradients/split_2_grad/concat/split_2/split_dim}}]]\n",
      "2024-07-15 23:38:39.259201: I tensorflow/core/common_runtime/executor.cc:1197] [/device:CPU:0] (DEBUG INFO) Executor start aborting (this does not indicate an error and you can ignore this message): INVALID_ARGUMENT: You must feed a value for placeholder tensor 'gradients/split_grad/concat/split/split_dim' with dtype int32\n",
      "\t [[{{node gradients/split_grad/concat/split/split_dim}}]]\n",
      "2024-07-15 23:38:39.260534: I tensorflow/core/common_runtime/executor.cc:1197] [/device:CPU:0] (DEBUG INFO) Executor start aborting (this does not indicate an error and you can ignore this message): INVALID_ARGUMENT: You must feed a value for placeholder tensor 'gradients/split_1_grad/concat/split_1/split_dim' with dtype int32\n",
      "\t [[{{node gradients/split_1_grad/concat/split_1/split_dim}}]]\n",
      "2024-07-15 23:38:39.464461: I tensorflow/core/common_runtime/executor.cc:1197] [/device:CPU:0] (DEBUG INFO) Executor start aborting (this does not indicate an error and you can ignore this message): INVALID_ARGUMENT: You must feed a value for placeholder tensor 'gradients/split_2_grad/concat/split_2/split_dim' with dtype int32\n",
      "\t [[{{node gradients/split_2_grad/concat/split_2/split_dim}}]]\n",
      "2024-07-15 23:38:39.466366: I tensorflow/core/common_runtime/executor.cc:1197] [/device:CPU:0] (DEBUG INFO) Executor start aborting (this does not indicate an error and you can ignore this message): INVALID_ARGUMENT: You must feed a value for placeholder tensor 'gradients/split_grad/concat/split/split_dim' with dtype int32\n",
      "\t [[{{node gradients/split_grad/concat/split/split_dim}}]]\n",
      "2024-07-15 23:38:39.467638: I tensorflow/core/common_runtime/executor.cc:1197] [/device:CPU:0] (DEBUG INFO) Executor start aborting (this does not indicate an error and you can ignore this message): INVALID_ARGUMENT: You must feed a value for placeholder tensor 'gradients/split_1_grad/concat/split_1/split_dim' with dtype int32\n",
      "\t [[{{node gradients/split_1_grad/concat/split_1/split_dim}}]]\n",
      "2024-07-15 23:38:39.674011: I tensorflow/core/common_runtime/executor.cc:1197] [/device:CPU:0] (DEBUG INFO) Executor start aborting (this does not indicate an error and you can ignore this message): INVALID_ARGUMENT: You must feed a value for placeholder tensor 'gradients/split_2_grad/concat/split_2/split_dim' with dtype int32\n",
      "\t [[{{node gradients/split_2_grad/concat/split_2/split_dim}}]]\n",
      "2024-07-15 23:38:39.675883: I tensorflow/core/common_runtime/executor.cc:1197] [/device:CPU:0] (DEBUG INFO) Executor start aborting (this does not indicate an error and you can ignore this message): INVALID_ARGUMENT: You must feed a value for placeholder tensor 'gradients/split_grad/concat/split/split_dim' with dtype int32\n",
      "\t [[{{node gradients/split_grad/concat/split/split_dim}}]]\n",
      "2024-07-15 23:38:39.677929: I tensorflow/core/common_runtime/executor.cc:1197] [/device:CPU:0] (DEBUG INFO) Executor start aborting (this does not indicate an error and you can ignore this message): INVALID_ARGUMENT: You must feed a value for placeholder tensor 'gradients/split_1_grad/concat/split_1/split_dim' with dtype int32\n",
      "\t [[{{node gradients/split_1_grad/concat/split_1/split_dim}}]]\n",
      "2024-07-15 23:38:39.875758: I tensorflow/core/common_runtime/executor.cc:1197] [/device:CPU:0] (DEBUG INFO) Executor start aborting (this does not indicate an error and you can ignore this message): INVALID_ARGUMENT: You must feed a value for placeholder tensor 'gradients/split_2_grad/concat/split_2/split_dim' with dtype int32\n",
      "\t [[{{node gradients/split_2_grad/concat/split_2/split_dim}}]]\n"
     ]
    },
    {
     "name": "stderr",
     "output_type": "stream",
     "text": [
      "2024-07-15 23:38:39.877961: I tensorflow/core/common_runtime/executor.cc:1197] [/device:CPU:0] (DEBUG INFO) Executor start aborting (this does not indicate an error and you can ignore this message): INVALID_ARGUMENT: You must feed a value for placeholder tensor 'gradients/split_grad/concat/split/split_dim' with dtype int32\n",
      "\t [[{{node gradients/split_grad/concat/split/split_dim}}]]\n",
      "2024-07-15 23:38:39.880282: I tensorflow/core/common_runtime/executor.cc:1197] [/device:CPU:0] (DEBUG INFO) Executor start aborting (this does not indicate an error and you can ignore this message): INVALID_ARGUMENT: You must feed a value for placeholder tensor 'gradients/split_1_grad/concat/split_1/split_dim' with dtype int32\n",
      "\t [[{{node gradients/split_1_grad/concat/split_1/split_dim}}]]\n"
     ]
    },
    {
     "name": "stdout",
     "output_type": "stream",
     "text": [
      "25/25 [==============================] - ETA: 0s - loss: 0.3786"
     ]
    },
    {
     "name": "stderr",
     "output_type": "stream",
     "text": [
      "2024-07-15 23:38:45.166741: I tensorflow/core/common_runtime/executor.cc:1197] [/device:CPU:0] (DEBUG INFO) Executor start aborting (this does not indicate an error and you can ignore this message): INVALID_ARGUMENT: You must feed a value for placeholder tensor 'gradients/split_2_grad/concat/split_2/split_dim' with dtype int32\n",
      "\t [[{{node gradients/split_2_grad/concat/split_2/split_dim}}]]\n",
      "2024-07-15 23:38:45.168710: I tensorflow/core/common_runtime/executor.cc:1197] [/device:CPU:0] (DEBUG INFO) Executor start aborting (this does not indicate an error and you can ignore this message): INVALID_ARGUMENT: You must feed a value for placeholder tensor 'gradients/split_grad/concat/split/split_dim' with dtype int32\n",
      "\t [[{{node gradients/split_grad/concat/split/split_dim}}]]\n",
      "2024-07-15 23:38:45.170430: I tensorflow/core/common_runtime/executor.cc:1197] [/device:CPU:0] (DEBUG INFO) Executor start aborting (this does not indicate an error and you can ignore this message): INVALID_ARGUMENT: You must feed a value for placeholder tensor 'gradients/split_1_grad/concat/split_1/split_dim' with dtype int32\n",
      "\t [[{{node gradients/split_1_grad/concat/split_1/split_dim}}]]\n",
      "2024-07-15 23:38:45.356683: I tensorflow/core/common_runtime/executor.cc:1197] [/device:CPU:0] (DEBUG INFO) Executor start aborting (this does not indicate an error and you can ignore this message): INVALID_ARGUMENT: You must feed a value for placeholder tensor 'gradients/split_2_grad/concat/split_2/split_dim' with dtype int32\n",
      "\t [[{{node gradients/split_2_grad/concat/split_2/split_dim}}]]\n",
      "2024-07-15 23:38:45.358068: I tensorflow/core/common_runtime/executor.cc:1197] [/device:CPU:0] (DEBUG INFO) Executor start aborting (this does not indicate an error and you can ignore this message): INVALID_ARGUMENT: You must feed a value for placeholder tensor 'gradients/split_grad/concat/split/split_dim' with dtype int32\n",
      "\t [[{{node gradients/split_grad/concat/split/split_dim}}]]\n",
      "2024-07-15 23:38:45.359662: I tensorflow/core/common_runtime/executor.cc:1197] [/device:CPU:0] (DEBUG INFO) Executor start aborting (this does not indicate an error and you can ignore this message): INVALID_ARGUMENT: You must feed a value for placeholder tensor 'gradients/split_1_grad/concat/split_1/split_dim' with dtype int32\n",
      "\t [[{{node gradients/split_1_grad/concat/split_1/split_dim}}]]\n",
      "2024-07-15 23:38:45.571384: I tensorflow/core/common_runtime/executor.cc:1197] [/device:CPU:0] (DEBUG INFO) Executor start aborting (this does not indicate an error and you can ignore this message): INVALID_ARGUMENT: You must feed a value for placeholder tensor 'gradients/split_2_grad/concat/split_2/split_dim' with dtype int32\n",
      "\t [[{{node gradients/split_2_grad/concat/split_2/split_dim}}]]\n",
      "2024-07-15 23:38:45.573339: I tensorflow/core/common_runtime/executor.cc:1197] [/device:CPU:0] (DEBUG INFO) Executor start aborting (this does not indicate an error and you can ignore this message): INVALID_ARGUMENT: You must feed a value for placeholder tensor 'gradients/split_grad/concat/split/split_dim' with dtype int32\n",
      "\t [[{{node gradients/split_grad/concat/split/split_dim}}]]\n",
      "2024-07-15 23:38:45.575166: I tensorflow/core/common_runtime/executor.cc:1197] [/device:CPU:0] (DEBUG INFO) Executor start aborting (this does not indicate an error and you can ignore this message): INVALID_ARGUMENT: You must feed a value for placeholder tensor 'gradients/split_1_grad/concat/split_1/split_dim' with dtype int32\n",
      "\t [[{{node gradients/split_1_grad/concat/split_1/split_dim}}]]\n",
      "2024-07-15 23:38:45.759448: I tensorflow/core/common_runtime/executor.cc:1197] [/device:CPU:0] (DEBUG INFO) Executor start aborting (this does not indicate an error and you can ignore this message): INVALID_ARGUMENT: You must feed a value for placeholder tensor 'gradients/split_2_grad/concat/split_2/split_dim' with dtype int32\n",
      "\t [[{{node gradients/split_2_grad/concat/split_2/split_dim}}]]\n",
      "2024-07-15 23:38:45.760823: I tensorflow/core/common_runtime/executor.cc:1197] [/device:CPU:0] (DEBUG INFO) Executor start aborting (this does not indicate an error and you can ignore this message): INVALID_ARGUMENT: You must feed a value for placeholder tensor 'gradients/split_grad/concat/split/split_dim' with dtype int32\n",
      "\t [[{{node gradients/split_grad/concat/split/split_dim}}]]\n",
      "2024-07-15 23:38:45.762073: I tensorflow/core/common_runtime/executor.cc:1197] [/device:CPU:0] (DEBUG INFO) Executor start aborting (this does not indicate an error and you can ignore this message): INVALID_ARGUMENT: You must feed a value for placeholder tensor 'gradients/split_1_grad/concat/split_1/split_dim' with dtype int32\n",
      "\t [[{{node gradients/split_1_grad/concat/split_1/split_dim}}]]\n"
     ]
    },
    {
     "name": "stdout",
     "output_type": "stream",
     "text": [
      "25/25 [==============================] - 10s 124ms/step - loss: 0.3786 - val_loss: 0.3659\n",
      "Epoch 2/100\n",
      "25/25 [==============================] - 2s 68ms/step - loss: 0.2806 - val_loss: 0.3529\n",
      "Epoch 3/100\n",
      "25/25 [==============================] - 2s 70ms/step - loss: 0.2492 - val_loss: 0.3191\n",
      "Epoch 4/100\n",
      "25/25 [==============================] - 2s 67ms/step - loss: 0.2263 - val_loss: 0.2976\n",
      "Epoch 5/100\n",
      "25/25 [==============================] - 2s 73ms/step - loss: 0.2038 - val_loss: 0.2707\n",
      "Epoch 6/100\n",
      "25/25 [==============================] - 2s 67ms/step - loss: 0.1846 - val_loss: 0.2481\n",
      "Epoch 7/100\n",
      "25/25 [==============================] - 2s 68ms/step - loss: 0.1653 - val_loss: 0.2320\n",
      "Epoch 8/100\n",
      "25/25 [==============================] - 2s 69ms/step - loss: 0.1495 - val_loss: 0.2037\n",
      "Epoch 9/100\n",
      "25/25 [==============================] - 2s 69ms/step - loss: 0.1344 - val_loss: 0.1844\n",
      "Epoch 10/100\n",
      "25/25 [==============================] - 2s 68ms/step - loss: 0.1198 - val_loss: 0.1760\n",
      "Epoch 11/100\n",
      "25/25 [==============================] - 2s 69ms/step - loss: 0.1095 - val_loss: 0.1545\n",
      "Epoch 12/100\n",
      "25/25 [==============================] - 2s 70ms/step - loss: 0.0967 - val_loss: 0.1412\n",
      "Epoch 13/100\n",
      "25/25 [==============================] - 2s 69ms/step - loss: 0.0891 - val_loss: 0.1306\n",
      "Epoch 14/100\n",
      "25/25 [==============================] - 2s 69ms/step - loss: 0.0780 - val_loss: 0.1217\n",
      "Epoch 15/100\n",
      "25/25 [==============================] - 2s 70ms/step - loss: 0.0695 - val_loss: 0.1000\n",
      "Epoch 16/100\n",
      "25/25 [==============================] - 2s 70ms/step - loss: 0.0617 - val_loss: 0.0972\n",
      "Epoch 17/100\n",
      "25/25 [==============================] - 2s 77ms/step - loss: 0.0565 - val_loss: 0.0916\n",
      "Epoch 18/100\n",
      "25/25 [==============================] - 2s 68ms/step - loss: 0.0489 - val_loss: 0.0624\n",
      "Epoch 19/100\n",
      "25/25 [==============================] - 2s 68ms/step - loss: 0.0430 - val_loss: 0.0678\n",
      "Epoch 20/100\n",
      "25/25 [==============================] - 2s 67ms/step - loss: 0.0407 - val_loss: 0.0451\n",
      "Epoch 21/100\n",
      "25/25 [==============================] - 2s 72ms/step - loss: 0.0344 - val_loss: 0.0180\n",
      "Epoch 22/100\n",
      "25/25 [==============================] - 2s 71ms/step - loss: 0.0335 - val_loss: 0.0484\n",
      "Epoch 23/100\n",
      "25/25 [==============================] - 2s 75ms/step - loss: 0.0304 - val_loss: 0.0353\n",
      "Epoch 24/100\n",
      "25/25 [==============================] - 2s 71ms/step - loss: 0.0262 - val_loss: 0.0312\n",
      "Epoch 25/100\n",
      "25/25 [==============================] - 2s 74ms/step - loss: 0.0256 - val_loss: 0.0369\n",
      "Epoch 26/100\n",
      "25/25 [==============================] - 2s 70ms/step - loss: 0.0221 - val_loss: 0.0282\n",
      "Epoch 27/100\n",
      "25/25 [==============================] - 2s 70ms/step - loss: 0.0229 - val_loss: 0.0063\n",
      "Epoch 28/100\n",
      "25/25 [==============================] - 2s 69ms/step - loss: 0.0207 - val_loss: 0.0191\n",
      "Epoch 29/100\n",
      "25/25 [==============================] - 2s 71ms/step - loss: 0.0168 - val_loss: 0.0135\n",
      "Epoch 30/100\n",
      "25/25 [==============================] - 2s 70ms/step - loss: 0.0153 - val_loss: 0.0103\n",
      "Epoch 31/100\n",
      "25/25 [==============================] - 2s 72ms/step - loss: 0.0156 - val_loss: 0.0136\n",
      "Epoch 32/100\n",
      "25/25 [==============================] - 2s 70ms/step - loss: 0.0145 - val_loss: 0.0059\n",
      "Epoch 33/100\n",
      "25/25 [==============================] - 2s 71ms/step - loss: 0.0152 - val_loss: 0.0020\n",
      "Epoch 34/100\n",
      "25/25 [==============================] - 2s 79ms/step - loss: 0.0151 - val_loss: 0.0032\n",
      "Epoch 35/100\n",
      "25/25 [==============================] - 2s 69ms/step - loss: 0.0122 - val_loss: 0.0020\n",
      "Epoch 36/100\n",
      "25/25 [==============================] - 2s 71ms/step - loss: 0.0121 - val_loss: 0.0037\n",
      "Epoch 37/100\n",
      "25/25 [==============================] - 2s 73ms/step - loss: 0.0103 - val_loss: 0.0024\n",
      "Epoch 38/100\n",
      "25/25 [==============================] - 2s 73ms/step - loss: 0.0119 - val_loss: 0.0091\n",
      "Epoch 39/100\n",
      "25/25 [==============================] - 2s 72ms/step - loss: 0.0110 - val_loss: 0.0085\n",
      "Epoch 40/100\n",
      "25/25 [==============================] - 2s 76ms/step - loss: 0.0131 - val_loss: 0.0068\n",
      "Epoch 41/100\n",
      "25/25 [==============================] - 2s 71ms/step - loss: 0.0106 - val_loss: 0.0017\n",
      "Epoch 42/100\n",
      "25/25 [==============================] - 2s 69ms/step - loss: 0.0129 - val_loss: 0.0022\n",
      "Epoch 43/100\n",
      "25/25 [==============================] - 2s 68ms/step - loss: 0.0107 - val_loss: 0.0026\n",
      "Epoch 44/100\n",
      "25/25 [==============================] - 2s 70ms/step - loss: 0.0106 - val_loss: 0.0019\n",
      "Epoch 45/100\n",
      "25/25 [==============================] - 2s 69ms/step - loss: 0.0094 - val_loss: 0.0046\n",
      "Epoch 46/100\n",
      "25/25 [==============================] - 2s 71ms/step - loss: 0.0116 - val_loss: 0.0015\n",
      "Epoch 47/100\n",
      "25/25 [==============================] - 2s 74ms/step - loss: 0.0090 - val_loss: 0.0020\n",
      "Epoch 48/100\n",
      "25/25 [==============================] - 2s 70ms/step - loss: 0.0123 - val_loss: 0.0103\n",
      "Epoch 49/100\n",
      "25/25 [==============================] - 2s 70ms/step - loss: 0.0102 - val_loss: 0.0195\n",
      "Epoch 50/100\n",
      "25/25 [==============================] - 2s 72ms/step - loss: 0.0149 - val_loss: 0.0063\n",
      "Epoch 51/100\n",
      "25/25 [==============================] - 2s 84ms/step - loss: 0.0118 - val_loss: 0.0040\n",
      "Epoch 52/100\n",
      "25/25 [==============================] - 2s 70ms/step - loss: 0.0116 - val_loss: 0.0045\n",
      "Epoch 53/100\n",
      "25/25 [==============================] - 2s 67ms/step - loss: 0.0094 - val_loss: 0.0020\n",
      "Epoch 54/100\n",
      "25/25 [==============================] - 2s 68ms/step - loss: 0.0114 - val_loss: 0.0063\n",
      "Epoch 55/100\n",
      "25/25 [==============================] - 2s 69ms/step - loss: 0.0110 - val_loss: 0.0034\n",
      "Epoch 56/100\n",
      "25/25 [==============================] - 2s 71ms/step - loss: 0.0119 - val_loss: 0.0025\n"
     ]
    }
   ],
   "source": [
    "from keras.callbacks import EarlyStopping\n",
    "\n",
    "early_stopping = EarlyStopping(monitor='val_loss', patience=10)\n",
    "history = model.fit(X_train, y_train, epochs=100, batch_size=25, validation_split=0.2, callbacks=[early_stopping])"
   ]
  },
  {
   "cell_type": "code",
   "execution_count": 41,
   "id": "d9710f53",
   "metadata": {},
   "outputs": [
    {
     "name": "stdout",
     "output_type": "stream",
     "text": [
      "Epoch 1/50\n",
      "25/25 [==============================] - 2s 79ms/step - loss: 0.0117 - val_loss: 0.0194 - lr: 0.0010\n",
      "Epoch 2/50\n",
      "25/25 [==============================] - 2s 70ms/step - loss: 0.0133 - val_loss: 0.0316 - lr: 0.0010\n",
      "Epoch 3/50\n",
      "25/25 [==============================] - 2s 71ms/step - loss: 0.0114 - val_loss: 0.0019 - lr: 0.0010\n",
      "Epoch 4/50\n",
      "25/25 [==============================] - 2s 69ms/step - loss: 0.0110 - val_loss: 0.0025 - lr: 0.0010\n",
      "Epoch 5/50\n",
      "25/25 [==============================] - 2s 70ms/step - loss: 0.0129 - val_loss: 0.0375 - lr: 0.0010\n",
      "Epoch 6/50\n",
      "25/25 [==============================] - 2s 70ms/step - loss: 0.0105 - val_loss: 0.0014 - lr: 0.0010\n",
      "Epoch 7/50\n",
      "25/25 [==============================] - 2s 76ms/step - loss: 0.0103 - val_loss: 0.0014 - lr: 0.0010\n",
      "Epoch 8/50\n",
      "25/25 [==============================] - 2s 68ms/step - loss: 0.0089 - val_loss: 0.0043 - lr: 0.0010\n",
      "Epoch 9/50\n",
      "25/25 [==============================] - 2s 69ms/step - loss: 0.0116 - val_loss: 0.0066 - lr: 0.0010\n",
      "Epoch 10/50\n",
      "25/25 [==============================] - 2s 69ms/step - loss: 0.0121 - val_loss: 0.0034 - lr: 0.0010\n",
      "Epoch 11/50\n",
      "25/25 [==============================] - 2s 69ms/step - loss: 0.0117 - val_loss: 0.0030 - lr: 0.0010\n",
      "Epoch 12/50\n",
      "25/25 [==============================] - 2s 69ms/step - loss: 0.0079 - val_loss: 0.0021 - lr: 1.0000e-04\n",
      "Epoch 13/50\n",
      "25/25 [==============================] - 2s 77ms/step - loss: 0.0102 - val_loss: 0.0014 - lr: 1.0000e-04\n",
      "Epoch 14/50\n",
      "25/25 [==============================] - 2s 71ms/step - loss: 0.0100 - val_loss: 0.0013 - lr: 1.0000e-04\n",
      "Epoch 15/50\n",
      "25/25 [==============================] - 2s 68ms/step - loss: 0.0118 - val_loss: 0.0018 - lr: 1.0000e-04\n",
      "Epoch 16/50\n",
      "25/25 [==============================] - 2s 69ms/step - loss: 0.0095 - val_loss: 0.0014 - lr: 1.0000e-04\n",
      "Epoch 17/50\n",
      "25/25 [==============================] - 2s 70ms/step - loss: 0.0094 - val_loss: 0.0013 - lr: 1.0000e-04\n",
      "Epoch 18/50\n",
      "25/25 [==============================] - 2s 70ms/step - loss: 0.0097 - val_loss: 0.0022 - lr: 1.0000e-04\n",
      "Epoch 19/50\n",
      "25/25 [==============================] - 2s 71ms/step - loss: 0.0090 - val_loss: 0.0029 - lr: 1.0000e-04\n",
      "Epoch 20/50\n",
      "25/25 [==============================] - 2s 69ms/step - loss: 0.0120 - val_loss: 0.0021 - lr: 1.0000e-05\n",
      "Epoch 21/50\n",
      "25/25 [==============================] - 2s 69ms/step - loss: 0.0101 - val_loss: 0.0017 - lr: 1.0000e-05\n",
      "Epoch 22/50\n",
      "25/25 [==============================] - 2s 68ms/step - loss: 0.0108 - val_loss: 0.0016 - lr: 1.0000e-05\n",
      "Epoch 23/50\n",
      "25/25 [==============================] - 2s 69ms/step - loss: 0.0096 - val_loss: 0.0015 - lr: 1.0000e-05\n",
      "Epoch 24/50\n",
      "25/25 [==============================] - 2s 70ms/step - loss: 0.0113 - val_loss: 0.0015 - lr: 1.0000e-05\n",
      "Epoch 25/50\n",
      "25/25 [==============================] - 2s 74ms/step - loss: 0.0104 - val_loss: 0.0015 - lr: 1.0000e-06\n",
      "Epoch 26/50\n",
      "25/25 [==============================] - 2s 68ms/step - loss: 0.0108 - val_loss: 0.0015 - lr: 1.0000e-06\n",
      "Epoch 27/50\n",
      "25/25 [==============================] - 2s 69ms/step - loss: 0.0101 - val_loss: 0.0015 - lr: 1.0000e-06\n"
     ]
    }
   ],
   "source": [
    "#Optional: These are more callbacks\n",
    "from keras.callbacks import ModelCheckpoint, ReduceLROnPlateau, TensorBoard, CSVLogger\n",
    "\n",
    "# Callback to save the model periodically\n",
    "model_checkpoint = ModelCheckpoint('best_model.h5', save_best_only=True, monitor='val_loss')\n",
    "\n",
    "# Callback to reduce learning rate when a metric has stopped improving\n",
    "reduce_lr = ReduceLROnPlateau(monitor='val_loss', factor=0.1, patience=5)\n",
    "\n",
    "# Callback for TensorBoard\n",
    "tensorboard = TensorBoard(log_dir='./logs')\n",
    "\n",
    "# Callback to log details to a CSV file\n",
    "csv_logger = CSVLogger('training_log.csv')\n",
    "\n",
    "# Combining all callbacks\n",
    "callbacks_list = [early_stopping, model_checkpoint, reduce_lr, tensorboard, csv_logger]\n",
    "\n",
    "# Fit the model with the callbacks\n",
    "history = model.fit(X_train, y_train, epochs=50, batch_size=25, validation_split=0.2, callbacks=callbacks_list)\n"
   ]
  },
  {
   "cell_type": "markdown",
   "id": "11f40dda",
   "metadata": {},
   "source": [
    "**Evaluating Model Performance**\n",
    "\n",
    "To evaluate the model, we first need to prepare our test data (X_test) in the same way we did for the training data"
   ]
  },
  {
   "cell_type": "code",
   "execution_count": 42,
   "id": "a10ac467",
   "metadata": {},
   "outputs": [
    {
     "name": "stdout",
     "output_type": "stream",
     "text": [
      "6/6 [==============================] - 0s 20ms/step - loss: 0.0078\n",
      "Test Loss:  0.007813929580152035\n"
     ]
    }
   ],
   "source": [
    "# Convert X_test and y_test to Numpy arrays if they are not already\n",
    "X_test = np.array(X_test)\n",
    "y_test = np.array(y_test)\n",
    "\n",
    "# Ensure X_test is reshaped similarly to how X_train was reshaped\n",
    "# This depends on how you preprocessed the training data\n",
    "X_test = np.reshape(X_test, (X_test.shape[0], X_test.shape[1], 1))\n",
    "\n",
    "# Now evaluate the model on the test data\n",
    "test_loss = model.evaluate(X_test, y_test)\n",
    "print(\"Test Loss: \", test_loss)"
   ]
  },
  {
   "cell_type": "markdown",
   "id": "807a5d4e",
   "metadata": {},
   "source": [
    "Performance Metrics\n",
    "\n",
    "In addition to the loss, other metrics can provide more insights into the model’s performance. For regression tasks like ours, common metrics include:\n",
    "\n",
    "\n",
    "Mean Absolute Error (MAE): This measures the average magnitude of the errors in a set of predictions, without considering their direction.\n",
    "\n",
    "Root Mean Square Error (RMSE): This is the square root of the average of squared differences between prediction and actual observation.\n"
   ]
  },
  {
   "cell_type": "code",
   "execution_count": 43,
   "id": "83f5568a",
   "metadata": {},
   "outputs": [
    {
     "name": "stderr",
     "output_type": "stream",
     "text": [
      "2024-07-15 23:47:42.430723: I tensorflow/core/common_runtime/executor.cc:1197] [/device:CPU:0] (DEBUG INFO) Executor start aborting (this does not indicate an error and you can ignore this message): INVALID_ARGUMENT: You must feed a value for placeholder tensor 'gradients/split_2_grad/concat/split_2/split_dim' with dtype int32\n",
      "\t [[{{node gradients/split_2_grad/concat/split_2/split_dim}}]]\n",
      "2024-07-15 23:47:42.432588: I tensorflow/core/common_runtime/executor.cc:1197] [/device:CPU:0] (DEBUG INFO) Executor start aborting (this does not indicate an error and you can ignore this message): INVALID_ARGUMENT: You must feed a value for placeholder tensor 'gradients/split_grad/concat/split/split_dim' with dtype int32\n",
      "\t [[{{node gradients/split_grad/concat/split/split_dim}}]]\n",
      "2024-07-15 23:47:42.434439: I tensorflow/core/common_runtime/executor.cc:1197] [/device:CPU:0] (DEBUG INFO) Executor start aborting (this does not indicate an error and you can ignore this message): INVALID_ARGUMENT: You must feed a value for placeholder tensor 'gradients/split_1_grad/concat/split_1/split_dim' with dtype int32\n",
      "\t [[{{node gradients/split_1_grad/concat/split_1/split_dim}}]]\n",
      "2024-07-15 23:47:42.618155: I tensorflow/core/common_runtime/executor.cc:1197] [/device:CPU:0] (DEBUG INFO) Executor start aborting (this does not indicate an error and you can ignore this message): INVALID_ARGUMENT: You must feed a value for placeholder tensor 'gradients/split_2_grad/concat/split_2/split_dim' with dtype int32\n",
      "\t [[{{node gradients/split_2_grad/concat/split_2/split_dim}}]]\n",
      "2024-07-15 23:47:42.619504: I tensorflow/core/common_runtime/executor.cc:1197] [/device:CPU:0] (DEBUG INFO) Executor start aborting (this does not indicate an error and you can ignore this message): INVALID_ARGUMENT: You must feed a value for placeholder tensor 'gradients/split_grad/concat/split/split_dim' with dtype int32\n",
      "\t [[{{node gradients/split_grad/concat/split/split_dim}}]]\n",
      "2024-07-15 23:47:42.620874: I tensorflow/core/common_runtime/executor.cc:1197] [/device:CPU:0] (DEBUG INFO) Executor start aborting (this does not indicate an error and you can ignore this message): INVALID_ARGUMENT: You must feed a value for placeholder tensor 'gradients/split_1_grad/concat/split_1/split_dim' with dtype int32\n",
      "\t [[{{node gradients/split_1_grad/concat/split_1/split_dim}}]]\n",
      "2024-07-15 23:47:42.828254: I tensorflow/core/common_runtime/executor.cc:1197] [/device:CPU:0] (DEBUG INFO) Executor start aborting (this does not indicate an error and you can ignore this message): INVALID_ARGUMENT: You must feed a value for placeholder tensor 'gradients/split_2_grad/concat/split_2/split_dim' with dtype int32\n",
      "\t [[{{node gradients/split_2_grad/concat/split_2/split_dim}}]]\n",
      "2024-07-15 23:47:42.829652: I tensorflow/core/common_runtime/executor.cc:1197] [/device:CPU:0] (DEBUG INFO) Executor start aborting (this does not indicate an error and you can ignore this message): INVALID_ARGUMENT: You must feed a value for placeholder tensor 'gradients/split_grad/concat/split/split_dim' with dtype int32\n",
      "\t [[{{node gradients/split_grad/concat/split/split_dim}}]]\n",
      "2024-07-15 23:47:42.831119: I tensorflow/core/common_runtime/executor.cc:1197] [/device:CPU:0] (DEBUG INFO) Executor start aborting (this does not indicate an error and you can ignore this message): INVALID_ARGUMENT: You must feed a value for placeholder tensor 'gradients/split_1_grad/concat/split_1/split_dim' with dtype int32\n",
      "\t [[{{node gradients/split_1_grad/concat/split_1/split_dim}}]]\n",
      "2024-07-15 23:47:43.027939: I tensorflow/core/common_runtime/executor.cc:1197] [/device:CPU:0] (DEBUG INFO) Executor start aborting (this does not indicate an error and you can ignore this message): INVALID_ARGUMENT: You must feed a value for placeholder tensor 'gradients/split_2_grad/concat/split_2/split_dim' with dtype int32\n",
      "\t [[{{node gradients/split_2_grad/concat/split_2/split_dim}}]]\n",
      "2024-07-15 23:47:43.029229: I tensorflow/core/common_runtime/executor.cc:1197] [/device:CPU:0] (DEBUG INFO) Executor start aborting (this does not indicate an error and you can ignore this message): INVALID_ARGUMENT: You must feed a value for placeholder tensor 'gradients/split_grad/concat/split/split_dim' with dtype int32\n",
      "\t [[{{node gradients/split_grad/concat/split/split_dim}}]]\n",
      "2024-07-15 23:47:43.030891: I tensorflow/core/common_runtime/executor.cc:1197] [/device:CPU:0] (DEBUG INFO) Executor start aborting (this does not indicate an error and you can ignore this message): INVALID_ARGUMENT: You must feed a value for placeholder tensor 'gradients/split_1_grad/concat/split_1/split_dim' with dtype int32\n",
      "\t [[{{node gradients/split_1_grad/concat/split_1/split_dim}}]]\n"
     ]
    },
    {
     "name": "stdout",
     "output_type": "stream",
     "text": [
      "6/6 [==============================] - 1s 21ms/step\n",
      "Mean Absolute Error:  0.08238669511030484\n",
      "Root Mean Square Error:  0.0883964353166532\n",
      "R2 Score:  -0.6604736544052021\n"
     ]
    }
   ],
   "source": [
    "from sklearn.metrics import mean_absolute_error, mean_squared_error,r2_score\n",
    "\n",
    "# Making predictions\n",
    "y_pred = model.predict(X_test)\n",
    "\n",
    "# Calculating MAE and RMSE\n",
    "mae = mean_absolute_error(y_test, y_pred)\n",
    "rmse = mean_squared_error(y_test, y_pred, squared=False)\n",
    "r2score = r2_score(y_test, y_pred)\n",
    "\n",
    "print(\"Mean Absolute Error: \", mae)\n",
    "print(\"Root Mean Square Error: \", rmse)\n",
    "print(\"R2 Score: \", r2score)"
   ]
  },
  {
   "cell_type": "markdown",
   "id": "bf71c358",
   "metadata": {},
   "source": [
    "**Predicting the Next 4 Candles**\n"
   ]
  },
  {
   "cell_type": "code",
   "execution_count": 44,
   "id": "7bda9607",
   "metadata": {},
   "outputs": [
    {
     "name": "stderr",
     "output_type": "stream",
     "text": [
      "\r",
      "[*********************100%%**********************]  1 of 1 completed"
     ]
    },
    {
     "name": "stdout",
     "output_type": "stream",
     "text": [
      "1/1 [==============================] - 0s 27ms/step\n",
      "Predicted Stock Prices for the next 4 days:  [[222.86223]]\n"
     ]
    },
    {
     "name": "stderr",
     "output_type": "stream",
     "text": [
      "\n"
     ]
    }
   ],
   "source": [
    "import yfinance as yf\n",
    "import numpy as np\n",
    "from sklearn.preprocessing import MinMaxScaler\n",
    "\n",
    "# Fetching the latest 60 days of AAPL stock data\n",
    "data = yf.download('AAPL', period='3mo', interval='1d')\n",
    "\n",
    "# Selecting the 'Close' price and converting to numpy array\n",
    "closing_prices = data['Close'].values\n",
    "# Scaling the data\n",
    "scaler = MinMaxScaler(feature_range=(0,1))\n",
    "scaled_data = scaler.fit_transform(closing_prices.reshape(-1,1))\n",
    "# Since we need the last 60 days to predict the next day, we reshape the data accordingly\n",
    "X_latest = np.array([scaled_data[-60:].reshape(60)])\n",
    "\n",
    "# Reshaping the data for the model (adding batch dimension)\n",
    "X_latest = np.reshape(X_latest, (X_latest.shape[0], X_latest.shape[1], 1))\n",
    "\n",
    "# Making predictions for the next 4 candles\n",
    "predicted_stock_price = model.predict(X_latest)\n",
    "predicted_stock_price = scaler.inverse_transform(predicted_stock_price)\n",
    "\n",
    "print(\"Predicted Stock Prices for the next 4 days: \", predicted_stock_price)\n"
   ]
  },
  {
   "cell_type": "markdown",
   "id": "ac636e5b",
   "metadata": {},
   "source": [
    "Let’s predict the price for the next 4 days:\n",
    "\n"
   ]
  },
  {
   "cell_type": "code",
   "execution_count": 45,
   "id": "46be3285",
   "metadata": {},
   "outputs": [
    {
     "name": "stderr",
     "output_type": "stream",
     "text": [
      "\r",
      "[*********************100%%**********************]  1 of 1 completed"
     ]
    },
    {
     "name": "stdout",
     "output_type": "stream",
     "text": [
      "1/1 [==============================] - 0s 27ms/step\n",
      "1/1 [==============================] - 0s 25ms/step\n",
      "1/1 [==============================] - 0s 26ms/step\n"
     ]
    },
    {
     "name": "stderr",
     "output_type": "stream",
     "text": [
      "\n"
     ]
    },
    {
     "name": "stdout",
     "output_type": "stream",
     "text": [
      "1/1 [==============================] - 0s 27ms/step\n",
      "Predicted Stock Prices for the next 4 days:  [222.86223, 223.87488, 223.97887, 223.37521]\n"
     ]
    }
   ],
   "source": [
    "import yfinance as yf\n",
    "import numpy as np\n",
    "from sklearn.preprocessing import MinMaxScaler\n",
    "\n",
    "# Fetch the latest 60 days of AAPL stock data\n",
    "data = yf.download('AAPL', period='3mo', interval='1d')\n",
    "\n",
    "# Select 'Close' price and scale it\n",
    "closing_prices = data['Close'].values.reshape(-1, 1)\n",
    "scaler = MinMaxScaler(feature_range=(0, 1))\n",
    "scaled_data = scaler.fit_transform(closing_prices)\n",
    "\n",
    "# Predict the next 4 days iteratively\n",
    "predicted_prices = []\n",
    "current_batch = scaled_data[-60:].reshape(1, 60, 1)  # Most recent 60 days\n",
    "\n",
    "for i in range(4):  # Predicting 4 days\n",
    "    # Get the prediction (next day)\n",
    "    next_prediction = model.predict(current_batch)\n",
    "    \n",
    "    # Reshape the prediction to fit the batch dimension\n",
    "    next_prediction_reshaped = next_prediction.reshape(1, 1, 1)\n",
    "    \n",
    "    # Append the prediction to the batch used for predicting\n",
    "    current_batch = np.append(current_batch[:, 1:, :], next_prediction_reshaped, axis=1)\n",
    "    \n",
    "    # Inverse transform the prediction to the original price scale\n",
    "    predicted_prices.append(scaler.inverse_transform(next_prediction)[0, 0])\n",
    "\n",
    "print(\"Predicted Stock Prices for the next 4 days: \", predicted_prices)"
   ]
  },
  {
   "cell_type": "markdown",
   "id": "a25ead94",
   "metadata": {},
   "source": [
    "**Visualization of Predictions**\n",
    "\n",
    "pip install mplfinance \n",
    "\n",
    "\n",
    "Comparing the predicted values with actual stock prices visually can be very insightful. Below is the code to plot the predicted stock prices against the actual data:"
   ]
  },
  {
   "cell_type": "code",
   "execution_count": 46,
   "id": "551c5366",
   "metadata": {},
   "outputs": [
    {
     "data": {
      "image/png": "[encoded data removed]",
      "text/plain": [
       "<Figure size 800x575 with 4 Axes>"
      ]
     },
     "metadata": {},
     "output_type": "display_data"
    },
    {
     "data": {
      "image/png": "[encoded data removed]",
      "text/plain": [
       "<Figure size 1000x600 with 1 Axes>"
      ]
     },
     "metadata": {},
     "output_type": "display_data"
    }
   ],
   "source": [
    "import pandas as pd\n",
    "import mplfinance as mpf\n",
    "import matplotlib.dates as mpl_dates\n",
    "import matplotlib.pyplot as plt\n",
    "\n",
    "# Assuming 'data' is your DataFrame with the fetched AAPL stock data\n",
    "# Make sure it contains Open, High, Low, Close, and Volume columns\n",
    "\n",
    "# Creating a list of dates for the predictions\n",
    "last_date = data.index[-1]\n",
    "next_day = last_date + pd.Timedelta(days=1)\n",
    "prediction_dates = pd.date_range(start=next_day, periods=4)\n",
    "\n",
    "# Assuming 'predicted_prices' is your list of predicted prices for the next 4 days\n",
    "predictions_df = pd.DataFrame(index=prediction_dates, data=predicted_prices, columns=['Close'])\n",
    "\n",
    "# Plotting the actual data with mplfinance\n",
    "mpf.plot(data, type='candle', style='charles', volume=True)\n",
    "\n",
    "# Overlaying the predicted data\n",
    "plt.figure(figsize=(10,6))\n",
    "plt.plot(predictions_df.index, predictions_df['Close'], linestyle='dashed', marker='o', color='red')\n",
    "\n",
    "plt.title(\"AAPL Stock Price with Predicted Next 4 Days\")\n",
    "plt.show()"
   ]
  },
  {
   "cell_type": "markdown",
   "id": "ef9cb208",
   "metadata": {},
   "source": [
    "**Final Visual for Predictions**\n"
   ]
  },
  {
   "cell_type": "code",
   "execution_count": 47,
   "id": "c0d1fd55",
   "metadata": {},
   "outputs": [
    {
     "name": "stderr",
     "output_type": "stream",
     "text": [
      "\r",
      "[*********************100%%**********************]  1 of 1 completed"
     ]
    },
    {
     "name": "stdout",
     "output_type": "stream",
     "text": [
      "1/1 [==============================] - 0s 26ms/step\n",
      "1/1 [==============================] - 0s 27ms/step\n",
      "1/1 [==============================] - 0s 27ms/step\n"
     ]
    },
    {
     "name": "stderr",
     "output_type": "stream",
     "text": [
      "\n"
     ]
    },
    {
     "name": "stdout",
     "output_type": "stream",
     "text": [
      "1/1 [==============================] - 0s 28ms/step\n"
     ]
    },
    {
     "data": {
      "image/png": "[encoded data removed]",
      "text/plain": [
       "<Figure size 1000x600 with 1 Axes>"
      ]
     },
     "metadata": {},
     "output_type": "display_data"
    }
   ],
   "source": [
    "import pandas as pd\n",
    "import mplfinance as mpf\n",
    "import matplotlib.dates as mpl_dates\n",
    "import matplotlib.pyplot as plt\n",
    "\n",
    "# Fetch the latest 60 days of AAPL stock data\n",
    "data = yf.download('AAPL', period='3mo', interval='1d') # Fetch 64 days to display last 60 days in the chart\n",
    "\n",
    "# Select 'Close' price and scale it\n",
    "closing_prices = data['Close'].values.reshape(-1, 1)\n",
    "scaler = MinMaxScaler(feature_range=(0, 1))\n",
    "scaled_data = scaler.fit_transform(closing_prices)\n",
    "\n",
    "# Predict the next 4 days iteratively\n",
    "predicted_prices = []\n",
    "current_batch = scaled_data[-60:].reshape(1, 60, 1)  # Most recent 60 days\n",
    "\n",
    "for i in range(4):  # Predicting 4 days\n",
    "    next_prediction = model.predict(current_batch)\n",
    "    next_prediction_reshaped = next_prediction.reshape(1, 1, 1)\n",
    "    current_batch = np.append(current_batch[:, 1:, :], next_prediction_reshaped, axis=1)\n",
    "    predicted_prices.append(scaler.inverse_transform(next_prediction)[0, 0])\n",
    "\n",
    "# Creating a list of dates for the predictions\n",
    "last_date = data.index[-1]\n",
    "next_day = last_date + pd.Timedelta(days=1)\n",
    "prediction_dates = pd.date_range(start=next_day, periods=4)\n",
    "\n",
    "# Adding predictions to the DataFrame\n",
    "predicted_data = pd.DataFrame(index=prediction_dates, data=predicted_prices, columns=['Close'])\n",
    "\n",
    "# Combining both actual and predicted data\n",
    "combined_data = pd.concat([data['Close'], predicted_data['Close']])\n",
    "combined_data = combined_data[-64:] # Last 60 days of actual data + 4 days of predictions\n",
    "\n",
    "# Plotting the actual data\n",
    "plt.figure(figsize=(10,6))\n",
    "plt.plot(data.index[-60:], data['Close'][-60:], linestyle='-', marker='o', color='blue', label='Actual Data')\n",
    "\n",
    "# Plotting the predicted data\n",
    "plt.plot(prediction_dates, predicted_prices, linestyle='-', marker='o', color='red', label='Predicted Data')\n",
    "\n",
    "plt.title(\"AAPL Stock Price: Last 60 Days and Next 4 Days Predicted\")\n",
    "plt.xlabel('Date')\n",
    "plt.ylabel('Price')\n",
    "plt.legend()\n",
    "plt.show()"
   ]
  },
  {
   "cell_type": "code",
   "execution_count": 221,
   "id": "f27c3c53",
   "metadata": {},
   "outputs": [],
   "source": [
    "from enum import Enum, unique\n",
    "\n",
    "@unique\n",
    "class WeaponType(Enum):\n",
    "    BLASTER = 1\n",
    "    RIFLE = 2\n",
    "    SHOTGUN = 3\n",
    "    SNIPER = 4\n",
    "    GRENADE = 5"
   ]
  },
  {
   "cell_type": "code",
   "execution_count": 224,
   "id": "6efc0324",
   "metadata": {},
   "outputs": [
    {
     "name": "stdout",
     "output_type": "stream",
     "text": [
      "BLASTER\n",
      "1\n"
     ]
    }
   ],
   "source": [
    "\n",
    "print(WeaponType.BLASTER.name)  # Output: BLASTER\n",
    "print(WeaponType.BLASTER.value)  # Output: 1"
   ]
  },
  {
   "cell_type": "code",
   "execution_count": null,
   "id": "a5923102",
   "metadata": {},
   "outputs": [],
   "source": []
  }
 ],
 "metadata": {
  "kernelspec": {
   "display_name": "Python 3 (ipykernel)",
   "language": "python",
   "name": "python3"
  },
  "language_info": {
   "codemirror_mode": {
    "name": "ipython",
    "version": 3
   },
   "file_extension": ".py",
   "mimetype": "text/x-python",
   "name": "python",
   "nbconvert_exporter": "python",
   "pygments_lexer": "ipython3",
   "version": "3.10.14"
  }
 },
 "nbformat": 4,
 "nbformat_minor": 5
}
