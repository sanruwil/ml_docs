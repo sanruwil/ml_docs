{
 "cells": [
  {
   "cell_type": "code",
   "execution_count": 209,
   "id": "3cbeee5c",
   "metadata": {},
   "outputs": [],
   "source": [
    "import pandas as pd\n",
    "import json\n",
    "import copy\n",
    "from faker import Faker\n",
    "from datetime import datetime, timedelta\n",
    "import re\n",
    "import random"
   ]
  },
  {
   "cell_type": "markdown",
   "id": "70f4fcd3",
   "metadata": {},
   "source": [
    "Template Json Pagos Workflow"
   ]
  },
  {
   "cell_type": "code",
   "execution_count": 210,
   "id": "9a163c64",
   "metadata": {},
   "outputs": [],
   "source": [
    "pagostemp = {\n",
    "    \"infoGeneral\":{\n",
    "      \"compania\":\"1 - Empresa ABC\",\n",
    "      \"bancoCorresponsal\": \"Bancolombia\",\n",
    "      \"estado\":\"Cargado\",\n",
    "      \"fechaCarga\":\"17-03-2023\"\n",
    "     },\n",
    "     \"infoOrdenante\": {\n",
    "      \"numCuenta\": {\n",
    "        \"id\": \"cta123456\",\n",
    "        \"tipo\": \"AHO-Ahorros\"\n",
    "      },\n",
    "      \"nombre\": \" Filial Empresa ABC LTDA\",\n",
    "      \"direccion\": {\n",
    "          \"numero\": \"Cl 14 52 A 20\",\n",
    "          \"ciudad\": \"Medellin\",\n",
    "          \"pais\": \"CO\"\n",
    "       }\n",
    "      },\n",
    "      \"infoBeneficiario\": {\n",
    "        \"numCuenta\": {\n",
    "          \"id\": \"cta123456\",\n",
    "          \"tipo\": \"AHO-Ahorros\"\n",
    "        },\n",
    "        \"nombre\": \" Carbones LTDA\",\n",
    "        \"direccion\": {\n",
    "            \"numero\": \"645 - Bulevar Sunset\",\n",
    "            \"ciudad\": \"Singapore\",\n",
    "            \"pais\": \"SG\"\n",
    "         }\n",
    "      },\n",
    "     \"infoPagos\": \n",
    "      {\n",
    "        \"Referencias\": {\n",
    "          \"id\": \"pacs8bizmsgidr01\",\n",
    "          \"endToEndId\": \"pacs008EndToEndId-111\",\n",
    "          \"uetr\": \"f1636d6e-1ed0-4b56-a7be-5706eb62ba9f\"\n",
    "        },\n",
    "        \"Monto\": {\n",
    "          \"moneda\": \"USD\",\n",
    "          \"valor\": \"50.00\"\n",
    "        },\n",
    "        \"fechaPago\": \"17-03-2023\",\n",
    "        \"cargos\": \"Compartidos\",\n",
    "        \"infoAdicional\": \"Facturas No: 999999999\"\n",
    "      }\n",
    "  }"
   ]
  },
  {
   "cell_type": "code",
   "execution_count": 211,
   "id": "9c44b798",
   "metadata": {},
   "outputs": [],
   "source": [
    "arreglo = []\n",
    "faker = Faker('es_ES')\n",
    "fecha_actual = datetime.now()"
   ]
  },
  {
   "cell_type": "markdown",
   "id": "135a8a94",
   "metadata": {},
   "source": [
    "Leer archivo de Datos"
   ]
  },
  {
   "cell_type": "code",
   "execution_count": 212,
   "id": "c0f186ee",
   "metadata": {},
   "outputs": [],
   "source": [
    "excel_file = '/Users/wilfredysantamariaruiz/Downloads/Data Dummy DEMO EMH For Corporate.xlsx'"
   ]
  },
  {
   "cell_type": "code",
   "execution_count": 213,
   "id": "3abb50ac",
   "metadata": {},
   "outputs": [],
   "source": [
    "df = pd.read_excel(excel_file)"
   ]
  },
  {
   "cell_type": "code",
   "execution_count": 214,
   "id": "0c7b4998",
   "metadata": {},
   "outputs": [
    {
     "data": {
      "text/html": [
       "<div>\n",
       "<style scoped>\n",
       "    .dataframe tbody tr th:only-of-type {\n",
       "        vertical-align: middle;\n",
       "    }\n",
       "\n",
       "    .dataframe tbody tr th {\n",
       "        vertical-align: top;\n",
       "    }\n",
       "\n",
       "    .dataframe thead th {\n",
       "        text-align: right;\n",
       "    }\n",
       "</style>\n",
       "<table border=\"1\" class=\"dataframe\">\n",
       "  <thead>\n",
       "    <tr style=\"text-align: right;\">\n",
       "      <th></th>\n",
       "      <th>Empresa</th>\n",
       "      <th>Negocio</th>\n",
       "      <th>Banco</th>\n",
       "      <th>cuenta</th>\n",
       "      <th>Divisa</th>\n",
       "      <th>Depto</th>\n",
       "    </tr>\n",
       "  </thead>\n",
       "  <tbody>\n",
       "    <tr>\n",
       "      <th>0</th>\n",
       "      <td>Nestle</td>\n",
       "      <td>Purina</td>\n",
       "      <td>BBVA</td>\n",
       "      <td>00123456789123456789</td>\n",
       "      <td>USD</td>\n",
       "      <td>Financiero</td>\n",
       "    </tr>\n",
       "    <tr>\n",
       "      <th>1</th>\n",
       "      <td>Nestle</td>\n",
       "      <td>Purina</td>\n",
       "      <td>BBVA</td>\n",
       "      <td>00123456789123456790</td>\n",
       "      <td>USD</td>\n",
       "      <td>Tesoreria</td>\n",
       "    </tr>\n",
       "  </tbody>\n",
       "</table>\n",
       "</div>"
      ],
      "text/plain": [
       "  Empresa Negocio Banco                cuenta Divisa       Depto\n",
       "0  Nestle  Purina  BBVA  00123456789123456789    USD  Financiero\n",
       "1  Nestle  Purina  BBVA  00123456789123456790    USD   Tesoreria"
      ]
     },
     "execution_count": 214,
     "metadata": {},
     "output_type": "execute_result"
    }
   ],
   "source": [
    "df.head(2)"
   ]
  },
  {
   "cell_type": "code",
   "execution_count": 215,
   "id": "f717ddef",
   "metadata": {},
   "outputs": [],
   "source": [
    "def myclean(cadena):\n",
    "    # Utilizar una expresión regular para eliminar caracteres que no sean números o letras\n",
    "    cadena_limpia = re.sub(r'[^a-zA-Z0-9\\s]', '', cadena)\n",
    "    return cadena_limpia\n"
   ]
  },
  {
   "cell_type": "code",
   "execution_count": 216,
   "id": "d7c60179",
   "metadata": {},
   "outputs": [],
   "source": [
    "def randoncta():\n",
    "    numero_cuenta = \"\"\n",
    "    # Generar los primeros 8 dígitos del número de cuenta\n",
    "    for _ in range(8):\n",
    "        digito = random.randrange(10)  # Generar un dígito aleatorio del 0 al 9\n",
    "        numero_cuenta += str(digito)\n",
    "    \n",
    "    # Generar el último dígito verificador del número de cuenta\n",
    "    digito_verificador = random.randrange(10)  # Generar un dígito aleatorio del 0 al 9\n",
    "    numero_cuenta += str(digito_verificador)\n",
    "    return numero_cuenta"
   ]
  },
  {
   "cell_type": "markdown",
   "id": "f18328ec",
   "metadata": {},
   "source": [
    "Modificar Plantilla de pagos"
   ]
  },
  {
   "cell_type": "code",
   "execution_count": 217,
   "id": "c3cb8229",
   "metadata": {},
   "outputs": [],
   "source": [
    "i=1\n",
    "for indice in df.index:\n",
    "    nombre_aleatorio = faker.name()\n",
    "    faker.address()\n",
    "    pago_copia = copy.deepcopy(pagostemp)\n",
    "    nueva_fecha = fecha_actual + timedelta(days=i)\n",
    "    fecha_formateada = nueva_fecha.strftime(\"%d-%m-%Y\")\n",
    "    pago_copia['infoGeneral']['compania']= \"-\".join([df.loc[indice, 'Empresa'],df.loc[indice, 'Negocio']])\n",
    "    pago_copia['infoGeneral']['bancoCorresponsal']=df.loc[indice, 'Banco']\n",
    "    pago_copia['infoGeneral']['fechaCarga']=fecha_formateada\n",
    "    #info ordenante\n",
    "    pago_copia['infoOrdenante']['numCuenta']['id']=df.loc[indice, 'cuenta']\n",
    "    pago_copia['infoOrdenante']['nombre']=\"-\".join([df.loc[indice, 'Empresa'],df.loc[indice, 'Negocio']])\n",
    "    #pago_copia['infoOrdenante']['direccion']['numero']= myclean(faker.address()) \n",
    "    #info Beneficiario\n",
    "    pago_copia['infoBeneficiario']['numCuenta']['id']=randoncta()\n",
    "    pago_copia['infoBeneficiario']['nombre']=myclean(faker.name())\n",
    "    pago_copia['infoBeneficiario']['direccion']['numero']= myclean(faker.address()) \n",
    "    pago_copia['infoBeneficiario']['direccion']['ciudad']= myclean(faker.city()) \n",
    "    pago_copia['infoBeneficiario']['direccion']['pais']=faker.country_code()\n",
    "    #info de pagos\n",
    "    pago_copia['infoPagos']['Referencias']['id']=\"pacs\"+randoncta()\n",
    "    pago_copia['infoPagos']['Referencias']['endToEndId']=\"pacs008EndToEndId-\"+ str(random.randint(100, 500))\n",
    "    pago_copia['infoPagos']['Monto']['moneda']=df.loc[indice, 'Divisa']\n",
    "    pago_copia['infoPagos']['Monto']['valor']=round(random.uniform(1000, 10000), 2)\n",
    "    pago_copia['infoPagos']['fechaPago']=fecha_formateada\n",
    "    pago_copia['infoPagos']['infoAdicional']= \"Facturas No: \"+str(random.randint(100, 5000)) \n",
    "    arreglo.append(pago_copia)\n",
    "    i=i+1\n",
    "    \n",
    "    "
   ]
  },
  {
   "cell_type": "markdown",
   "id": "62b609e9",
   "metadata": {},
   "source": [
    "Generar Archivo JSON-WorkFlow Pagos"
   ]
  },
  {
   "cell_type": "code",
   "execution_count": 218,
   "id": "25a9958f",
   "metadata": {},
   "outputs": [],
   "source": [
    "json_file = '/Users/wilfredysantamariaruiz/Downloads/pagos-workflow.json'"
   ]
  },
  {
   "cell_type": "code",
   "execution_count": 219,
   "id": "ddb45b2a",
   "metadata": {},
   "outputs": [],
   "source": [
    "# Escribe los datos en un archivo JSON\n",
    "def mywrite(json_file,arreglo):\n",
    "    with open(json_file, 'w') as file:\n",
    "      json.dump(arreglo, file, indent=4)"
   ]
  },
  {
   "cell_type": "code",
   "execution_count": 220,
   "id": "e41f36e0",
   "metadata": {},
   "outputs": [],
   "source": [
    "mywrite(json_file,arreglo)"
   ]
  },
  {
   "cell_type": "markdown",
   "id": "e6ea6f3b",
   "metadata": {},
   "source": [
    "Template Json Movimientos"
   ]
  },
  {
   "cell_type": "code",
   "execution_count": 221,
   "id": "9a826fa6",
   "metadata": {},
   "outputs": [],
   "source": [
    "movtemp={\n",
    "    \"infoGeneral\":{\n",
    "      \"compania\":\"1 - Empresa ABC\",\n",
    "      \"bancoCorresponsal\": \"Bancolombia\",\n",
    "      \"estado\":\"Cargado\",\n",
    "      \"fechaCarga\":\"17-03-2023\",\n",
    "      \"numCuenta\": {\n",
    "        \"id\": \"cta123456\",\n",
    "        \"tipo\": \"AHO-Ahorros\"\n",
    "      }\n",
    "     },\n",
    "     \"infoMovimientos\": [\n",
    "      {\n",
    "        \"Referencias\": {\n",
    "          \"id\": \"pacs8bizmsgidr01\",\n",
    "          \"endToEndId\": \"pacs008EndToEndId-111\",\n",
    "          \"uetr\": \"f1636d6e-1ed0-4b56-a7be-5706eb62ba9f\"\n",
    "        },\n",
    "        \"Monto\": {\n",
    "          \"moneda\": \"USD\",\n",
    "          \"valor\": \"50.00\"\n",
    "        },\n",
    "        \"fechaValor\": \"17-03-2023\",\n",
    "        \"naturaleza\": \"Debito\",\n",
    "        \"infoAdicional\": \"Pago proveedor telas\"\n",
    "      },\n",
    "      {\n",
    "        \"Referencias\": {\n",
    "          \"id\": \"pacs8bizmsgidr02\",\n",
    "          \"endToEndId\": \"pacs008EndToEndId-112\",\n",
    "          \"uetr\": \"f1636d6e-1ed0-4b56-a7be-5706eb62ba9f\"\n",
    "        },\n",
    "        \"Monto\": {\n",
    "          \"moneda\": \"USD\",\n",
    "          \"valor\": \"110.00\"\n",
    "        },\n",
    "        \"fechaValor\": \"17-03-2023\",\n",
    "        \"naturaleza\": \"Debito\",\n",
    "        \"infoAdicional\": \"Transferencias bancaria pago impuestos\"\n",
    "      }\n",
    "    ]\n",
    "  }"
   ]
  },
  {
   "cell_type": "code",
   "execution_count": 222,
   "id": "90616894",
   "metadata": {},
   "outputs": [],
   "source": [
    "arreglomov = []\n",
    "naturaleza = ['Debito', 'Credito']\n",
    "conceptos=['Transferencias electronicas u otras formas','Cargos o comisiones','Intereses','cheques emitidos','sumando los intereses ganados']\n"
   ]
  },
  {
   "cell_type": "markdown",
   "id": "8dea6f9f",
   "metadata": {},
   "source": [
    "Modificar Plantilla de Movimientos"
   ]
  },
  {
   "cell_type": "code",
   "execution_count": 223,
   "id": "8f9a1603",
   "metadata": {},
   "outputs": [],
   "source": [
    "i=1\n",
    "for indice in df.index:\n",
    "    mov_copia = copy.deepcopy(movtemp)\n",
    "    nueva_fecha = fecha_actual + timedelta(days=i)\n",
    "    fecha_formateada = nueva_fecha.strftime(\"%d-%m-%Y\")\n",
    "    mov_copia['infoGeneral']['compania']= \"-\".join([df.loc[indice, 'Empresa'],df.loc[indice, 'Negocio']])\n",
    "    mov_copia['infoGeneral']['bancoCorresponsal']=df.loc[indice, 'Banco']\n",
    "    mov_copia['infoGeneral']['fechaCarga']=fecha_formateada\n",
    "    mov_copia['infoGeneral']['numCuenta']['id']=df.loc[indice, 'cuenta']\n",
    "    #info movimientos\n",
    "    mov_copia['infoMovimientos'][0]['Referencias']['id']=\"pacs\"+randoncta()\n",
    "    mov_copia['infoMovimientos'][0]['Referencias']['endToEndId']=\"pacs008EndToEndId-\"+ str(random.randint(100, 500))\n",
    "    mov_copia['infoMovimientos'][0]['Monto']['moneda']=df.loc[indice, 'Divisa']\n",
    "    mov_copia['infoMovimientos'][0]['Monto']['valor']=round(random.uniform(1000, 10000), 2)\n",
    "    mov_copia['infoMovimientos'][0]['fechaValor']=fecha_formateada\n",
    "    mov_copia['infoMovimientos'][0]['naturaleza']=random.choice(naturaleza)\n",
    "    mov_copia['infoMovimientos'][0]['infoAdicional']=random.choice(conceptos) \n",
    "    #bloque 2\n",
    "    mov_copia['infoMovimientos'][1]['Referencias']['id']=\"pacs\"+randoncta()\n",
    "    mov_copia['infoMovimientos'][1]['Referencias']['endToEndId']=\"pacs008EndToEndId-\"+ str(random.randint(100, 500))\n",
    "    mov_copia['infoMovimientos'][1]['Monto']['moneda']=df.loc[indice, 'Divisa']\n",
    "    mov_copia['infoMovimientos'][1]['Monto']['valor']=round(random.uniform(1000, 10000), 2)\n",
    "    mov_copia['infoMovimientos'][1]['fechaValor']=fecha_formateada\n",
    "    mov_copia['infoMovimientos'][1]['naturaleza']=random.choice(naturaleza)\n",
    "    mov_copia['infoMovimientos'][1]['infoAdicional']=random.choice(conceptos) \n",
    "    arreglomov.append(mov_copia)\n",
    "    i=i+1"
   ]
  },
  {
   "cell_type": "code",
   "execution_count": 224,
   "id": "692e4e20",
   "metadata": {},
   "outputs": [],
   "source": [
    "json_filemov = '/Users/wilfredysantamariaruiz/Downloads/Extractos-Consulta movimientos.json'\n",
    "mywrite(json_filemov,arreglomov)"
   ]
  },
  {
   "cell_type": "markdown",
   "id": "c7c64bff",
   "metadata": {},
   "source": [
    "Template Json Posicion-Saldos"
   ]
  },
  {
   "cell_type": "code",
   "execution_count": 225,
   "id": "e0e54d4e",
   "metadata": {},
   "outputs": [],
   "source": [
    "postemp= {\n",
    "    \"infoGeneral\":{\n",
    "      \"compania\":\"1 - Empresa ABC\",\n",
    "      \"bancoCorresponsal\": \"Bancolombia\",\n",
    "      \"estado\":\"Cargado\",\n",
    "      \"fechaCarga\":\"17-03-2023\",\n",
    "      \"numCuenta\": {\n",
    "        \"id\": \"cta123456\",\n",
    "        \"tipo\": \"AHO-Ahorros\"\n",
    "      },\n",
    "      \"fechaInicio\":\"12-03-2023\",\n",
    "      \"fechaFin\":\"12-03-2023\"\n",
    "     },\n",
    "     \"infobalance\":\n",
    "     [\n",
    "      {\n",
    "        \"tipo\":  \"Saldo Inicial\",\n",
    "        \"Monto\": {\n",
    "          \"moneda\": \"USD\",\n",
    "          \"valor\": \"50.00\"\n",
    "        },\n",
    "         \"naturaleza\": \"DEBITO\"\n",
    "      },\n",
    "      {\n",
    "        \"tipo\":  \"Saldo Final\",\n",
    "        \"Monto\": {\n",
    "          \"moneda\": \"USD\",\n",
    "          \"valor\": \"50.00\"\n",
    "        },\n",
    "        \"naturaleza\": \"DEBITO\"\n",
    "      },\n",
    "      {\n",
    "        \"tipo\":  \"Saldo Disponible\",\n",
    "        \"Monto\": {\n",
    "          \"moneda\": \"USD\",\n",
    "          \"valor\": \"50.00\"\n",
    "        },\n",
    "         \"naturaleza\": \"DEBITO\"\n",
    "      },\n",
    "      {\n",
    "        \"tipo\":  \"Saldo en Canje\",\n",
    "        \"Monto\": {\n",
    "          \"moneda\": \"USD\",\n",
    "          \"valor\": \"10.00\"\n",
    "        },\n",
    "         \"naturaleza\": \"DEBITO\"\n",
    "      }\n",
    "    ]\n",
    "  }"
   ]
  },
  {
   "cell_type": "code",
   "execution_count": 226,
   "id": "d1a92a2f",
   "metadata": {},
   "outputs": [],
   "source": [
    "arreglopos = []"
   ]
  },
  {
   "cell_type": "markdown",
   "id": "5692a9a6",
   "metadata": {},
   "source": [
    "Modificar Plantilla de Saldos"
   ]
  },
  {
   "cell_type": "code",
   "execution_count": 227,
   "id": "6a08e865",
   "metadata": {},
   "outputs": [],
   "source": [
    "i=1\n",
    "for indice in df.index:\n",
    "    pos_copia = copy.deepcopy(postemp)\n",
    "    nueva_fecha = fecha_actual + timedelta(days=i)\n",
    "    fecha_formateada = nueva_fecha.strftime(\"%d-%m-%Y\")\n",
    "    pos_copia['infoGeneral']['compania']= \"-\".join([df.loc[indice, 'Empresa'],df.loc[indice, 'Negocio']])\n",
    "    pos_copia['infoGeneral']['bancoCorresponsal']=df.loc[indice, 'Banco']\n",
    "    pos_copia['infoGeneral']['fechaCarga']=fecha_formateada\n",
    "    pos_copia['infoGeneral']['numCuenta']['id']=df.loc[indice, 'cuenta']\n",
    "    pos_copia['infoGeneral']['fechaInicio']=fecha_formateada\n",
    "    pos_copia['infoGeneral']['fechaFin']=fecha_formateada\n",
    "    #info saldos\n",
    "    pos_copia['infobalance'][0]['Monto']['moneda']=df.loc[indice, 'Divisa']\n",
    "    pos_copia['infobalance'][0]['Monto']['valor']=round(random.uniform(10000, 40000), 2)\n",
    "    pos_copia['infobalance'][0]['naturaleza']=random.choice(naturaleza)\n",
    "    #bloque 2\n",
    "    pos_copia['infobalance'][1]['Monto']['moneda']=df.loc[indice, 'Divisa']\n",
    "    pos_copia['infobalance'][1]['Monto']['valor']=round(random.uniform(10000, 40000), 2)\n",
    "    pos_copia['infobalance'][1]['naturaleza']=random.choice(naturaleza)\n",
    "    #bloque 3\n",
    "    pos_copia['infobalance'][2]['Monto']['moneda']=df.loc[indice, 'Divisa']\n",
    "    pos_copia['infobalance'][2]['Monto']['valor']=round(random.uniform(5000, 10000), 2)\n",
    "    pos_copia['infobalance'][2]['naturaleza']=random.choice(naturaleza)\n",
    "    #bloque 4\n",
    "    pos_copia['infobalance'][3]['Monto']['moneda']=df.loc[indice, 'Divisa']\n",
    "    pos_copia['infobalance'][3]['Monto']['valor']=round(random.uniform(5000, 10000), 2)\n",
    "    pos_copia['infobalance'][3]['naturaleza']=random.choice(naturaleza)\n",
    "    arreglopos.append(pos_copia)\n",
    "    i=i+1"
   ]
  },
  {
   "cell_type": "code",
   "execution_count": 228,
   "id": "8a487eab",
   "metadata": {},
   "outputs": [],
   "source": [
    "json_filepos = '/Users/wilfredysantamariaruiz/Downloads/Extractos-Posicion Bancaria.json'\n",
    "mywrite(json_filepos,arreglopos)"
   ]
  },
  {
   "cell_type": "code",
   "execution_count": 1,
   "id": "3529ddc9",
   "metadata": {},
   "outputs": [],
   "source": [
    "import dtale"
   ]
  },
  {
   "cell_type": "code",
   "execution_count": 2,
   "id": "7a05aa92",
   "metadata": {},
   "outputs": [],
   "source": [
    "import pandas as pd\n",
    "\n",
    "data = {'Name': ['John', 'Alice', 'Bob', 'Eve'],\n",
    "        'Age': [28, 24, 22, 30],\n",
    "        'Salary': [50000, 60000, 55000, 70000]}\n",
    "\n",
    "df = pd.DataFrame(data)"
   ]
  },
  {
   "cell_type": "code",
   "execution_count": 4,
   "id": "25492d0e",
   "metadata": {
    "scrolled": true
   },
   "outputs": [
    {
     "data": {
      "text/html": [
       "\n",
       "        <iframe\n",
       "            width=\"100%\"\n",
       "            height=\"475\"\n",
       "            src=\"http://localhost:40000/dtale/iframe/2\"\n",
       "            frameborder=\"0\"\n",
       "            allowfullscreen\n",
       "            \n",
       "        ></iframe>\n",
       "        "
      ],
      "text/plain": [
       "<IPython.lib.display.IFrame at 0x7fa6e6682bc0>"
      ]
     },
     "metadata": {},
     "output_type": "display_data"
    },
    {
     "data": {
      "text/plain": []
     },
     "execution_count": 4,
     "metadata": {},
     "output_type": "execute_result"
    },
    {
     "name": "stderr",
     "output_type": "stream",
     "text": [
      "/Users/wilfredysantamariaruiz/opt/anaconda3/envs/my_env1/lib/python3.10/site-packages/seaborn/matrix.py:309: UserWarning:\n",
      "\n",
      "Attempting to set identical left == right == 0 results in singular transformations; automatically expanding.\n",
      "\n",
      "/Users/wilfredysantamariaruiz/opt/anaconda3/envs/my_env1/lib/python3.10/site-packages/seaborn/matrix.py:309: UserWarning:\n",
      "\n",
      "Attempting to set identical bottom == top == 0 results in singular transformations; automatically expanding.\n",
      "\n",
      "/Users/wilfredysantamariaruiz/opt/anaconda3/envs/my_env1/lib/python3.10/site-packages/scipy/cluster/hierarchy.py:2844: UserWarning:\n",
      "\n",
      "Attempting to set identical bottom == top == 0.0 results in singular transformations; automatically expanding.\n",
      "\n",
      "/Users/wilfredysantamariaruiz/opt/anaconda3/envs/my_env1/lib/python3.10/site-packages/seaborn/matrix.py:309: UserWarning:\n",
      "\n",
      "Attempting to set identical left == right == 0 results in singular transformations; automatically expanding.\n",
      "\n",
      "/Users/wilfredysantamariaruiz/opt/anaconda3/envs/my_env1/lib/python3.10/site-packages/seaborn/matrix.py:309: UserWarning:\n",
      "\n",
      "Attempting to set identical bottom == top == 0 results in singular transformations; automatically expanding.\n",
      "\n",
      "/Users/wilfredysantamariaruiz/opt/anaconda3/envs/my_env1/lib/python3.10/site-packages/dtale/views.py:2118: FutureWarning:\n",
      "\n",
      "The default value of regex will change from True to False in a future version.\n",
      "\n",
      "2023-11-29 19:29:19,830 - ERROR    - Exception on /dtale/charts/_dash-update-component [POST]\n",
      "Traceback (most recent call last):\n",
      "  File \"/Users/wilfredysantamariaruiz/opt/anaconda3/envs/my_env1/lib/python3.10/site-packages/flask/app.py\", line 2529, in wsgi_app\n",
      "    response = self.full_dispatch_request()\n",
      "  File \"/Users/wilfredysantamariaruiz/opt/anaconda3/envs/my_env1/lib/python3.10/site-packages/flask/app.py\", line 1825, in full_dispatch_request\n",
      "    rv = self.handle_user_exception(e)\n",
      "  File \"/Users/wilfredysantamariaruiz/opt/anaconda3/envs/my_env1/lib/python3.10/site-packages/flask/app.py\", line 1823, in full_dispatch_request\n",
      "    rv = self.dispatch_request()\n",
      "  File \"/Users/wilfredysantamariaruiz/opt/anaconda3/envs/my_env1/lib/python3.10/site-packages/flask/app.py\", line 1799, in dispatch_request\n",
      "    return self.ensure_sync(self.view_functions[rule.endpoint])(**view_args)\n",
      "  File \"/Users/wilfredysantamariaruiz/opt/anaconda3/envs/my_env1/lib/python3.10/site-packages/dash/dash.py\", line 1310, in dispatch\n",
      "    ctx.run(\n",
      "  File \"/Users/wilfredysantamariaruiz/opt/anaconda3/envs/my_env1/lib/python3.10/site-packages/dash/_callback.py\", line 442, in add_context\n",
      "    output_value = func(*func_args, **func_kwargs)  # %% callback invoked %%\n",
      "  File \"/Users/wilfredysantamariaruiz/opt/anaconda3/envs/my_env1/lib/python3.10/site-packages/dtale/dash_application/views.py\", line 1334, in group_values\n",
      "    group_types = get_group_types(inputs, group_cols)\n",
      "  File \"/Users/wilfredysantamariaruiz/opt/anaconda3/envs/my_env1/lib/python3.10/site-packages/dtale/dash_application/layout/layout.py\", line 684, in get_group_types\n",
      "    return _flags(\"group\")\n",
      "  File \"/Users/wilfredysantamariaruiz/opt/anaconda3/envs/my_env1/lib/python3.10/site-packages/dtale/dash_application/layout/layout.py\", line 665, in _flags\n",
      "    col, freq = fgc.split(CHART_JOINER_CHAR)\n",
      "ValueError: not enough values to unpack (expected 2, got 1)\n",
      "2023-11-29 19:29:19,984 - ERROR    - Exception on /dtale/charts/_dash-update-component [POST]\n",
      "Traceback (most recent call last):\n",
      "  File \"/Users/wilfredysantamariaruiz/opt/anaconda3/envs/my_env1/lib/python3.10/site-packages/flask/app.py\", line 2529, in wsgi_app\n",
      "    response = self.full_dispatch_request()\n",
      "  File \"/Users/wilfredysantamariaruiz/opt/anaconda3/envs/my_env1/lib/python3.10/site-packages/flask/app.py\", line 1825, in full_dispatch_request\n",
      "    rv = self.handle_user_exception(e)\n",
      "  File \"/Users/wilfredysantamariaruiz/opt/anaconda3/envs/my_env1/lib/python3.10/site-packages/flask/app.py\", line 1823, in full_dispatch_request\n",
      "    rv = self.dispatch_request()\n",
      "  File \"/Users/wilfredysantamariaruiz/opt/anaconda3/envs/my_env1/lib/python3.10/site-packages/flask/app.py\", line 1799, in dispatch_request\n",
      "    return self.ensure_sync(self.view_functions[rule.endpoint])(**view_args)\n",
      "  File \"/Users/wilfredysantamariaruiz/opt/anaconda3/envs/my_env1/lib/python3.10/site-packages/dash/dash.py\", line 1310, in dispatch\n",
      "    ctx.run(\n",
      "  File \"/Users/wilfredysantamariaruiz/opt/anaconda3/envs/my_env1/lib/python3.10/site-packages/dash/_callback.py\", line 442, in add_context\n",
      "    output_value = func(*func_args, **func_kwargs)  # %% callback invoked %%\n",
      "  File \"/Users/wilfredysantamariaruiz/opt/anaconda3/envs/my_env1/lib/python3.10/site-packages/dtale/dash_application/views.py\", line 1273, in main_input_class\n",
      "    return main_inputs_and_group_val_display(\n",
      "  File \"/Users/wilfredysantamariaruiz/opt/anaconda3/envs/my_env1/lib/python3.10/site-packages/dtale/dash_application/layout/layout.py\", line 1379, in main_inputs_and_group_val_display\n",
      "    group_types = get_group_types(inputs)\n",
      "  File \"/Users/wilfredysantamariaruiz/opt/anaconda3/envs/my_env1/lib/python3.10/site-packages/dtale/dash_application/layout/layout.py\", line 684, in get_group_types\n",
      "    return _flags(\"group\")\n",
      "  File \"/Users/wilfredysantamariaruiz/opt/anaconda3/envs/my_env1/lib/python3.10/site-packages/dtale/dash_application/layout/layout.py\", line 665, in _flags\n",
      "    col, freq = fgc.split(CHART_JOINER_CHAR)\n",
      "ValueError: not enough values to unpack (expected 2, got 1)\n",
      "2023-11-29 19:30:55,705 - ERROR    - Exception occurred while processing request: Object of type int64 is not JSON serializable\n",
      "Traceback (most recent call last):\n",
      "  File \"/Users/wilfredysantamariaruiz/opt/anaconda3/envs/my_env1/lib/python3.10/site-packages/dtale/views.py\", line 119, in _handle_exceptions\n",
      "    return func(*args, **kwargs)\n",
      "  File \"/Users/wilfredysantamariaruiz/opt/anaconda3/envs/my_env1/lib/python3.10/site-packages/dtale/views.py\", line 4077, in network_data\n",
      "    return jsonify(dict(nodes=nodes, edges=edges, groups=groups, success=True))\n",
      "  File \"/Users/wilfredysantamariaruiz/opt/anaconda3/envs/my_env1/lib/python3.10/site-packages/dtale/utils.py\", line 644, in jsonify\n",
      "    return _jsonify(return_data)\n",
      "  File \"/Users/wilfredysantamariaruiz/opt/anaconda3/envs/my_env1/lib/python3.10/site-packages/flask/json/__init__.py\", line 342, in jsonify\n",
      "    return current_app.json.response(*args, **kwargs)\n",
      "  File \"/Users/wilfredysantamariaruiz/opt/anaconda3/envs/my_env1/lib/python3.10/site-packages/flask/json/provider.py\", line 309, in response\n",
      "    f\"{self.dumps(obj, **dump_args)}\\n\", mimetype=mimetype\n",
      "  File \"/Users/wilfredysantamariaruiz/opt/anaconda3/envs/my_env1/lib/python3.10/site-packages/flask/json/provider.py\", line 230, in dumps\n",
      "    return json.dumps(obj, **kwargs)\n",
      "  File \"/Users/wilfredysantamariaruiz/opt/anaconda3/envs/my_env1/lib/python3.10/json/__init__.py\", line 238, in dumps\n",
      "    **kw).encode(obj)\n",
      "  File \"/Users/wilfredysantamariaruiz/opt/anaconda3/envs/my_env1/lib/python3.10/json/encoder.py\", line 199, in encode\n",
      "    chunks = self.iterencode(o, _one_shot=True)\n",
      "  File \"/Users/wilfredysantamariaruiz/opt/anaconda3/envs/my_env1/lib/python3.10/json/encoder.py\", line 257, in iterencode\n",
      "    return _iterencode(o, 0)\n",
      "  File \"/Users/wilfredysantamariaruiz/opt/anaconda3/envs/my_env1/lib/python3.10/site-packages/flask/json/provider.py\", line 122, in _default\n",
      "    raise TypeError(f\"Object of type {type(o).__name__} is not JSON serializable\")\n",
      "TypeError: Object of type int64 is not JSON serializable\n",
      "2023-11-29 19:31:10,145 - ERROR    - Exception occurred while processing request: can only concatenate str (not \"int\") to str\n",
      "Traceback (most recent call last):\n",
      "  File \"/Users/wilfredysantamariaruiz/opt/anaconda3/envs/my_env1/lib/python3.10/site-packages/dtale/views.py\", line 119, in _handle_exceptions\n",
      "    return func(*args, **kwargs)\n",
      "  File \"/Users/wilfredysantamariaruiz/opt/anaconda3/envs/my_env1/lib/python3.10/site-packages/dtale/views.py\", line 4269, in build_gage_rnr\n",
      "    ).calculate()\n",
      "  File \"/Users/wilfredysantamariaruiz/opt/anaconda3/envs/my_env1/lib/python3.10/site-packages/dtale/gage_rnr.py\", line 135, in calculate\n",
      "    self.result[Result.Mean] = self.calculate_mean()\n",
      "  File \"/Users/wilfredysantamariaruiz/opt/anaconda3/envs/my_env1/lib/python3.10/site-packages/dtale/gage_rnr.py\", line 78, in calculate_mean\n",
      "    mu = np.array([np.mean(self.data)])\n",
      "  File \"<__array_function__ internals>\", line 180, in mean\n",
      "  File \"/Users/wilfredysantamariaruiz/opt/anaconda3/envs/my_env1/lib/python3.10/site-packages/numpy/core/fromnumeric.py\", line 3474, in mean\n",
      "    return _methods._mean(a, axis=axis, dtype=dtype,\n",
      "  File \"/Users/wilfredysantamariaruiz/opt/anaconda3/envs/my_env1/lib/python3.10/site-packages/numpy/core/_methods.py\", line 179, in _mean\n",
      "    ret = umr_sum(arr, axis, dtype, out, keepdims, where=where)\n",
      "TypeError: can only concatenate str (not \"int\") to str\n"
     ]
    },
    {
     "name": "stderr",
     "output_type": "stream",
     "text": [
      "2023-11-29 19:31:16,046 - ERROR    - Exception occurred while processing request: can only concatenate str (not \"int\") to str\n",
      "Traceback (most recent call last):\n",
      "  File \"/Users/wilfredysantamariaruiz/opt/anaconda3/envs/my_env1/lib/python3.10/site-packages/dtale/views.py\", line 119, in _handle_exceptions\n",
      "    return func(*args, **kwargs)\n",
      "  File \"/Users/wilfredysantamariaruiz/opt/anaconda3/envs/my_env1/lib/python3.10/site-packages/dtale/views.py\", line 4269, in build_gage_rnr\n",
      "    ).calculate()\n",
      "  File \"/Users/wilfredysantamariaruiz/opt/anaconda3/envs/my_env1/lib/python3.10/site-packages/dtale/gage_rnr.py\", line 135, in calculate\n",
      "    self.result[Result.Mean] = self.calculate_mean()\n",
      "  File \"/Users/wilfredysantamariaruiz/opt/anaconda3/envs/my_env1/lib/python3.10/site-packages/dtale/gage_rnr.py\", line 78, in calculate_mean\n",
      "    mu = np.array([np.mean(self.data)])\n",
      "  File \"<__array_function__ internals>\", line 180, in mean\n",
      "  File \"/Users/wilfredysantamariaruiz/opt/anaconda3/envs/my_env1/lib/python3.10/site-packages/numpy/core/fromnumeric.py\", line 3474, in mean\n",
      "    return _methods._mean(a, axis=axis, dtype=dtype,\n",
      "  File \"/Users/wilfredysantamariaruiz/opt/anaconda3/envs/my_env1/lib/python3.10/site-packages/numpy/core/_methods.py\", line 179, in _mean\n",
      "    ret = umr_sum(arr, axis, dtype, out, keepdims, where=where)\n",
      "TypeError: can only concatenate str (not \"int\") to str\n",
      "/Users/wilfredysantamariaruiz/opt/anaconda3/envs/my_env1/lib/python3.10/site-packages/dtale/gage_rnr.py:212: RuntimeWarning:\n",
      "\n",
      "invalid value encountered in double_scalars\n",
      "\n",
      "/Users/wilfredysantamariaruiz/opt/anaconda3/envs/my_env1/lib/python3.10/site-packages/dtale/column_builders.py:1188: FutureWarning:\n",
      "\n",
      "The default value of regex will change from True to False in a future version.\n",
      "\n",
      "/Users/wilfredysantamariaruiz/opt/anaconda3/envs/my_env1/lib/python3.10/site-packages/dtale/column_builders.py:1150: FutureWarning:\n",
      "\n",
      "The default value of regex will change from True to False in a future version.\n",
      "\n",
      "2023-11-29 19:34:53,169 - ERROR    - Exception occurred while processing request: A column named 'test2' already exists!\n",
      "Traceback (most recent call last):\n",
      "  File \"/Users/wilfredysantamariaruiz/opt/anaconda3/envs/my_env1/lib/python3.10/site-packages/dtale/views.py\", line 119, in _handle_exceptions\n",
      "    return func(*args, **kwargs)\n",
      "  File \"/Users/wilfredysantamariaruiz/opt/anaconda3/envs/my_env1/lib/python3.10/site-packages/dtale/views.py\", line 1837, in build_column\n",
      "    raise Exception(\"A column named '{}' already exists!\".format(name))\n",
      "Exception: A column named 'test2' already exists!\n",
      "/Users/wilfredysantamariaruiz/opt/anaconda3/envs/my_env1/lib/python3.10/site-packages/dtale/column_builders.py:1188: FutureWarning:\n",
      "\n",
      "The default value of regex will change from True to False in a future version.\n",
      "\n",
      "/Users/wilfredysantamariaruiz/opt/anaconda3/envs/my_env1/lib/python3.10/site-packages/dtale/column_builders.py:1150: FutureWarning:\n",
      "\n",
      "The default value of regex will change from True to False in a future version.\n",
      "\n"
     ]
    }
   ],
   "source": [
    "dtale.show(df)"
   ]
  },
  {
   "cell_type": "code",
   "execution_count": null,
   "id": "d712b7ae",
   "metadata": {},
   "outputs": [],
   "source": []
  }
 ],
 "metadata": {
  "kernelspec": {
   "display_name": "Python 3 (ipykernel)",
   "language": "python",
   "name": "python3"
  },
  "language_info": {
   "codemirror_mode": {
    "name": "ipython",
    "version": 3
   },
   "file_extension": ".py",
   "mimetype": "text/x-python",
   "name": "python",
   "nbconvert_exporter": "python",
   "pygments_lexer": "ipython3",
   "version": "3.10.4"
  }
 },
 "nbformat": 4,
 "nbformat_minor": 5
}
