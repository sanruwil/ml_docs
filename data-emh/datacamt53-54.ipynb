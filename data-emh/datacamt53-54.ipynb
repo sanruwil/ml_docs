{
 "cells": [
  {
   "attachments": {},
   "cell_type": "markdown",
   "id": "909626a3",
   "metadata": {},
   "source": [
    "# Mensaje Camt54 Semilla ToSwift"
   ]
  },
  {
   "cell_type": "code",
   "execution_count": 12,
   "id": "b0b098c5",
   "metadata": {},
   "outputs": [],
   "source": [
    "camt54='[{\"bicReceiver\":\"RGIOMXMTXXX\",\"DNSender\":\"ou=xxx,o=rgiomxmt,o=swift\",\"ntfctn\":[{\"id\":\"camt54t1\",\"acct\":{\"ccy\":\"1\",\"id\":{\"othr\":{\"id\":\"CT123456789\"}}},\"ntry\":[{\"ntryDtls\":[{\"txDtls\":[{\"rltdPties\":{\"dbtr\":{\"pty\":{\"nm\":\"A Debiter\"}}},\"refs\":{\"uetr\":\"8a562c67-ca16-48ba-b074-65581be6f007\",\"instrId\":\"cmt054bizmsgidr-007\",\"endToEndId\":\"pacs008EndToEndId-007\"},\"rltdAgts\":{\"intrmyAgt1\":{\"finInstnId\":{\"bicfi\":\"RBOSGB2L\"}}},\"amt\":{\"ccy\":\"1\",\"value\":\"9.10\"},\"rltdDts\":{\"intrBkSttlmDt\":\"1657831985428\"},\"addtlTxInf\":\"Informacion adicional de pruebas\",\"cdtDbtInd\":\"DBIT\",\"rltdRmtInf\":[{\"rmtId\":\"Invoice: 456-9663\"}]}]}],\"sts\":{\"cd\":\"BOOK\"},\"ntryRef\":\"cmt054NtryRef10\",\"bkTxCd\":{\"domn\":{\"cd\":\"PMNT\",\"fmly\":{\"cd\":\"ICDT\",\"subFmlyCd\":\"XBCT\"}}},\"amt\":{\"ccy\":\"1\",\"value\":\"9.10\"},\"valDt\":{\"dt\":\"1657831985428\"},\"cdtDbtInd\":\"DBIT\"}]}],\"grpHdr\":{\"msgId\":\"test01\",\"creDtTm\":\"1657831985428\"}}]'"
   ]
  },
  {
   "attachments": {},
   "cell_type": "markdown",
   "id": "0b75dd3f",
   "metadata": {},
   "source": [
    "# Generar mensajes"
   ]
  },
  {
   "cell_type": "code",
   "execution_count": 27,
   "id": "5eecb15c",
   "metadata": {},
   "outputs": [],
   "source": [
    "import random\n"
   ]
  },
  {
   "cell_type": "code",
   "execution_count": 28,
   "id": "53e5e9a6",
   "metadata": {},
   "outputs": [],
   "source": [
    "for i in range(1, 10000):\n",
    "    idtx=\"camt53t00\"+str(i)\n",
    "    idmsg=\"test00\"+str(i)\n",
    "    cta=\"AHO00\"+str(i)\n",
    "    amount = str(round(random.uniform(1.10, 10.5),2))\n",
    "    newmsg=camt54.replace(\"camt54t1\", idtx)\n",
    "    newmsg=newmsg.replace(\"test01\", idmsg)\n",
    "    newmsg=newmsg.replace(\"CT123456789\", cta)\n",
    "    newmsg=newmsg.replace(\"9.10\", amount)\n",
    "    namefile=\"camt54\"+str(i)+\".json\"\n",
    "    f = open ('/Users/wilfredysantamariaruiz/Downloads/ex/'+namefile,'w')\n",
    "    f.write(newmsg)\n",
    "    f.close()"
   ]
  },
  {
   "cell_type": "code",
   "execution_count": 22,
   "id": "c549bd28",
   "metadata": {},
   "outputs": [],
   "source": [
    "camt53='[{\"bicContraparte\":\"RGIOMXMTXXX\",\"grpHdr\":{\"msgId\":\"NDM_TEST001\",\"creDtTm\":\"1656439323000\"},\"dnContraparte\":\"ou=xxx,o=rgiomxmt,o=swift\",\"stmt\":[{\"id\":\"2022-06-28T17:04:20000000505912219\",\"elctrncSeqNb\":\"0\",\"bal\":[{\"dt\":\"1655787600000\",\"amt\":{\"ccy\":\"2\",\"value\":\"40000.86\"},\"tp\":{\"cdOrPrtry\":{\"cd\":\"OPBD\"}},\"cdtDbtInd\":\"CRDT\"},{\"dt\":\"1655787600000\",\"amt\":{\"ccy\":\"2\",\"value\":\"40000.61\"},\"tp\":{\"cdOrPrtry\":{\"cd\":\"CLBD\"}},\"cdtDbtInd\":\"CRDT\"},{\"dt\":\"1655787600000\",\"amt\":{\"ccy\":\"2\",\"value\":\"40000.86\"},\"tp\":{\"cdOrPrtry\":{\"cd\":\"OPAV\"}},\"cdtDbtInd\":\"CRDT\"},{\"dt\":\"1655787600000\",\"amt\":{\"ccy\":\"2\",\"value\":\"40000.61\"},\"tp\":{\"cdOrPrtry\":{\"cd\":\"FWAV\"}},\"cdtDbtInd\":\"CRDT\"},{\"dt\":\"1655787600000\",\"amt\":{\"ccy\":\"2\",\"value\":\"40000.61\"},\"tp\":{\"cdOrPrtry\":{\"cd\":\"CLAV\"}},\"cdtDbtInd\":\"CRDT\"}],\"acct\":{\"ccy\":\"2\",\"ownr\":{\"nm\":\"Banco Regi SA Ins\"},\"id\":{\"othr\":{\"id\":\"000000505912219\"}}},\"ntry\":[{\"bkTxCdRec\":{\"domn\":{\"cd\":\"PMNT\",\"fmly\":{\"cd\":\"RCDT\",\"subFmlyCd\":\"DMCT\"}}},\"ntryDtls\":[{\"txDtls\":[{\"rltdPties\":{\"dbtr\":{\"pty\":{\"nm\":\"BANCO REGIONAL, SA, INST DE BANCA MULT,BANREGIO GRUPO FINANCIERO AV VASCONCELOS 142 OT COL DEL VALLESAN PEDRO GARZA, MONTERREY, MX\"}}},\"refs\":{\"clrSysRef\":\"854315\",\"acctSvcrRef\":\"1949440172FC\",\"endToEndId\":\"2022062100465650\"},\"amt\":{\"ccy\":\"2\",\"value\":\"16400000.00\"},\"cdtDbtInd\":\"CRDT\"}]}],\"sts\":{\"cd\":\"BOOK\"},\"bookgDt\":\"1655787600000\",\"ntryRef\":\"360287087378\",\"acctSvcrRef\":\"1949440172FC\",\"amt\":{\"ccy\":\"2\",\"value\":\"16400000.00\"},\"valDt\":\"1655787600000\",\"cdtDbtInd\":\"CRDT\"},{\"bkTxCdRec\":{\"domn\":{\"cd\":\"PMNT\",\"fmly\":{\"cd\":\"RCDT\",\"subFmlyCd\":\"DMCT\"}}},\"ntryDtls\":[{\"txDtls\":[{\"rltdPties\":{\"dbtr\":{\"pty\":{\"nm\":\"STEEL MONT TRADING DWC-LLC OFFICE 467 BUILDING E BUS PARK DUBAI WORLD CENTRAL PO BO UAE\"}}},\"refs\":{\"acctSvcrRef\":\"6912433172FS\",\"endToEndId\":\"TRF\"},\"amt\":{\"ccy\":\"2\",\"value\":\"273514.45\"},\"cdtDbtInd\":\"CRDT\"}]}],\"sts\":{\"cd\":\"BOOK\"},\"bookgDt\":\"1655787600000\",\"ntryRef\":\"360287087379\",\"acctSvcrRef\":\"6912433172FS\",\"amt\":{\"ccy\":\"2\",\"value\":\"273514.45\"},\"valDt\":\"1655787600000\",\"cdtDbtInd\":\"CRDT\"},{\"bkTxCdRec\":{\"domn\":{\"cd\":\"PMNT\",\"fmly\":{\"cd\":\"RCDT\",\"subFmlyCd\":\"DMCT\"}}},\"ntryDtls\":[{\"txDtls\":[{\"rltdPties\":{\"dbtr\":{\"pty\":{\"nm\":\"PURELAND CONCEPTS,INC. 8432 PEPPERWOOD CIR WESTMINSTER CA 92683-6330 US\"}}},\"refs\":{\"acctSvcrRef\":\"3517992172ES\",\"endToEndId\":\"IBG OF 22\"},\"amt\":{\"ccy\":\"2\",\"value\":\"85000.00\"},\"cdtDbtInd\":\"CRDT\"}]}],\"sts\":{\"cd\":\"BOOK\"},\"bookgDt\":\"1655787600000\",\"ntryRef\":\"360287087380\",\"acctSvcrRef\":\"3517992172ES\",\"amt\":{\"ccy\":\"2\",\"value\":\"85000.00\"},\"valDt\":\"1655787600000\",\"cdtDbtInd\":\"CRDT\"},{\"bkTxCdRec\":{\"domn\":{\"cd\":\"PMNT\",\"fmly\":{\"cd\":\"RCDT\",\"subFmlyCd\":\"DMCT\"}}},\"ntryDtls\":[{\"txDtls\":[{\"rltdPties\":{\"dbtr\":{\"pty\":{\"nm\":\"ABA/061112843 UNITED COMMUNITY BANK BLAIRSVILLE GA US\"}}},\"refs\":{\"acctSvcrRef\":\"7073900172HH\",\"endToEndId\":\"JPM220621-002890\"},\"amt\":{\"ccy\":\"2\",\"value\":\"82645.00\"},\"cdtDbtInd\":\"CRDT\"}]}],\"sts\":{\"cd\":\"BOOK\"},\"bookgDt\":\"1655787600000\",\"ntryRef\":\"360287087381\",\"acctSvcrRef\":\"7073900172HH\",\"amt\":{\"ccy\":\"2\",\"value\":\"82645.00\"},\"valDt\":\"1655787600000\",\"cdtDbtInd\":\"CRDT\"},{\"bkTxCdRec\":{\"domn\":{\"cd\":\"PMNT\",\"fmly\":{\"cd\":\"RCDT\",\"subFmlyCd\":\"DMCT\"}}},\"ntryDtls\":[{\"txDtls\":[{\"rltdPties\":{\"dbtr\":{\"pty\":{\"nm\":\"SAGHAR FANISALEK 1556 S BEVERLY GLEN BLVD LOS ANGELES CA 90024-6156 US\"}}},\"refs\":{\"acctSvcrRef\":\"3668742172ES\",\"endToEndId\":\"DCI OF 22\"},\"amt\":{\"ccy\":\"2\",\"value\":\"45444.93\"},\"cdtDbtInd\":\"CRDT\"}]}],\"sts\":{\"cd\":\"BOOK\"},\"bookgDt\":\"1655787600000\",\"ntryRef\":\"360287087382\",\"acctSvcrRef\":\"3668742172ES\",\"amt\":{\"ccy\":\"2\",\"value\":\"45444.93\"},\"valDt\":\"1655787600000\",\"cdtDbtInd\":\"CRDT\"},{\"bkTxCdRec\":{\"domn\":{\"cd\":\"PMNT\",\"fmly\":{\"cd\":\"RCDT\",\"subFmlyCd\":\"DMCT\"}}},\"ntryDtls\":[{\"txDtls\":[{\"rltdPties\":{\"dbtr\":{\"pty\":{\"nm\":\"LA COSTA SHADE, INC. 2121 ENTERPRISE ST ESCONDIDO CA 92029-2046 US\"}}},\"refs\":{\"acctSvcrRef\":\"3062142172ES\",\"endToEndId\":\"IBG OF 22\"},\"amt\":{\"ccy\":\"2\",\"value\":\"38432.01\"},\"cdtDbtInd\":\"CRDT\"}]}],\"sts\":{\"cd\":\"BOOK\"},\"bookgDt\":\"1655787600000\",\"ntryRef\":\"360287087384\",\"acctSvcrRef\":\"3062142172ES\",\"amt\":{\"ccy\":\"2\",\"value\":\"38432.01\"},\"valDt\":\"1655787600000\",\"cdtDbtInd\":\"CRDT\"},{\"bkTxCdRec\":{\"domn\":{\"cd\":\"PMNT\",\"fmly\":{\"cd\":\"RCDT\",\"subFmlyCd\":\"DMCT\"}}},\"ntryDtls\":[{\"txDtls\":[{\"rltdPties\":{\"dbtr\":{\"pty\":{\"nm\":\"HEYCO AUTOMATED SOLUTIONS, LLC 12351 PASEO NUEVO DR STE B EL PASO TX 79928-5699 US\"}}},\"refs\":{\"acctSvcrRef\":\"3372872172ES\",\"endToEndId\":\"IBG OF 22\"},\"amt\":{\"ccy\":\"2\",\"value\":\"35000.00\"},\"cdtDbtInd\":\"CRDT\"}]}],\"sts\":{\"cd\":\"BOOK\"},\"bookgDt\":\"1655787600000\",\"ntryRef\":\"360287087385\",\"acctSvcrRef\":\"3372872172ES\",\"amt\":{\"ccy\":\"2\",\"value\":\"35000.00\"},\"valDt\":\"1655787600000\",\"cdtDbtInd\":\"CRDT\"},{\"bkTxCdRec\":{\"domn\":{\"cd\":\"PMNT\",\"fmly\":{\"cd\":\"RCDT\",\"subFmlyCd\":\"DMCT\"}}},\"ntryDtls\":[{\"txDtls\":[{\"rltdPties\":{\"dbtr\":{\"pty\":{\"nm\":\"GREENPRINT LLC 8 THE INLT CORONADO CA 92118-3227 US\"}}},\"refs\":{\"acctSvcrRef\":\"3387262172ES\",\"endToEndId\":\"IBG OF 22\"},\"amt\":{\"ccy\":\"2\",\"value\":\"32422.08\"},\"cdtDbtInd\":\"CRDT\"}]}],\"sts\":{\"cd\":\"BOOK\"},\"bookgDt\":\"1655787600000\",\"ntryRef\":\"360287087387\",\"acctSvcrRef\":\"3387262172ES\",\"amt\":{\"ccy\":\"2\",\"value\":\"32422.08\"},\"valDt\":\"1655787600000\",\"cdtDbtInd\":\"CRDT\"},{\"bkTxCdRec\":{\"domn\":{\"cd\":\"PMNT\",\"fmly\":{\"cd\":\"RCDT\",\"subFmlyCd\":\"DMCT\"}}},\"ntryDtls\":[{\"txDtls\":[{\"rltdPties\":{\"dbtr\":{\"pty\":{\"nm\":\"HUBBELL POWER SYSTEMS, INC. 40 WATERVIEW DR SHELTON CT 06484-4300 US\"}}},\"refs\":{\"acctSvcrRef\":\"6371900172JO\",\"endToEndId\":\"2000696894\"},\"amt\":{\"ccy\":\"2\",\"value\":\"31471.03\"},\"cdtDbtInd\":\"CRDT\"}]}],\"sts\":{\"cd\":\"BOOK\"},\"bookgDt\":\"1655787600000\",\"ntryRef\":\"360287087388\",\"acctSvcrRef\":\"6371900172JO\",\"amt\":{\"ccy\":\"2\",\"value\":\"31471.03\"},\"valDt\":\"1655787600000\",\"cdtDbtInd\":\"CRDT\"},{\"bkTxCdRec\":{\"domn\":{\"cd\":\"PMNT\",\"fmly\":{\"cd\":\"RCDT\",\"subFmlyCd\":\"DMCT\"}}},\"ntryDtls\":[{\"txDtls\":[{\"rltdPties\":{\"dbtr\":{\"pty\":{\"nm\":\"3M PURIFICATION INC CONCENTRATION ACCOUNT 3M CENTER 224 6S 23 SAINT PAUL MN 55133-0001 US\"}}},\"refs\":{\"acctSvcrRef\":\"6778300172JO\",\"endToEndId\":\"NONREF\"},\"amt\":{\"ccy\":\"2\",\"value\":\"29267.00\"},\"cdtDbtInd\":\"CRDT\"}]}],\"sts\":{\"cd\":\"BOOK\"},\"bookgDt\":\"1655787600000\",\"ntryRef\":\"360287087389\",\"acctSvcrRef\":\"6778300172JO\",\"amt\":{\"ccy\":\"2\",\"value\":\"29267.00\"},\"valDt\":\"1655787600000\",\"cdtDbtInd\":\"CRDT\"},{\"bkTxCdRec\":{\"domn\":{\"cd\":\"PMNT\",\"fmly\":{\"cd\":\"RCDT\",\"subFmlyCd\":\"DMCT\"}}},\"ntryDtls\":[{\"txDtls\":[{\"rltdPties\":{\"dbtr\":{\"pty\":{\"nm\":\"1/ITALHIDE S.P.A. 2/VIA MAURO MACCHI 35 3/IT/20124 MILANO\"}}},\"refs\":{\"acctSvcrRef\":\"9448864168FS\",\"endToEndId\":\"H067017622134582\"},\"amt\":{\"ccy\":\"2\",\"value\":\"28073.27\"},\"cdtDbtInd\":\"CRDT\"}]}],\"sts\":{\"cd\":\"BOOK\"},\"bookgDt\":\"1655787600000\",\"ntryRef\":\"360287087390\",\"acctSvcrRef\":\"9448864168FS\",\"amt\":{\"ccy\":\"2\",\"value\":\"28073.27\"},\"valDt\":\"1655787600000\",\"cdtDbtInd\":\"CRDT\"},{\"bkTxCdRec\":{\"domn\":{\"cd\":\"PMNT\",\"fmly\":{\"cd\":\"RCDT\",\"subFmlyCd\":\"DMCT\"}}},\"ntryDtls\":[{\"txDtls\":[{\"rltdPties\":{\"dbtr\":{\"pty\":{\"nm\":\"JOHN DEERE MEXICO S.A.R.L. JOHN DEERE MEXICO S.A.R.L 43 AVENUE JOHN F. KENNEDY LUXEMBOURG LUXEMBOURG L-185-5 LU\"}}},\"refs\":{\"acctSvcrRef\":\"6544400172JO\",\"endToEndId\":\"M3002000050091\"},\"amt\":{\"ccy\":\"2\",\"value\":\"25077.36\"},\"cdtDbtInd\":\"CRDT\"}]}],\"sts\":{\"cd\":\"BOOK\"},\"bookgDt\":\"1655787600000\",\"ntryRef\":\"360287087391\",\"acctSvcrRef\":\"6544400172JO\",\"amt\":{\"ccy\":\"2\",\"value\":\"25077.36\"},\"valDt\":\"1655787600000\",\"cdtDbtInd\":\"CRDT\"},{\"bkTxCdRec\":{\"domn\":{\"fmly\":{}}},\"ntryDtls\":[{\"txDtls\":[{\"rltdPties\":{\"dbtr\":{\"pty\":{\"nm\":\"LION SUPPLY S A DE C V FIDENCIO TREJO NO 33 COL GUILLERMO GUAJAR DO C P 87447 MATAMOROS TAMAULI PAS MEXICO\"}}},\"refs\":{\"clrSysRef\":\"0621B1QGC03C003393\",\"acctSvcrRef\":\"0830994172FS\",\"endToEndId\":\"DCRAKS3KVZ0100\"},\"amt\":{\"ccy\":\"2\",\"value\":\"326826.30\"},\"cdtDbtInd\":\"DBIT\"}]}],\"sts\":{\"cd\":\"BOOK\"},\"bookgDt\":\"1655787600000\",\"ntryRef\":\"360287087472\",\"acctSvcrRef\":\"0830994172FS\",\"bkTxCd\":\"007\",\"amt\":{\"ccy\":\"2\",\"value\":\"326826.30\"},\"valDt\":\"1655787600000\",\"cdtDbtInd\":\"DBIT\"},{\"bkTxCdRec\":{\"domn\":{\"fmly\":{}}},\"ntryDtls\":[{\"txDtls\":[{\"rltdPties\":{\"dbtr\":{\"pty\":{\"nm\":\"DISTRIBUIDORA ESPECIALIZADA EN ALIMENTOS DE LA BAJ BLVD VIA RAPIDA 15 330 3 MZ 10 LT NO 203 COL LOS ALA MOS C P 22110 TIJUANA BAJA CAL\"}}},\"refs\":{\"clrSysRef\":\"0621B1QGC04C003051\",\"acctSvcrRef\":\"4485079172FS\",\"endToEndId\":\"71001986660100\"},\"amt\":{\"ccy\":\"2\",\"value\":\"127017.78\"},\"cdtDbtInd\":\"DBIT\"}]}],\"sts\":{\"cd\":\"BOOK\"},\"bookgDt\":\"1655787600000\",\"ntryRef\":\"360287087469\",\"acctSvcrRef\":\"4485079172FS\",\"bkTxCd\":\"007\",\"amt\":{\"ccy\":\"2\",\"value\":\"127017.78\"},\"valDt\":\"1655787600000\",\"cdtDbtInd\":\"DBIT\"},{\"bkTxCdRec\":{\"domn\":{\"fmly\":{}}},\"ntryDtls\":[{\"txDtls\":[{\"rltdPties\":{\"dbtr\":{\"pty\":{\"nm\":\"JOSE LUIS GUERRERO HURTADO BLVD LA ZARO CARDENAS NO 1500 COL DEL RAS TRO C P 21090 MEXICALI BAJA CA LIFORNIA MEXICO\"}}},\"refs\":{\"clrSysRef\":\"0621B1QGC02C002996\",\"acctSvcrRef\":\"6750455172FS\",\"endToEndId\":\"71006747230100\"},\"amt\":{\"ccy\":\"2\",\"value\":\"72697.01\"},\"cdtDbtInd\":\"DBIT\"}]}],\"sts\":{\"cd\":\"BOOK\"},\"bookgDt\":\"1655787600000\",\"ntryRef\":\"360287087700\",\"acctSvcrRef\":\"6750455172FS\",\"bkTxCd\":\"007\",\"amt\":{\"ccy\":\"2\",\"value\":\"72697.01\"},\"valDt\":\"1655787600000\",\"cdtDbtInd\":\"DBIT\"},{\"bkTxCdRec\":{\"domn\":{\"fmly\":{}}},\"ntryDtls\":[{\"txDtls\":[{\"rltdPties\":{\"dbtr\":{\"pty\":{\"nm\":\"MOLDES Y PLASTICOS DE MONTERREY S A DE C V LAZARO CARDENAS PTE NO 265 COL ZAPATA C P 64390 MONTE RREY NUEVO LEON MEXICO\"}}},\"refs\":{\"clrSysRef\":\"0621B1QGC03C001083\",\"acctSvcrRef\":\"5976903172FS\",\"endToEndId\":\"821924580100\"},\"amt\":{\"ccy\":\"2\",\"value\":\"122290.93\"},\"cdtDbtInd\":\"DBIT\"}]}],\"sts\":{\"cd\":\"BOOK\"},\"bookgDt\":\"1655787600000\",\"ntryRef\":\"360287087832\",\"acctSvcrRef\":\"5976903172FS\",\"bkTxCd\":\"007\",\"amt\":{\"ccy\":\"2\",\"value\":\"122290.93\"},\"valDt\":\"1655787600000\",\"cdtDbtInd\":\"DBIT\"}]}]}]'"
   ]
  },
  {
   "cell_type": "code",
   "execution_count": 23,
   "id": "2e03b5a4",
   "metadata": {},
   "outputs": [],
   "source": [
    "for i in range(1, 10000):\n",
    "    idmsg=\"test00\"+str(i)\n",
    "    cta=\"AHO00\"+str(i)\n",
    "    newmsg53=camt53.replace(\"NDM_TEST001\", idmsg)\n",
    "    newmsg53=newmsg53.replace(\"000000505912219\", cta)\n",
    "    namefile=\"camt53\"+str(i)+\".json\"\n",
    "    f = open ('/Users/wilfredysantamariaruiz/Downloads/ex/'+namefile,'w')\n",
    "    f.write(newmsg53)\n",
    "    f.close()"
   ]
  }
 ],
 "metadata": {
  "interpreter": {
   "hash": "e66baa19eece89ec8e1ddb48cef24b215463fe6d0091fa93d6e1ff8ec91615e0"
  },
  "kernelspec": {
   "display_name": "Python 3 (ipykernel)",
   "language": "python",
   "name": "python3"
  },
  "language_info": {
   "codemirror_mode": {
    "name": "ipython",
    "version": 3
   },
   "file_extension": ".py",
   "mimetype": "text/x-python",
   "name": "python",
   "nbconvert_exporter": "python",
   "pygments_lexer": "ipython3",
   "version": "3.10.4"
  }
 },
 "nbformat": 4,
 "nbformat_minor": 5
}
